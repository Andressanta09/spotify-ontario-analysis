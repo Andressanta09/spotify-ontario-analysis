{
 "cells": [
  {
   "cell_type": "markdown",
   "id": "418938cc",
   "metadata": {},
   "source": [
    "# Spotify Ontario Data Collection\n",
    "\n",
    "This notebook is responsible for collecting data from Spotify's API focusing on Ontario-based playlists and tracks. We'll set up the authentication, create data collection functions, and store the raw data for further processing."
   ]
  },
  {
   "cell_type": "markdown",
   "id": "6bc010ba",
   "metadata": {},
   "source": [
    "## Setup Environment and Authentication\n",
    "\n",
    "First, we'll set up our environment by importing required libraries and configuring the Spotify API authentication."
   ]
  },
  {
   "cell_type": "code",
   "execution_count": 1,
   "id": "9d8db4a3",
   "metadata": {},
   "outputs": [
    {
     "name": "stdout",
     "output_type": "stream",
     "text": [
      "Python path: c:\\Users\\felip\\Documents\\DSMM_TERM_4\\Project_Week_2\\spotify-ontario-analysis\\venv\\Scripts\\python.exe\n",
      "Python version: 3.10.0 (tags/v3.10.0:b494f59, Oct  4 2021, 19:00:18) [MSC v.1929 64 bit (AMD64)]\n"
     ]
    }
   ],
   "source": [
    "# Import required libraries\n",
    "import os\n",
    "import sys\n",
    "import json\n",
    "import time\n",
    "import pandas as pd\n",
    "from datetime import datetime\n",
    "from dotenv import load_dotenv\n",
    "import spotipy\n",
    "from spotipy.oauth2 import SpotifyClientCredentials\n",
    "\n",
    "print(\"Python path:\", sys.executable)\n",
    "print(\"Python version:\", sys.version)"
   ]
  },
  {
   "cell_type": "code",
   "execution_count": 2,
   "id": "1ed208d9",
   "metadata": {},
   "outputs": [
    {
     "name": "stdout",
     "output_type": "stream",
     "text": [
      "✅ Spotify API connection successful\n"
     ]
    }
   ],
   "source": [
    "# Load environment variables\n",
    "load_dotenv()\n",
    "\n",
    "def test_spotify_connection():\n",
    "    \"\"\"Test the Spotify API connection and credentials\"\"\"\n",
    "    try:\n",
    "        # Test with a simple search\n",
    "        test_results = sp.search(q='test', type='track', limit=1)\n",
    "        if test_results and 'tracks' in test_results:\n",
    "            print(\"✅ Spotify API connection successful\")\n",
    "            return True\n",
    "        else:\n",
    "            print(\"❌ API response format unexpected\")\n",
    "            print(\"Response:\", test_results)\n",
    "            return False\n",
    "    except Exception as e:\n",
    "        print(\"❌ Spotify API connection failed\")\n",
    "        print(\"Error:\", str(e))\n",
    "        return False\n",
    "\n",
    "# Configure Spotify client\n",
    "client_credentials_manager = SpotifyClientCredentials(\n",
    "    client_id=os.getenv('SPOTIFY_CLIENT_ID'),\n",
    "    client_secret=os.getenv('SPOTIFY_CLIENT_SECRET')\n",
    ")\n",
    "sp = spotipy.Spotify(client_credentials_manager=client_credentials_manager)\n",
    "\n",
    "# Test connection\n",
    "if not test_spotify_connection():\n",
    "    raise Exception(\"Failed to connect to Spotify API. Please check your credentials.\")"
   ]
  },
  {
   "cell_type": "markdown",
   "id": "31b23c3d",
   "metadata": {},
   "source": [
    "## Create Data Collection Functions\n",
    "\n",
    "We'll define helper functions to collect playlist data, track information, and audio features from Spotify API."
   ]
  },
  {
   "cell_type": "code",
   "execution_count": 3,
   "id": "3928176c",
   "metadata": {},
   "outputs": [],
   "source": [
    "def handle_rate_limit():\n",
    "    \"\"\"Handle rate limiting by adding delays\"\"\"\n",
    "    time.sleep(2)  # Base delay between requests\n",
    "\n",
    "def log_failed_ids(track_ids, reason):\n",
    "    \"\"\"Log failed track IDs to a file with timestamp and reason\"\"\"\n",
    "    timestamp = datetime.now().strftime('%Y%m%d_%H%M%S')\n",
    "    log_dir = os.path.join('..', 'logs')\n",
    "    os.makedirs(log_dir, exist_ok=True)\n",
    "    \n",
    "    log_file = os.path.join(log_dir, 'failed_ids.log')\n",
    "    with open(log_file, 'a') as f:\n",
    "        f.write(f\"\\n=== Failed tracks at {timestamp} ===\\n\")\n",
    "        f.write(f\"Reason: {reason}\\n\")\n",
    "        for track_id in track_ids:\n",
    "            f.write(f\"{track_id}\\n\")\n",
    "        f.write(\"=\" * 50 + \"\\n\")\n",
    "\n",
    "def retry_auth():\n",
    "    \"\"\"Retry authentication with new token\"\"\"\n",
    "    try:\n",
    "        print(\"🔄 Refreshing authentication token...\")\n",
    "        client_credentials_manager = SpotifyClientCredentials(\n",
    "            client_id=os.getenv('SPOTIFY_CLIENT_ID'),\n",
    "            client_secret=os.getenv('SPOTIFY_CLIENT_SECRET')\n",
    "        )\n",
    "        global sp\n",
    "        sp = spotipy.Spotify(client_credentials_manager=client_credentials_manager)\n",
    "        return True\n",
    "    except Exception as e:\n",
    "        print(f\"❌ Failed to refresh token: {str(e)}\")\n",
    "        return False\n",
    "\n",
    "def get_single_track_features(track_id):\n",
    "    \"\"\"Get audio features for a single track with error handling\"\"\"\n",
    "    try:\n",
    "        handle_rate_limit()\n",
    "        features = sp.audio_features([track_id])\n",
    "        if features and features[0]:\n",
    "            return features[0]\n",
    "    except Exception as e:\n",
    "        print(f\"❌ Failed to get features for track {track_id}: {str(e)}\")\n",
    "    return None\n",
    "\n",
    "def get_audio_features(track_ids):\n",
    "    \"\"\"\n",
    "    Get audio features for a list of tracks with improved error handling and recovery\n",
    "    \"\"\"\n",
    "    if not track_ids:\n",
    "        return []\n",
    "    \n",
    "    # Convert set to list if needed\n",
    "    track_ids = list(track_ids)\n",
    "    chunks = [track_ids[i:i + 10] for i in range(0, len(track_ids), 10)]\n",
    "    \n",
    "    audio_features = []\n",
    "    failed_ids = set()\n",
    "    total_chunks = len(chunks)\n",
    "    processed = 0\n",
    "    \n",
    "    print(f\"\\n=== Starting Audio Features Collection ===\")\n",
    "    print(f\"Total tracks to process: {len(track_ids)} in {total_chunks} chunks\")\n",
    "    \n",
    "    for i, chunk in enumerate(chunks, 1):\n",
    "        retry_count = 0\n",
    "        max_retries = 3\n",
    "        \n",
    "        while retry_count < max_retries:\n",
    "            try:\n",
    "                print(f\"\\nProcessing chunk {i}/{total_chunks} ({len(chunk)} tracks)\")\n",
    "                handle_rate_limit()\n",
    "                features = sp.audio_features(chunk)\n",
    "                \n",
    "                if features and any(features):\n",
    "                    valid_features = [f for f in features if f is not None]\n",
    "                    audio_features.extend(valid_features)\n",
    "                    processed += len(valid_features)\n",
    "                    \n",
    "                    # Track failed IDs in this chunk\n",
    "                    if len(valid_features) < len(chunk):\n",
    "                        failed_in_chunk = set(chunk) - {f['id'] for f in valid_features}\n",
    "                        failed_ids.update(failed_in_chunk)\n",
    "                    \n",
    "                    print(f\"✅ Got {len(valid_features)}/{len(chunk)} features (Total: {processed}/{len(track_ids)} - {processed/len(track_ids)*100:.1f}%)\")\n",
    "                    break  # Success, move to next chunk\n",
    "                \n",
    "                else:\n",
    "                    print(\"⚠️ No valid features in chunk, will retry individual tracks\")\n",
    "                    failed_ids.update(chunk)\n",
    "                    break\n",
    "                    \n",
    "            except Exception as e:\n",
    "                error_msg = str(e).lower()\n",
    "                \n",
    "                if '403' in error_msg or 'forbidden' in error_msg or 'token' in error_msg:\n",
    "                    print(\"🔑 Auth error detected, attempting to refresh token...\")\n",
    "                    if retry_auth():\n",
    "                        retry_count += 1\n",
    "                        continue\n",
    "                    else:\n",
    "                        print(\"❌ Token refresh failed, will try individual tracks\")\n",
    "                        failed_ids.update(chunk)\n",
    "                        break\n",
    "                else:\n",
    "                    print(f\"❌ Error processing chunk: {str(e)}\")\n",
    "                    retry_count += 1\n",
    "                    if retry_count < max_retries:\n",
    "                        print(f\"Retrying in 5 seconds... (Attempt {retry_count + 1}/{max_retries})\")\n",
    "                        time.sleep(5)\n",
    "                    else:\n",
    "                        print(\"Max retries reached, will try individual tracks\")\n",
    "                        failed_ids.update(chunk)\n",
    "                        break\n",
    "    \n",
    "    # Try to recover failed tracks individually\n",
    "    if failed_ids:\n",
    "        print(f\"\\n🔄 Attempting to recover {len(failed_ids)} failed tracks individually...\")\n",
    "        recovered = 0\n",
    "        \n",
    "        for track_id in failed_ids.copy():\n",
    "            feature = get_single_track_features(track_id)\n",
    "            if feature:\n",
    "                audio_features.append(feature)\n",
    "                failed_ids.remove(track_id)\n",
    "                recovered += 1\n",
    "                print(f\"✅ Recovered track {track_id}\")\n",
    "            else:\n",
    "                print(f\"❌ Failed to recover track {track_id}\")\n",
    "        \n",
    "        if recovered:\n",
    "            print(f\"\\n✅ Successfully recovered {recovered} tracks\")\n",
    "    \n",
    "    # Log any remaining failed IDs\n",
    "    if failed_ids:\n",
    "        print(f\"\\n⚠️ Could not process {len(failed_ids)} tracks\")\n",
    "        log_failed_ids(failed_ids, \"Failed after individual recovery attempts\")\n",
    "    \n",
    "    final_success_rate = (len(audio_features) / len(track_ids)) * 100\n",
    "    print(f\"\\n=== Collection Summary ===\")\n",
    "    print(f\"Total tracks processed: {len(audio_features)}/{len(track_ids)} ({final_success_rate:.1f}%)\")\n",
    "    print(f\"Failed tracks: {len(failed_ids)}\")\n",
    "    \n",
    "    return audio_features\n",
    "\n",
    "def search_ontario_playlists(query=\"Ontario\", limit=50):\n",
    "    \"\"\"Search for Ontario-related playlists on Spotify with error handling\"\"\"\n",
    "    try:\n",
    "        handle_rate_limit()\n",
    "        results = sp.search(q=query, type='playlist', limit=limit)\n",
    "        if not results or 'playlists' not in results:\n",
    "            print(\"❌ No results found or invalid response format\")\n",
    "            return []\n",
    "            \n",
    "        items = results['playlists']['items']\n",
    "        if not items:\n",
    "            print(\"ℹ️ No playlists found for query:\", query)\n",
    "            return []\n",
    "            \n",
    "        print(f\"✅ Found {len(items)} playlists\")\n",
    "        return items\n",
    "    except Exception as e:\n",
    "        print(\"❌ Error searching playlists:\", str(e))\n",
    "        return []\n",
    "\n",
    "def get_playlist_tracks(playlist_id):\n",
    "    \"\"\"Get all tracks from a playlist with error handling\"\"\"\n",
    "    try:\n",
    "        handle_rate_limit()\n",
    "        results = sp.playlist_tracks(playlist_id)\n",
    "        if not results or 'items' not in results:\n",
    "            print(f\"❌ Invalid response for playlist {playlist_id}\")\n",
    "            return []\n",
    "            \n",
    "        tracks = results['items']\n",
    "        \n",
    "        while results.get('next'):\n",
    "            try:\n",
    "                handle_rate_limit()\n",
    "                results = sp.next(results)\n",
    "                if results and 'items' in results:\n",
    "                    tracks.extend(results['items'])\n",
    "            except Exception as e:\n",
    "                print(f\"❌ Error fetching next page: {str(e)}\")\n",
    "                break\n",
    "        \n",
    "        print(f\"✅ Retrieved {len(tracks)} tracks from playlist {playlist_id}\")\n",
    "        return tracks\n",
    "    except Exception as e:\n",
    "        print(f\"❌ Error getting tracks for playlist {playlist_id}:\", str(e))\n",
    "        return []\n",
    "\n",
    "def extract_track_info(track_item):\n",
    "    \"\"\"Extract relevant track information from API response with error handling\"\"\"\n",
    "    try:\n",
    "        if not isinstance(track_item, dict) or 'track' not in track_item:\n",
    "            return None\n",
    "            \n",
    "        track = track_item['track']\n",
    "        if not track or not isinstance(track, dict) or 'id' not in track:\n",
    "            return None\n",
    "            \n",
    "        artists = track.get('artists', [])\n",
    "        artist_name = artists[0].get('name', 'Unknown') if artists else 'Unknown'\n",
    "        \n",
    "        album = track.get('album', {})\n",
    "        album_name = album.get('name', 'Unknown')\n",
    "        release_date = album.get('release_date')\n",
    "            \n",
    "        return {\n",
    "            'track_id': track['id'],\n",
    "            'name': track.get('name', 'Unknown'),\n",
    "            'artist': artist_name,\n",
    "            'album': album_name,\n",
    "            'release_date': release_date,\n",
    "            'popularity': track.get('popularity', 0),\n",
    "            'duration_ms': track.get('duration_ms', 0),\n",
    "            'explicit': track.get('explicit', False)\n",
    "        }\n",
    "    except Exception as e:\n",
    "        print(\"❌ Error extracting track info:\", str(e))\n",
    "        return None"
   ]
  },
  {
   "cell_type": "markdown",
   "id": "4c236ab1",
   "metadata": {},
   "source": [
    "## Extract Playlist Data\n",
    "\n",
    "Now we'll use our functions to collect playlist data and track information."
   ]
  },
  {
   "cell_type": "code",
   "execution_count": 4,
   "id": "868a3b25",
   "metadata": {},
   "outputs": [
    {
     "name": "stdout",
     "output_type": "stream",
     "text": [
      "✅ Found 49 playlists\n",
      "✅ Successfully processed 38 playlists\n"
     ]
    }
   ],
   "source": [
    "# Search for Ontario playlists\n",
    "ontario_playlists = search_ontario_playlists()\n",
    "\n",
    "if ontario_playlists:\n",
    "    # Extract basic playlist information\n",
    "    playlists_data = []\n",
    "    for playlist in ontario_playlists:\n",
    "        try:\n",
    "            # Verify that we have a valid playlist dictionary\n",
    "            if not isinstance(playlist, dict):\n",
    "                continue\n",
    "                \n",
    "            # Safely get nested values with fallbacks\n",
    "            owner_info = playlist.get('owner', {})\n",
    "            tracks_info = playlist.get('tracks', {})\n",
    "            followers_info = playlist.get('followers', {})\n",
    "                \n",
    "            playlist_info = {\n",
    "                'playlist_id': playlist.get('id', ''),\n",
    "                'name': playlist.get('name', 'Unknown'),\n",
    "                'description': playlist.get('description', ''),\n",
    "                'owner': owner_info.get('display_name', 'Unknown'),\n",
    "                'tracks_total': tracks_info.get('total', 0),\n",
    "                'followers': followers_info.get('total', 0)\n",
    "            }\n",
    "            \n",
    "            # Only add if we have a valid playlist ID\n",
    "            if playlist_info['playlist_id']:\n",
    "                playlists_data.append(playlist_info)\n",
    "        except Exception as e:\n",
    "            playlist_name = playlist.get('name', 'Unknown') if isinstance(playlist, dict) else 'Unknown'\n",
    "            print(f\"❌ Error processing playlist {playlist_name}: {str(e)}\")\n",
    "            continue\n",
    "\n",
    "    # Convert to DataFrame\n",
    "    playlists_df = pd.DataFrame(playlists_data)\n",
    "    print(f\"✅ Successfully processed {len(playlists_df)} playlists\")\n",
    "else:\n",
    "    print(\"❌ No playlists to process\")\n",
    "    playlists_df = pd.DataFrame()"
   ]
  },
  {
   "cell_type": "code",
   "execution_count": 5,
   "id": "854943d6",
   "metadata": {},
   "outputs": [
    {
     "name": "stdout",
     "output_type": "stream",
     "text": [
      "✅ Retrieved 280 tracks from playlist 3vGg6v4ZaYhhYZOCvXVUCx\n",
      "✅ Retrieved 702 tracks from playlist 7sn0BpUrX5ptjFFzGhRy9Z\n",
      "✅ Retrieved 544 tracks from playlist 5SUabhFE7utj8j7zoBOpVI\n",
      "✅ Retrieved 861 tracks from playlist 32uH7sB8TAl03OtVOUuJzy\n",
      "✅ Retrieved 578 tracks from playlist 5veRytqDxeCebNaaNT5b7S\n",
      "✅ Retrieved 625 tracks from playlist 0myFM9AwR26t2zaX3tjrPW\n",
      "✅ Retrieved 344 tracks from playlist 3n8N9K3Xyxx85nkrQj3HOt\n",
      "✅ Retrieved 290 tracks from playlist 4jLRvvKZ5xKPxdxGrRAL63\n",
      "✅ Retrieved 300 tracks from playlist 6RFzWKNpvGOFcEwZs69XmW\n",
      "✅ Retrieved 151 tracks from playlist 5CciES5SR6E64QLNjcQZG0\n",
      "✅ Retrieved 326 tracks from playlist 43AMl7KE9AdEBoxZSflhQB\n",
      "✅ Retrieved 22 tracks from playlist 2Lne3xKmqPCrcuJqOfQpdr\n",
      "✅ Retrieved 21 tracks from playlist 6hItlHywbIHpv4vLcO3GNl\n",
      "✅ Retrieved 116 tracks from playlist 3UPfuFzaCB3HCSwAOOGVmY\n",
      "✅ Retrieved 10 tracks from playlist 6wT6kcSOKPd88IgmG6Oj8F\n",
      "✅ Retrieved 16 tracks from playlist 66XDl402XcPVosSaF8LONU\n",
      "✅ Retrieved 1071 tracks from playlist 67mcnhrrurfeMnEiu89oXr\n",
      "✅ Retrieved 30 tracks from playlist 6XkbkcnhxAuzgtWOm0kY5H\n",
      "✅ Retrieved 20 tracks from playlist 3Zfc35wXiH2zChgZeYtl6y\n",
      "✅ Retrieved 168 tracks from playlist 2LRjQZ4FPIDXVdpkVcDmoP\n",
      "✅ Retrieved 230 tracks from playlist 1kUT5uMfTt6AhQIBfRWOhf\n",
      "✅ Retrieved 44 tracks from playlist 4tPHXW57dfsKROLFh4CoBA\n",
      "✅ Retrieved 43 tracks from playlist 0PHodDuVbjEC1r0mwdCPj9\n",
      "✅ Retrieved 20 tracks from playlist 0kBJ9ghrDZpqKbYqX9UPMr\n",
      "✅ Retrieved 37 tracks from playlist 3CrfTyvpH4dB686ip73JPd\n",
      "✅ Retrieved 192 tracks from playlist 055fOTo9DL5wfduh6QJ8HG\n",
      "✅ Retrieved 804 tracks from playlist 59PbPJ8chEELm9nyNWYqFb\n",
      "✅ Retrieved 21 tracks from playlist 7aCOInDMmCerHLpG6ZSy7g\n",
      "✅ Retrieved 202 tracks from playlist 0CJ5FUQq903i7lhE8Gg5AM\n",
      "✅ Retrieved 7585 tracks from playlist 5VsA4THlpILvQxwQHavSLn\n",
      "❌ Error getting tracks for playlist 3TmJxSZImycW8GZ26EjxmE: HTTPSConnectionPool(host='api.spotify.com', port=443): Max retries exceeded with url: /v1/playlists/3TmJxSZImycW8GZ26EjxmE/tracks?limit=100&offset=0&additional_types=track (Caused by NameResolutionError(\"<urllib3.connection.HTTPSConnection object at 0x0000017A2D41A950>: Failed to resolve 'api.spotify.com' ([Errno 11001] getaddrinfo failed)\"))\n",
      "❌ Error getting tracks for playlist 37KybDBGcs9Yuiy7vKk29R: HTTPSConnectionPool(host='api.spotify.com', port=443): Max retries exceeded with url: /v1/playlists/37KybDBGcs9Yuiy7vKk29R/tracks?limit=100&offset=0&additional_types=track (Caused by NameResolutionError(\"<urllib3.connection.HTTPSConnection object at 0x0000017A2D41A020>: Failed to resolve 'api.spotify.com' ([Errno 11001] getaddrinfo failed)\"))\n",
      "❌ Error getting tracks for playlist 01MxuF7mTBJUqKze3FV82B: HTTPSConnectionPool(host='api.spotify.com', port=443): Max retries exceeded with url: /v1/playlists/01MxuF7mTBJUqKze3FV82B/tracks?limit=100&offset=0&additional_types=track (Caused by NameResolutionError(\"<urllib3.connection.HTTPSConnection object at 0x0000017A2D41AA70>: Failed to resolve 'api.spotify.com' ([Errno 11001] getaddrinfo failed)\"))\n",
      "❌ Error getting tracks for playlist 2hzDwOSCuQxQxFAiyyQJbL: HTTPSConnectionPool(host='accounts.spotify.com', port=443): Max retries exceeded with url: /api/token (Caused by NameResolutionError(\"<urllib3.connection.HTTPSConnection object at 0x0000017A2D419840>: Failed to resolve 'accounts.spotify.com' ([Errno 11001] getaddrinfo failed)\"))\n",
      "❌ Error getting tracks for playlist 3ipUKQe0oxCyUrSJgdhJLt: HTTPSConnectionPool(host='accounts.spotify.com', port=443): Max retries exceeded with url: /api/token (Caused by NameResolutionError(\"<urllib3.connection.HTTPSConnection object at 0x0000017A2D419330>: Failed to resolve 'accounts.spotify.com' ([Errno 11001] getaddrinfo failed)\"))\n",
      "❌ Error getting tracks for playlist 1igAhGShFCUwmKikegeR1F: HTTPSConnectionPool(host='accounts.spotify.com', port=443): Max retries exceeded with url: /api/token (Caused by NameResolutionError(\"<urllib3.connection.HTTPSConnection object at 0x0000017A2D4195A0>: Failed to resolve 'accounts.spotify.com' ([Errno 11001] getaddrinfo failed)\"))\n",
      "✅ Retrieved 312 tracks from playlist 4asoVXnZZSnf6CB586Wigz\n",
      "✅ Retrieved 130 tracks from playlist 3eyiSKdchzZZnIiuAv3M09\n",
      "✅ Collected 16094 tracks (14910 unique)\n"
     ]
    }
   ],
   "source": [
    "# Collect tracks from each playlist\n",
    "all_tracks = []\n",
    "track_ids = set()\n",
    "\n",
    "if not playlists_df.empty:\n",
    "    for playlist_id in playlists_df['playlist_id']:\n",
    "        tracks = get_playlist_tracks(playlist_id)\n",
    "        \n",
    "        # Extract track information\n",
    "        for item in tracks:\n",
    "            track_info = extract_track_info(item)\n",
    "            if track_info:\n",
    "                track_info['playlist_id'] = playlist_id\n",
    "                all_tracks.append(track_info)\n",
    "                track_ids.add(track_info['track_id'])\n",
    "\n",
    "    # Convert to DataFrame\n",
    "    tracks_df = pd.DataFrame(all_tracks)\n",
    "    print(f\"✅ Collected {len(tracks_df)} tracks ({len(track_ids)} unique)\")\n",
    "else:\n",
    "    print(\"❌ No playlists available to collect tracks from\")\n",
    "    tracks_df = pd.DataFrame()"
   ]
  },
  {
   "cell_type": "code",
   "execution_count": null,
   "id": "94aff218",
   "metadata": {},
   "outputs": [
    {
     "name": "stdout",
     "output_type": "stream",
     "text": [
      "\n",
      "=== Starting Audio Features Collection ===\n",
      "Total unique tracks to process: 14910\n",
      "\n",
      "=== Starting Audio Features Collection ===\n",
      "Total tracks to process: 14910 in 1491 chunks\n",
      "\n",
      "Processing chunk 1/1491 (10 tracks)\n"
     ]
    },
    {
     "name": "stderr",
     "output_type": "stream",
     "text": [
      "HTTP Error for GET to https://api.spotify.com/v1/audio-features/?ids=15uLWl8au1kIyJaCtgKaYI,5SIuyYZIVW9WU90puvFG1x,0QRPnkRK35yM6wYCQ1seo9,02Ya2Q08bBKFqUJvjmyRXK,15JINEqzVMv3SvJTAXAKED,1xEcsGNqeAeeB5Yx2gmFRJ,6EKrBVHDk20hwjYWGPQQlF,7vrwS8Z8JOET8eVpSbAKHM,0N0h5lXc4HOiLgGb9EZi8m,5nHASDdR9qnAzUInjUlzUK with Params: {} returned 403 due to None\n"
     ]
    },
    {
     "name": "stdout",
     "output_type": "stream",
     "text": [
      "🔑 Auth error detected, attempting to refresh token...\n",
      "🔄 Refreshing authentication token...\n",
      "\n",
      "Processing chunk 1/1491 (10 tracks)\n"
     ]
    },
    {
     "name": "stderr",
     "output_type": "stream",
     "text": [
      "HTTP Error for GET to https://api.spotify.com/v1/audio-features/?ids=15uLWl8au1kIyJaCtgKaYI,5SIuyYZIVW9WU90puvFG1x,0QRPnkRK35yM6wYCQ1seo9,02Ya2Q08bBKFqUJvjmyRXK,15JINEqzVMv3SvJTAXAKED,1xEcsGNqeAeeB5Yx2gmFRJ,6EKrBVHDk20hwjYWGPQQlF,7vrwS8Z8JOET8eVpSbAKHM,0N0h5lXc4HOiLgGb9EZi8m,5nHASDdR9qnAzUInjUlzUK with Params: {} returned 403 due to None\n"
     ]
    },
    {
     "name": "stdout",
     "output_type": "stream",
     "text": [
      "🔑 Auth error detected, attempting to refresh token...\n",
      "🔄 Refreshing authentication token...\n",
      "\n",
      "Processing chunk 1/1491 (10 tracks)\n"
     ]
    },
    {
     "name": "stderr",
     "output_type": "stream",
     "text": [
      "HTTP Error for GET to https://api.spotify.com/v1/audio-features/?ids=15uLWl8au1kIyJaCtgKaYI,5SIuyYZIVW9WU90puvFG1x,0QRPnkRK35yM6wYCQ1seo9,02Ya2Q08bBKFqUJvjmyRXK,15JINEqzVMv3SvJTAXAKED,1xEcsGNqeAeeB5Yx2gmFRJ,6EKrBVHDk20hwjYWGPQQlF,7vrwS8Z8JOET8eVpSbAKHM,0N0h5lXc4HOiLgGb9EZi8m,5nHASDdR9qnAzUInjUlzUK with Params: {} returned 403 due to None\n"
     ]
    },
    {
     "name": "stdout",
     "output_type": "stream",
     "text": [
      "🔑 Auth error detected, attempting to refresh token...\n",
      "🔄 Refreshing authentication token...\n",
      "\n",
      "Processing chunk 2/1491 (10 tracks)\n"
     ]
    },
    {
     "name": "stderr",
     "output_type": "stream",
     "text": [
      "HTTP Error for GET to https://api.spotify.com/v1/audio-features/?ids=42et6fnHCw1HIPSrdPprMl,4KGegVWRXvGnvWe1XaKcni,154pg8SEXGabiYKjO8CH9E,6WpTIA7S7XIVAkF7pXSm0Y,20lDIJS9uaHYxjHTsVkETB,7fBt3FgZ2epNs3RDFmUovC,1AX6Qj9QzpnchkwhsAqY3c,1cSzFn8tBOd75LCCHRRll0,5F40csF5DtKOGfEg8vuz1d,7pPD8Pgn3y6i5DMPRFdXvf with Params: {} returned 403 due to None\n"
     ]
    },
    {
     "name": "stdout",
     "output_type": "stream",
     "text": [
      "🔑 Auth error detected, attempting to refresh token...\n",
      "🔄 Refreshing authentication token...\n",
      "\n",
      "Processing chunk 2/1491 (10 tracks)\n"
     ]
    },
    {
     "name": "stderr",
     "output_type": "stream",
     "text": [
      "HTTP Error for GET to https://api.spotify.com/v1/audio-features/?ids=42et6fnHCw1HIPSrdPprMl,4KGegVWRXvGnvWe1XaKcni,154pg8SEXGabiYKjO8CH9E,6WpTIA7S7XIVAkF7pXSm0Y,20lDIJS9uaHYxjHTsVkETB,7fBt3FgZ2epNs3RDFmUovC,1AX6Qj9QzpnchkwhsAqY3c,1cSzFn8tBOd75LCCHRRll0,5F40csF5DtKOGfEg8vuz1d,7pPD8Pgn3y6i5DMPRFdXvf with Params: {} returned 403 due to None\n"
     ]
    },
    {
     "name": "stdout",
     "output_type": "stream",
     "text": [
      "🔑 Auth error detected, attempting to refresh token...\n",
      "🔄 Refreshing authentication token...\n",
      "\n",
      "Processing chunk 2/1491 (10 tracks)\n"
     ]
    },
    {
     "name": "stderr",
     "output_type": "stream",
     "text": [
      "HTTP Error for GET to https://api.spotify.com/v1/audio-features/?ids=42et6fnHCw1HIPSrdPprMl,4KGegVWRXvGnvWe1XaKcni,154pg8SEXGabiYKjO8CH9E,6WpTIA7S7XIVAkF7pXSm0Y,20lDIJS9uaHYxjHTsVkETB,7fBt3FgZ2epNs3RDFmUovC,1AX6Qj9QzpnchkwhsAqY3c,1cSzFn8tBOd75LCCHRRll0,5F40csF5DtKOGfEg8vuz1d,7pPD8Pgn3y6i5DMPRFdXvf with Params: {} returned 403 due to None\n"
     ]
    },
    {
     "name": "stdout",
     "output_type": "stream",
     "text": [
      "🔑 Auth error detected, attempting to refresh token...\n",
      "🔄 Refreshing authentication token...\n",
      "\n",
      "Processing chunk 3/1491 (10 tracks)\n"
     ]
    },
    {
     "name": "stderr",
     "output_type": "stream",
     "text": [
      "HTTP Error for GET to https://api.spotify.com/v1/audio-features/?ids=0RHPoliIwT6ddbPugZNitX,4Wos0h9ECU2Z3oJMTQxpbc,0lmT9W6HJBuHTTLAx55CEI,2fZQIJew3nkNe99s2PKzul,4AQ35dFYRuU44zam0FBAPF,7KqJcOrsB8GThNOgAay9XK,438xBTovrKS6vp9mWqvtSE,6CTwsxJN5gh9MWnXhbVJmD,1djzKW3eYLyzjjHXazEWWh,1AEYT6VxrxXPMoQUxsY0E4 with Params: {} returned 403 due to None\n"
     ]
    },
    {
     "name": "stdout",
     "output_type": "stream",
     "text": [
      "🔑 Auth error detected, attempting to refresh token...\n",
      "🔄 Refreshing authentication token...\n",
      "\n",
      "Processing chunk 3/1491 (10 tracks)\n"
     ]
    },
    {
     "name": "stderr",
     "output_type": "stream",
     "text": [
      "HTTP Error for GET to https://api.spotify.com/v1/audio-features/?ids=0RHPoliIwT6ddbPugZNitX,4Wos0h9ECU2Z3oJMTQxpbc,0lmT9W6HJBuHTTLAx55CEI,2fZQIJew3nkNe99s2PKzul,4AQ35dFYRuU44zam0FBAPF,7KqJcOrsB8GThNOgAay9XK,438xBTovrKS6vp9mWqvtSE,6CTwsxJN5gh9MWnXhbVJmD,1djzKW3eYLyzjjHXazEWWh,1AEYT6VxrxXPMoQUxsY0E4 with Params: {} returned 403 due to None\n"
     ]
    },
    {
     "name": "stdout",
     "output_type": "stream",
     "text": [
      "🔑 Auth error detected, attempting to refresh token...\n",
      "🔄 Refreshing authentication token...\n",
      "\n",
      "Processing chunk 3/1491 (10 tracks)\n"
     ]
    },
    {
     "name": "stderr",
     "output_type": "stream",
     "text": [
      "HTTP Error for GET to https://api.spotify.com/v1/audio-features/?ids=0RHPoliIwT6ddbPugZNitX,4Wos0h9ECU2Z3oJMTQxpbc,0lmT9W6HJBuHTTLAx55CEI,2fZQIJew3nkNe99s2PKzul,4AQ35dFYRuU44zam0FBAPF,7KqJcOrsB8GThNOgAay9XK,438xBTovrKS6vp9mWqvtSE,6CTwsxJN5gh9MWnXhbVJmD,1djzKW3eYLyzjjHXazEWWh,1AEYT6VxrxXPMoQUxsY0E4 with Params: {} returned 403 due to None\n"
     ]
    },
    {
     "name": "stdout",
     "output_type": "stream",
     "text": [
      "🔑 Auth error detected, attempting to refresh token...\n",
      "🔄 Refreshing authentication token...\n",
      "\n",
      "Processing chunk 4/1491 (10 tracks)\n"
     ]
    },
    {
     "name": "stderr",
     "output_type": "stream",
     "text": [
      "HTTP Error for GET to https://api.spotify.com/v1/audio-features/?ids=3EYOJ48Et32uATr9ZmLnAo,6nLGlvV48w5LHT12jfw1op,0eeUxgcLK8vVsk6z3eQ6u2,6wves6GmsIYm1UtSCrtVPw,7v3QzPH05SUnnn4FTmSKND,57CxXYWDge4XpxcQBgcufK,39CBAFioBX9p2jW8lJ9pjE,6J0F1G7RtJJJEOsms3K3Ky,4Bs7pbzxezGyNQO6DjqmC8,0HMunXCom9jsXtj2lAC9aX with Params: {} returned 403 due to None\n"
     ]
    },
    {
     "name": "stdout",
     "output_type": "stream",
     "text": [
      "🔑 Auth error detected, attempting to refresh token...\n",
      "🔄 Refreshing authentication token...\n",
      "\n",
      "Processing chunk 4/1491 (10 tracks)\n"
     ]
    },
    {
     "name": "stderr",
     "output_type": "stream",
     "text": [
      "HTTP Error for GET to https://api.spotify.com/v1/audio-features/?ids=3EYOJ48Et32uATr9ZmLnAo,6nLGlvV48w5LHT12jfw1op,0eeUxgcLK8vVsk6z3eQ6u2,6wves6GmsIYm1UtSCrtVPw,7v3QzPH05SUnnn4FTmSKND,57CxXYWDge4XpxcQBgcufK,39CBAFioBX9p2jW8lJ9pjE,6J0F1G7RtJJJEOsms3K3Ky,4Bs7pbzxezGyNQO6DjqmC8,0HMunXCom9jsXtj2lAC9aX with Params: {} returned 403 due to None\n"
     ]
    },
    {
     "name": "stdout",
     "output_type": "stream",
     "text": [
      "🔑 Auth error detected, attempting to refresh token...\n",
      "🔄 Refreshing authentication token...\n",
      "\n",
      "Processing chunk 4/1491 (10 tracks)\n"
     ]
    },
    {
     "name": "stderr",
     "output_type": "stream",
     "text": [
      "HTTP Error for GET to https://api.spotify.com/v1/audio-features/?ids=3EYOJ48Et32uATr9ZmLnAo,6nLGlvV48w5LHT12jfw1op,0eeUxgcLK8vVsk6z3eQ6u2,6wves6GmsIYm1UtSCrtVPw,7v3QzPH05SUnnn4FTmSKND,57CxXYWDge4XpxcQBgcufK,39CBAFioBX9p2jW8lJ9pjE,6J0F1G7RtJJJEOsms3K3Ky,4Bs7pbzxezGyNQO6DjqmC8,0HMunXCom9jsXtj2lAC9aX with Params: {} returned 403 due to None\n"
     ]
    },
    {
     "name": "stdout",
     "output_type": "stream",
     "text": [
      "🔑 Auth error detected, attempting to refresh token...\n",
      "🔄 Refreshing authentication token...\n",
      "\n",
      "Processing chunk 5/1491 (10 tracks)\n"
     ]
    },
    {
     "name": "stderr",
     "output_type": "stream",
     "text": [
      "HTTP Error for GET to https://api.spotify.com/v1/audio-features/?ids=4mIXmsA9lwT7sk8rkrnEFE,1pZn8AX1WulW8IO338hE5D,1u8c2t2Cy7UBoG4ArRcF5g,5sogWK5j3QRvDhPtIpuLDQ,2RaUX6NYKdVlN4JZA1Rf2j,2W9FCvuxSSXbnkj9q4Dd9N,67Ig7U3E4PWGdIUZ2VThoY,6jhLdxpo93lXFaJwX7znaa,2K87XMYnUMqLcX3zvtAF4G,4YX3wlKDFuTPKWoiczPJ5P with Params: {} returned 403 due to None\n"
     ]
    },
    {
     "name": "stdout",
     "output_type": "stream",
     "text": [
      "🔑 Auth error detected, attempting to refresh token...\n",
      "🔄 Refreshing authentication token...\n",
      "\n",
      "Processing chunk 5/1491 (10 tracks)\n"
     ]
    },
    {
     "name": "stderr",
     "output_type": "stream",
     "text": [
      "HTTP Error for GET to https://api.spotify.com/v1/audio-features/?ids=4mIXmsA9lwT7sk8rkrnEFE,1pZn8AX1WulW8IO338hE5D,1u8c2t2Cy7UBoG4ArRcF5g,5sogWK5j3QRvDhPtIpuLDQ,2RaUX6NYKdVlN4JZA1Rf2j,2W9FCvuxSSXbnkj9q4Dd9N,67Ig7U3E4PWGdIUZ2VThoY,6jhLdxpo93lXFaJwX7znaa,2K87XMYnUMqLcX3zvtAF4G,4YX3wlKDFuTPKWoiczPJ5P with Params: {} returned 403 due to None\n"
     ]
    },
    {
     "name": "stdout",
     "output_type": "stream",
     "text": [
      "🔑 Auth error detected, attempting to refresh token...\n",
      "🔄 Refreshing authentication token...\n",
      "\n",
      "Processing chunk 5/1491 (10 tracks)\n"
     ]
    },
    {
     "name": "stderr",
     "output_type": "stream",
     "text": [
      "HTTP Error for GET to https://api.spotify.com/v1/audio-features/?ids=4mIXmsA9lwT7sk8rkrnEFE,1pZn8AX1WulW8IO338hE5D,1u8c2t2Cy7UBoG4ArRcF5g,5sogWK5j3QRvDhPtIpuLDQ,2RaUX6NYKdVlN4JZA1Rf2j,2W9FCvuxSSXbnkj9q4Dd9N,67Ig7U3E4PWGdIUZ2VThoY,6jhLdxpo93lXFaJwX7znaa,2K87XMYnUMqLcX3zvtAF4G,4YX3wlKDFuTPKWoiczPJ5P with Params: {} returned 403 due to None\n"
     ]
    },
    {
     "name": "stdout",
     "output_type": "stream",
     "text": [
      "🔑 Auth error detected, attempting to refresh token...\n",
      "🔄 Refreshing authentication token...\n",
      "\n",
      "Processing chunk 6/1491 (10 tracks)\n"
     ]
    },
    {
     "name": "stderr",
     "output_type": "stream",
     "text": [
      "HTTP Error for GET to https://api.spotify.com/v1/audio-features/?ids=0IQadgxKluHtHlvGhrZ2Ew,6Z6CHfrqIoUSQ4rjyy4lA0,0GNVXNz7Jkicfk2mp5OyG5,6nWLyTkbR9xsmmY1jioPTV,7qQrhHsAn5nd3krv5ieuVc,2YkAUBcwHq7yffFwJNEmEM,3u7EIgAlwNQtxkM4bOA7uI,1uIJHcSocw8gHpya2R2jhU,59nOXPmaKlBfGMDeOVGrIK,5HOQNAXcPSwV7Gt8AV8qiP with Params: {} returned 403 due to None\n"
     ]
    },
    {
     "name": "stdout",
     "output_type": "stream",
     "text": [
      "🔑 Auth error detected, attempting to refresh token...\n",
      "🔄 Refreshing authentication token...\n",
      "\n",
      "Processing chunk 6/1491 (10 tracks)\n"
     ]
    },
    {
     "name": "stderr",
     "output_type": "stream",
     "text": [
      "HTTP Error for GET to https://api.spotify.com/v1/audio-features/?ids=0IQadgxKluHtHlvGhrZ2Ew,6Z6CHfrqIoUSQ4rjyy4lA0,0GNVXNz7Jkicfk2mp5OyG5,6nWLyTkbR9xsmmY1jioPTV,7qQrhHsAn5nd3krv5ieuVc,2YkAUBcwHq7yffFwJNEmEM,3u7EIgAlwNQtxkM4bOA7uI,1uIJHcSocw8gHpya2R2jhU,59nOXPmaKlBfGMDeOVGrIK,5HOQNAXcPSwV7Gt8AV8qiP with Params: {} returned 403 due to None\n"
     ]
    },
    {
     "name": "stdout",
     "output_type": "stream",
     "text": [
      "🔑 Auth error detected, attempting to refresh token...\n",
      "🔄 Refreshing authentication token...\n",
      "\n",
      "Processing chunk 6/1491 (10 tracks)\n"
     ]
    },
    {
     "name": "stderr",
     "output_type": "stream",
     "text": [
      "HTTP Error for GET to https://api.spotify.com/v1/audio-features/?ids=0IQadgxKluHtHlvGhrZ2Ew,6Z6CHfrqIoUSQ4rjyy4lA0,0GNVXNz7Jkicfk2mp5OyG5,6nWLyTkbR9xsmmY1jioPTV,7qQrhHsAn5nd3krv5ieuVc,2YkAUBcwHq7yffFwJNEmEM,3u7EIgAlwNQtxkM4bOA7uI,1uIJHcSocw8gHpya2R2jhU,59nOXPmaKlBfGMDeOVGrIK,5HOQNAXcPSwV7Gt8AV8qiP with Params: {} returned 403 due to None\n"
     ]
    },
    {
     "name": "stdout",
     "output_type": "stream",
     "text": [
      "🔑 Auth error detected, attempting to refresh token...\n",
      "🔄 Refreshing authentication token...\n",
      "\n",
      "Processing chunk 7/1491 (10 tracks)\n"
     ]
    },
    {
     "name": "stderr",
     "output_type": "stream",
     "text": [
      "HTTP Error for GET to https://api.spotify.com/v1/audio-features/?ids=6QZs13sDmhvSjsABGnZ8B9,6eLiEJ3yyjm7ngEhqOWaGD,3jw5KrLTxeIzpSvByNsH7F,47S0oQYjDodpGOADktbD36,4xAKuqJlau99awflsgKvym,6nnjEqZuTa8cd5m35e1o0R,7vvJZ3zoxS7nDUNFzCpmhL,15GJ9xZVH6drkHYI4UCG0v,1uigwk5hNV84zRd5YQQRTk,47HHSbgwqhNIszVoo8Cer6 with Params: {} returned 403 due to None\n"
     ]
    },
    {
     "name": "stdout",
     "output_type": "stream",
     "text": [
      "🔑 Auth error detected, attempting to refresh token...\n",
      "🔄 Refreshing authentication token...\n",
      "\n",
      "Processing chunk 7/1491 (10 tracks)\n"
     ]
    },
    {
     "name": "stderr",
     "output_type": "stream",
     "text": [
      "HTTP Error for GET to https://api.spotify.com/v1/audio-features/?ids=6QZs13sDmhvSjsABGnZ8B9,6eLiEJ3yyjm7ngEhqOWaGD,3jw5KrLTxeIzpSvByNsH7F,47S0oQYjDodpGOADktbD36,4xAKuqJlau99awflsgKvym,6nnjEqZuTa8cd5m35e1o0R,7vvJZ3zoxS7nDUNFzCpmhL,15GJ9xZVH6drkHYI4UCG0v,1uigwk5hNV84zRd5YQQRTk,47HHSbgwqhNIszVoo8Cer6 with Params: {} returned 403 due to None\n"
     ]
    },
    {
     "name": "stdout",
     "output_type": "stream",
     "text": [
      "🔑 Auth error detected, attempting to refresh token...\n",
      "🔄 Refreshing authentication token...\n",
      "\n",
      "Processing chunk 7/1491 (10 tracks)\n"
     ]
    },
    {
     "name": "stderr",
     "output_type": "stream",
     "text": [
      "HTTP Error for GET to https://api.spotify.com/v1/audio-features/?ids=6QZs13sDmhvSjsABGnZ8B9,6eLiEJ3yyjm7ngEhqOWaGD,3jw5KrLTxeIzpSvByNsH7F,47S0oQYjDodpGOADktbD36,4xAKuqJlau99awflsgKvym,6nnjEqZuTa8cd5m35e1o0R,7vvJZ3zoxS7nDUNFzCpmhL,15GJ9xZVH6drkHYI4UCG0v,1uigwk5hNV84zRd5YQQRTk,47HHSbgwqhNIszVoo8Cer6 with Params: {} returned 403 due to None\n"
     ]
    },
    {
     "name": "stdout",
     "output_type": "stream",
     "text": [
      "🔑 Auth error detected, attempting to refresh token...\n",
      "🔄 Refreshing authentication token...\n",
      "\n",
      "Processing chunk 8/1491 (10 tracks)\n"
     ]
    },
    {
     "name": "stderr",
     "output_type": "stream",
     "text": [
      "HTTP Error for GET to https://api.spotify.com/v1/audio-features/?ids=6jKLk5eBLBvPxb8WMgB2T6,1LMKr3iNQDDELUJscnqg4m,6e3shBPFwdnZCCYa36Zr25,1CSwP3vdlJTFOvZXrgC3J3,66TTutUCqCpAzGCBcsBuYy,02UGlYzodYMeucgYo5DSHs,2iAvmfxjFCdzqGVvQ9Qb6z,0ZQL9lpSUIY85D2nQD7XXN,2PGXcwJ5cFZZ1IARTsMxIo,0MaRZUe5QjY56E1pfY3hFY with Params: {} returned 403 due to None\n"
     ]
    },
    {
     "name": "stdout",
     "output_type": "stream",
     "text": [
      "🔑 Auth error detected, attempting to refresh token...\n",
      "🔄 Refreshing authentication token...\n",
      "\n",
      "Processing chunk 8/1491 (10 tracks)\n"
     ]
    },
    {
     "name": "stderr",
     "output_type": "stream",
     "text": [
      "HTTP Error for GET to https://api.spotify.com/v1/audio-features/?ids=6jKLk5eBLBvPxb8WMgB2T6,1LMKr3iNQDDELUJscnqg4m,6e3shBPFwdnZCCYa36Zr25,1CSwP3vdlJTFOvZXrgC3J3,66TTutUCqCpAzGCBcsBuYy,02UGlYzodYMeucgYo5DSHs,2iAvmfxjFCdzqGVvQ9Qb6z,0ZQL9lpSUIY85D2nQD7XXN,2PGXcwJ5cFZZ1IARTsMxIo,0MaRZUe5QjY56E1pfY3hFY with Params: {} returned 403 due to None\n"
     ]
    },
    {
     "name": "stdout",
     "output_type": "stream",
     "text": [
      "🔑 Auth error detected, attempting to refresh token...\n",
      "🔄 Refreshing authentication token...\n",
      "\n",
      "Processing chunk 8/1491 (10 tracks)\n"
     ]
    },
    {
     "name": "stderr",
     "output_type": "stream",
     "text": [
      "HTTP Error for GET to https://api.spotify.com/v1/audio-features/?ids=6jKLk5eBLBvPxb8WMgB2T6,1LMKr3iNQDDELUJscnqg4m,6e3shBPFwdnZCCYa36Zr25,1CSwP3vdlJTFOvZXrgC3J3,66TTutUCqCpAzGCBcsBuYy,02UGlYzodYMeucgYo5DSHs,2iAvmfxjFCdzqGVvQ9Qb6z,0ZQL9lpSUIY85D2nQD7XXN,2PGXcwJ5cFZZ1IARTsMxIo,0MaRZUe5QjY56E1pfY3hFY with Params: {} returned 403 due to None\n"
     ]
    },
    {
     "name": "stdout",
     "output_type": "stream",
     "text": [
      "🔑 Auth error detected, attempting to refresh token...\n",
      "🔄 Refreshing authentication token...\n",
      "\n",
      "Processing chunk 9/1491 (10 tracks)\n"
     ]
    },
    {
     "name": "stderr",
     "output_type": "stream",
     "text": [
      "HTTP Error for GET to https://api.spotify.com/v1/audio-features/?ids=2VOomzT6VavJOGBeySqaMc,0V3wPSX9ygBnCm8psDIegu,1rTITuOP7qm6prmLPHT5qp,3IB3j5cgZZKjjXGUNk14RM,1HyYPOyrJjgRGG18vhE54z,3SHLX5ePGvPKcWKM05Thga,6K8VQ84MqhsoakN5MjrnVR,3ZdXzzqvsHCDayawAlof4p,7As8h8LJTMIritB8QwSmqr,6I1MOBxNyONiYDRYwalH0u with Params: {} returned 403 due to None\n"
     ]
    },
    {
     "name": "stdout",
     "output_type": "stream",
     "text": [
      "🔑 Auth error detected, attempting to refresh token...\n",
      "🔄 Refreshing authentication token...\n",
      "\n",
      "Processing chunk 9/1491 (10 tracks)\n"
     ]
    },
    {
     "name": "stderr",
     "output_type": "stream",
     "text": [
      "HTTP Error for GET to https://api.spotify.com/v1/audio-features/?ids=2VOomzT6VavJOGBeySqaMc,0V3wPSX9ygBnCm8psDIegu,1rTITuOP7qm6prmLPHT5qp,3IB3j5cgZZKjjXGUNk14RM,1HyYPOyrJjgRGG18vhE54z,3SHLX5ePGvPKcWKM05Thga,6K8VQ84MqhsoakN5MjrnVR,3ZdXzzqvsHCDayawAlof4p,7As8h8LJTMIritB8QwSmqr,6I1MOBxNyONiYDRYwalH0u with Params: {} returned 403 due to None\n"
     ]
    },
    {
     "name": "stdout",
     "output_type": "stream",
     "text": [
      "🔑 Auth error detected, attempting to refresh token...\n",
      "🔄 Refreshing authentication token...\n",
      "\n",
      "Processing chunk 9/1491 (10 tracks)\n"
     ]
    },
    {
     "name": "stderr",
     "output_type": "stream",
     "text": [
      "HTTP Error for GET to https://api.spotify.com/v1/audio-features/?ids=2VOomzT6VavJOGBeySqaMc,0V3wPSX9ygBnCm8psDIegu,1rTITuOP7qm6prmLPHT5qp,3IB3j5cgZZKjjXGUNk14RM,1HyYPOyrJjgRGG18vhE54z,3SHLX5ePGvPKcWKM05Thga,6K8VQ84MqhsoakN5MjrnVR,3ZdXzzqvsHCDayawAlof4p,7As8h8LJTMIritB8QwSmqr,6I1MOBxNyONiYDRYwalH0u with Params: {} returned 403 due to None\n"
     ]
    },
    {
     "name": "stdout",
     "output_type": "stream",
     "text": [
      "🔑 Auth error detected, attempting to refresh token...\n",
      "🔄 Refreshing authentication token...\n",
      "\n",
      "Processing chunk 10/1491 (10 tracks)\n"
     ]
    },
    {
     "name": "stderr",
     "output_type": "stream",
     "text": [
      "HTTP Error for GET to https://api.spotify.com/v1/audio-features/?ids=52h1Xy4cxVXbkItXEVJ3sT,7M6xLljWyeTBDEy6Ug6NEW,1HKQd7BYenlWcVcQIArdWG,2cKWOLgAZe09PplIV18ZzE,1ugu7qq0KcfDcH3dHUSjj3,4U0CF3mjpwEwIPMQgV4z7i,2dpaYNEQHiRxtZbfNsse99,31tf1qEai5o5f4r66Kd0pU,14rhzIQw96WzilZtBEq25R,0xojqr9omK4yEgHAbtPWcE with Params: {} returned 403 due to None\n"
     ]
    },
    {
     "name": "stdout",
     "output_type": "stream",
     "text": [
      "🔑 Auth error detected, attempting to refresh token...\n",
      "🔄 Refreshing authentication token...\n",
      "\n",
      "Processing chunk 10/1491 (10 tracks)\n"
     ]
    },
    {
     "name": "stderr",
     "output_type": "stream",
     "text": [
      "HTTP Error for GET to https://api.spotify.com/v1/audio-features/?ids=52h1Xy4cxVXbkItXEVJ3sT,7M6xLljWyeTBDEy6Ug6NEW,1HKQd7BYenlWcVcQIArdWG,2cKWOLgAZe09PplIV18ZzE,1ugu7qq0KcfDcH3dHUSjj3,4U0CF3mjpwEwIPMQgV4z7i,2dpaYNEQHiRxtZbfNsse99,31tf1qEai5o5f4r66Kd0pU,14rhzIQw96WzilZtBEq25R,0xojqr9omK4yEgHAbtPWcE with Params: {} returned 403 due to None\n"
     ]
    },
    {
     "name": "stdout",
     "output_type": "stream",
     "text": [
      "🔑 Auth error detected, attempting to refresh token...\n",
      "🔄 Refreshing authentication token...\n",
      "\n",
      "Processing chunk 10/1491 (10 tracks)\n"
     ]
    },
    {
     "name": "stderr",
     "output_type": "stream",
     "text": [
      "HTTP Error for GET to https://api.spotify.com/v1/audio-features/?ids=52h1Xy4cxVXbkItXEVJ3sT,7M6xLljWyeTBDEy6Ug6NEW,1HKQd7BYenlWcVcQIArdWG,2cKWOLgAZe09PplIV18ZzE,1ugu7qq0KcfDcH3dHUSjj3,4U0CF3mjpwEwIPMQgV4z7i,2dpaYNEQHiRxtZbfNsse99,31tf1qEai5o5f4r66Kd0pU,14rhzIQw96WzilZtBEq25R,0xojqr9omK4yEgHAbtPWcE with Params: {} returned 403 due to None\n"
     ]
    },
    {
     "name": "stdout",
     "output_type": "stream",
     "text": [
      "🔑 Auth error detected, attempting to refresh token...\n",
      "🔄 Refreshing authentication token...\n",
      "\n",
      "Processing chunk 11/1491 (10 tracks)\n"
     ]
    },
    {
     "name": "stderr",
     "output_type": "stream",
     "text": [
      "HTTP Error for GET to https://api.spotify.com/v1/audio-features/?ids=2Ur1tpXiC2hR0AUvElaaru,5vId39B1G26kGK8wdLxB2u,1F1xjUJ2eGzm3bxC9beHVb,0ZfP7K8NoyJRjEfWWk8Mlv,1XrSjpNe49IiygZfzb74pk,4JATzwy5FXaVytfAXlNwt8,36uC47GQL8VXghXY6d6afM,0cs671lxX2eoDzr2KMuo3N,5wP8Kfjw289xNopU7ZJXYF,3n3BAYunuBUzHrUHySkyC8 with Params: {} returned 403 due to None\n"
     ]
    },
    {
     "name": "stdout",
     "output_type": "stream",
     "text": [
      "🔑 Auth error detected, attempting to refresh token...\n",
      "🔄 Refreshing authentication token...\n",
      "\n",
      "Processing chunk 11/1491 (10 tracks)\n"
     ]
    },
    {
     "name": "stderr",
     "output_type": "stream",
     "text": [
      "HTTP Error for GET to https://api.spotify.com/v1/audio-features/?ids=2Ur1tpXiC2hR0AUvElaaru,5vId39B1G26kGK8wdLxB2u,1F1xjUJ2eGzm3bxC9beHVb,0ZfP7K8NoyJRjEfWWk8Mlv,1XrSjpNe49IiygZfzb74pk,4JATzwy5FXaVytfAXlNwt8,36uC47GQL8VXghXY6d6afM,0cs671lxX2eoDzr2KMuo3N,5wP8Kfjw289xNopU7ZJXYF,3n3BAYunuBUzHrUHySkyC8 with Params: {} returned 403 due to None\n"
     ]
    },
    {
     "name": "stdout",
     "output_type": "stream",
     "text": [
      "🔑 Auth error detected, attempting to refresh token...\n",
      "🔄 Refreshing authentication token...\n",
      "\n",
      "Processing chunk 11/1491 (10 tracks)\n"
     ]
    },
    {
     "name": "stderr",
     "output_type": "stream",
     "text": [
      "HTTP Error for GET to https://api.spotify.com/v1/audio-features/?ids=2Ur1tpXiC2hR0AUvElaaru,5vId39B1G26kGK8wdLxB2u,1F1xjUJ2eGzm3bxC9beHVb,0ZfP7K8NoyJRjEfWWk8Mlv,1XrSjpNe49IiygZfzb74pk,4JATzwy5FXaVytfAXlNwt8,36uC47GQL8VXghXY6d6afM,0cs671lxX2eoDzr2KMuo3N,5wP8Kfjw289xNopU7ZJXYF,3n3BAYunuBUzHrUHySkyC8 with Params: {} returned 403 due to None\n"
     ]
    },
    {
     "name": "stdout",
     "output_type": "stream",
     "text": [
      "🔑 Auth error detected, attempting to refresh token...\n",
      "🔄 Refreshing authentication token...\n",
      "\n",
      "Processing chunk 12/1491 (10 tracks)\n"
     ]
    },
    {
     "name": "stderr",
     "output_type": "stream",
     "text": [
      "HTTP Error for GET to https://api.spotify.com/v1/audio-features/?ids=3meBHHgWBvXmpmhQtH6N8a,2HcE0UBhTeY1LYj4VcseJZ,0HL5XOeVxgX1cEPY2KgRRa,6JLkmsWbWPQldeTRCYdIOY,3F2bKtyjMIE1vRvlzsHSq9,205GXawlLkosvKRAWFZBWx,1louJpMmzEicAn7lzDalPW,3FAJ6O0NOHQV8Mc5Ri6ENp,79Q3ulfT7252XkYET6nzqh,3VylaY0iRE9oXIiyAszwkZ with Params: {} returned 403 due to None\n"
     ]
    },
    {
     "name": "stdout",
     "output_type": "stream",
     "text": [
      "🔑 Auth error detected, attempting to refresh token...\n",
      "🔄 Refreshing authentication token...\n",
      "\n",
      "Processing chunk 12/1491 (10 tracks)\n"
     ]
    },
    {
     "name": "stderr",
     "output_type": "stream",
     "text": [
      "HTTP Error for GET to https://api.spotify.com/v1/audio-features/?ids=3meBHHgWBvXmpmhQtH6N8a,2HcE0UBhTeY1LYj4VcseJZ,0HL5XOeVxgX1cEPY2KgRRa,6JLkmsWbWPQldeTRCYdIOY,3F2bKtyjMIE1vRvlzsHSq9,205GXawlLkosvKRAWFZBWx,1louJpMmzEicAn7lzDalPW,3FAJ6O0NOHQV8Mc5Ri6ENp,79Q3ulfT7252XkYET6nzqh,3VylaY0iRE9oXIiyAszwkZ with Params: {} returned 403 due to None\n"
     ]
    },
    {
     "name": "stdout",
     "output_type": "stream",
     "text": [
      "🔑 Auth error detected, attempting to refresh token...\n",
      "🔄 Refreshing authentication token...\n",
      "\n",
      "Processing chunk 12/1491 (10 tracks)\n"
     ]
    },
    {
     "name": "stderr",
     "output_type": "stream",
     "text": [
      "HTTP Error for GET to https://api.spotify.com/v1/audio-features/?ids=3meBHHgWBvXmpmhQtH6N8a,2HcE0UBhTeY1LYj4VcseJZ,0HL5XOeVxgX1cEPY2KgRRa,6JLkmsWbWPQldeTRCYdIOY,3F2bKtyjMIE1vRvlzsHSq9,205GXawlLkosvKRAWFZBWx,1louJpMmzEicAn7lzDalPW,3FAJ6O0NOHQV8Mc5Ri6ENp,79Q3ulfT7252XkYET6nzqh,3VylaY0iRE9oXIiyAszwkZ with Params: {} returned 403 due to None\n"
     ]
    },
    {
     "name": "stdout",
     "output_type": "stream",
     "text": [
      "🔑 Auth error detected, attempting to refresh token...\n",
      "🔄 Refreshing authentication token...\n",
      "\n",
      "Processing chunk 13/1491 (10 tracks)\n"
     ]
    },
    {
     "name": "stderr",
     "output_type": "stream",
     "text": [
      "HTTP Error for GET to https://api.spotify.com/v1/audio-features/?ids=7napRAmwG9VpHM0EknhdGo,2imYKctTIU3p23tD5IGJ2R,6VLyTOmLGT0sOOMYjNnAp7,78es57l6eWsFIjhFweIVNE,2xJwMJU80QglYOSTgJq2BM,737loFuxTl8cvJAVwOGKO7,2Up0dqeqtT04WGGKqkc5Bj,26c16dE1NZmO2AwZr5uPog,3IndTC0tyQ3JVWInkoOX2T,2KRxJ2TgYjlf5WaltolK5C with Params: {} returned 403 due to None\n"
     ]
    },
    {
     "name": "stdout",
     "output_type": "stream",
     "text": [
      "🔑 Auth error detected, attempting to refresh token...\n",
      "🔄 Refreshing authentication token...\n",
      "\n",
      "Processing chunk 13/1491 (10 tracks)\n"
     ]
    },
    {
     "name": "stderr",
     "output_type": "stream",
     "text": [
      "HTTP Error for GET to https://api.spotify.com/v1/audio-features/?ids=7napRAmwG9VpHM0EknhdGo,2imYKctTIU3p23tD5IGJ2R,6VLyTOmLGT0sOOMYjNnAp7,78es57l6eWsFIjhFweIVNE,2xJwMJU80QglYOSTgJq2BM,737loFuxTl8cvJAVwOGKO7,2Up0dqeqtT04WGGKqkc5Bj,26c16dE1NZmO2AwZr5uPog,3IndTC0tyQ3JVWInkoOX2T,2KRxJ2TgYjlf5WaltolK5C with Params: {} returned 403 due to None\n"
     ]
    },
    {
     "name": "stdout",
     "output_type": "stream",
     "text": [
      "🔑 Auth error detected, attempting to refresh token...\n",
      "🔄 Refreshing authentication token...\n",
      "\n",
      "Processing chunk 13/1491 (10 tracks)\n"
     ]
    },
    {
     "name": "stderr",
     "output_type": "stream",
     "text": [
      "HTTP Error for GET to https://api.spotify.com/v1/audio-features/?ids=7napRAmwG9VpHM0EknhdGo,2imYKctTIU3p23tD5IGJ2R,6VLyTOmLGT0sOOMYjNnAp7,78es57l6eWsFIjhFweIVNE,2xJwMJU80QglYOSTgJq2BM,737loFuxTl8cvJAVwOGKO7,2Up0dqeqtT04WGGKqkc5Bj,26c16dE1NZmO2AwZr5uPog,3IndTC0tyQ3JVWInkoOX2T,2KRxJ2TgYjlf5WaltolK5C with Params: {} returned 403 due to None\n"
     ]
    },
    {
     "name": "stdout",
     "output_type": "stream",
     "text": [
      "🔑 Auth error detected, attempting to refresh token...\n",
      "🔄 Refreshing authentication token...\n",
      "\n",
      "Processing chunk 14/1491 (10 tracks)\n"
     ]
    },
    {
     "name": "stderr",
     "output_type": "stream",
     "text": [
      "HTTP Error for GET to https://api.spotify.com/v1/audio-features/?ids=2GJS5bmQsuvNwbxTFzZGzJ,5IL3VPDy5siXiptYHF2aLS,23q9riFigQOFmSqs0FRQSx,44yBwvHt7EhO8brRoYd82N,5KV4wv4CASoxSepQ1HNqHz,0v7OuKUHAtNXxebzaeF3df,5uF82Um8mbUnf5KxDf5syF,0ppUopIIOTVmoq79vAkDFj,2bVjENLVq9VwSBMmbPQUFz,0dPLIBGp0TxFLIrYOizrDD with Params: {} returned 403 due to None\n"
     ]
    },
    {
     "name": "stdout",
     "output_type": "stream",
     "text": [
      "🔑 Auth error detected, attempting to refresh token...\n",
      "🔄 Refreshing authentication token...\n",
      "\n",
      "Processing chunk 14/1491 (10 tracks)\n"
     ]
    },
    {
     "name": "stderr",
     "output_type": "stream",
     "text": [
      "HTTP Error for GET to https://api.spotify.com/v1/audio-features/?ids=2GJS5bmQsuvNwbxTFzZGzJ,5IL3VPDy5siXiptYHF2aLS,23q9riFigQOFmSqs0FRQSx,44yBwvHt7EhO8brRoYd82N,5KV4wv4CASoxSepQ1HNqHz,0v7OuKUHAtNXxebzaeF3df,5uF82Um8mbUnf5KxDf5syF,0ppUopIIOTVmoq79vAkDFj,2bVjENLVq9VwSBMmbPQUFz,0dPLIBGp0TxFLIrYOizrDD with Params: {} returned 403 due to None\n"
     ]
    },
    {
     "name": "stdout",
     "output_type": "stream",
     "text": [
      "🔑 Auth error detected, attempting to refresh token...\n",
      "🔄 Refreshing authentication token...\n",
      "\n",
      "Processing chunk 14/1491 (10 tracks)\n"
     ]
    },
    {
     "name": "stderr",
     "output_type": "stream",
     "text": [
      "HTTP Error for GET to https://api.spotify.com/v1/audio-features/?ids=2GJS5bmQsuvNwbxTFzZGzJ,5IL3VPDy5siXiptYHF2aLS,23q9riFigQOFmSqs0FRQSx,44yBwvHt7EhO8brRoYd82N,5KV4wv4CASoxSepQ1HNqHz,0v7OuKUHAtNXxebzaeF3df,5uF82Um8mbUnf5KxDf5syF,0ppUopIIOTVmoq79vAkDFj,2bVjENLVq9VwSBMmbPQUFz,0dPLIBGp0TxFLIrYOizrDD with Params: {} returned 403 due to None\n"
     ]
    },
    {
     "name": "stdout",
     "output_type": "stream",
     "text": [
      "🔑 Auth error detected, attempting to refresh token...\n",
      "🔄 Refreshing authentication token...\n",
      "\n",
      "Processing chunk 15/1491 (10 tracks)\n"
     ]
    },
    {
     "name": "stderr",
     "output_type": "stream",
     "text": [
      "HTTP Error for GET to https://api.spotify.com/v1/audio-features/?ids=4nXkbcTj3nyww1cHkw5RAP,7FWSgT0vG06zaAfRr4AYRJ,6WkSUgo1VdpzgtiXKlFPcY,2KdBFRrNAUNWcdibioWK8H,0sm6IVZ52WyWEvZq99GyGD,2XTu7K2CsHJXRT1QC5cFtN,3l63ghLZ5cUakXfK3HrjQ2,0gf5aDrh0wyGy5vQo0HlIK,3KaddWS0IgAEboF6cjCoQ8,0mQpL4zkEiv1u2wlBhzSL9 with Params: {} returned 403 due to None\n"
     ]
    },
    {
     "name": "stdout",
     "output_type": "stream",
     "text": [
      "🔑 Auth error detected, attempting to refresh token...\n",
      "🔄 Refreshing authentication token...\n",
      "\n",
      "Processing chunk 15/1491 (10 tracks)\n"
     ]
    },
    {
     "name": "stderr",
     "output_type": "stream",
     "text": [
      "HTTP Error for GET to https://api.spotify.com/v1/audio-features/?ids=4nXkbcTj3nyww1cHkw5RAP,7FWSgT0vG06zaAfRr4AYRJ,6WkSUgo1VdpzgtiXKlFPcY,2KdBFRrNAUNWcdibioWK8H,0sm6IVZ52WyWEvZq99GyGD,2XTu7K2CsHJXRT1QC5cFtN,3l63ghLZ5cUakXfK3HrjQ2,0gf5aDrh0wyGy5vQo0HlIK,3KaddWS0IgAEboF6cjCoQ8,0mQpL4zkEiv1u2wlBhzSL9 with Params: {} returned 403 due to None\n"
     ]
    },
    {
     "name": "stdout",
     "output_type": "stream",
     "text": [
      "🔑 Auth error detected, attempting to refresh token...\n",
      "🔄 Refreshing authentication token...\n",
      "\n",
      "Processing chunk 15/1491 (10 tracks)\n"
     ]
    },
    {
     "name": "stderr",
     "output_type": "stream",
     "text": [
      "HTTP Error for GET to https://api.spotify.com/v1/audio-features/?ids=4nXkbcTj3nyww1cHkw5RAP,7FWSgT0vG06zaAfRr4AYRJ,6WkSUgo1VdpzgtiXKlFPcY,2KdBFRrNAUNWcdibioWK8H,0sm6IVZ52WyWEvZq99GyGD,2XTu7K2CsHJXRT1QC5cFtN,3l63ghLZ5cUakXfK3HrjQ2,0gf5aDrh0wyGy5vQo0HlIK,3KaddWS0IgAEboF6cjCoQ8,0mQpL4zkEiv1u2wlBhzSL9 with Params: {} returned 403 due to None\n"
     ]
    },
    {
     "name": "stdout",
     "output_type": "stream",
     "text": [
      "🔑 Auth error detected, attempting to refresh token...\n",
      "🔄 Refreshing authentication token...\n",
      "\n",
      "Processing chunk 16/1491 (10 tracks)\n"
     ]
    },
    {
     "name": "stderr",
     "output_type": "stream",
     "text": [
      "HTTP Error for GET to https://api.spotify.com/v1/audio-features/?ids=7vFoFDWqTX0mHzLfrF1Cfy,7lOo7m4sJdEnjdM5GJIoU0,3nCRDaGYUVpwTpoogFSGsi,4jNvfg3DTsUXvK2kkMGZMp,2K4JotIBpW5k995V4OpEIY,2DyupKZi3nMJ4PAzhRl9s8,1q3RHqDU2h3quCMsnEFIjK,17ugYj1PZ2269q1HDGe1sR,7LtqwGP2UIj0FHbOsqm6VG,249TZ64WLQGXEFMUb5PK8V with Params: {} returned 403 due to None\n"
     ]
    },
    {
     "name": "stdout",
     "output_type": "stream",
     "text": [
      "🔑 Auth error detected, attempting to refresh token...\n",
      "🔄 Refreshing authentication token...\n",
      "\n",
      "Processing chunk 16/1491 (10 tracks)\n"
     ]
    },
    {
     "name": "stderr",
     "output_type": "stream",
     "text": [
      "HTTP Error for GET to https://api.spotify.com/v1/audio-features/?ids=7vFoFDWqTX0mHzLfrF1Cfy,7lOo7m4sJdEnjdM5GJIoU0,3nCRDaGYUVpwTpoogFSGsi,4jNvfg3DTsUXvK2kkMGZMp,2K4JotIBpW5k995V4OpEIY,2DyupKZi3nMJ4PAzhRl9s8,1q3RHqDU2h3quCMsnEFIjK,17ugYj1PZ2269q1HDGe1sR,7LtqwGP2UIj0FHbOsqm6VG,249TZ64WLQGXEFMUb5PK8V with Params: {} returned 403 due to None\n"
     ]
    },
    {
     "name": "stdout",
     "output_type": "stream",
     "text": [
      "🔑 Auth error detected, attempting to refresh token...\n",
      "🔄 Refreshing authentication token...\n",
      "\n",
      "Processing chunk 16/1491 (10 tracks)\n"
     ]
    },
    {
     "name": "stderr",
     "output_type": "stream",
     "text": [
      "HTTP Error for GET to https://api.spotify.com/v1/audio-features/?ids=7vFoFDWqTX0mHzLfrF1Cfy,7lOo7m4sJdEnjdM5GJIoU0,3nCRDaGYUVpwTpoogFSGsi,4jNvfg3DTsUXvK2kkMGZMp,2K4JotIBpW5k995V4OpEIY,2DyupKZi3nMJ4PAzhRl9s8,1q3RHqDU2h3quCMsnEFIjK,17ugYj1PZ2269q1HDGe1sR,7LtqwGP2UIj0FHbOsqm6VG,249TZ64WLQGXEFMUb5PK8V with Params: {} returned 403 due to None\n"
     ]
    },
    {
     "name": "stdout",
     "output_type": "stream",
     "text": [
      "🔑 Auth error detected, attempting to refresh token...\n",
      "🔄 Refreshing authentication token...\n",
      "\n",
      "Processing chunk 17/1491 (10 tracks)\n"
     ]
    },
    {
     "name": "stderr",
     "output_type": "stream",
     "text": [
      "HTTP Error for GET to https://api.spotify.com/v1/audio-features/?ids=39NiB3VrlRX1RAvAMwv37y,64BNMHwLRbDEhTUZq3Jl6r,0KzGRPm6TNR779Nh1ImKsF,5eqdFZL9THibAPpTAbBouH,3Utqk7miIHD0sxaeYmLbeL,4G29gmjS7Z2nEFeM7FA6wx,6yIaRllz0lCXuISYsqyCNH,5ZTOYmie4S8M0mdpQyxptN,3HDqz2fbQNtebG5w7aWyyd,4CWcaGtaOyAqBDKIeZMUe0 with Params: {} returned 403 due to None\n"
     ]
    },
    {
     "name": "stdout",
     "output_type": "stream",
     "text": [
      "🔑 Auth error detected, attempting to refresh token...\n",
      "🔄 Refreshing authentication token...\n",
      "\n",
      "Processing chunk 17/1491 (10 tracks)\n"
     ]
    },
    {
     "name": "stderr",
     "output_type": "stream",
     "text": [
      "HTTP Error for GET to https://api.spotify.com/v1/audio-features/?ids=39NiB3VrlRX1RAvAMwv37y,64BNMHwLRbDEhTUZq3Jl6r,0KzGRPm6TNR779Nh1ImKsF,5eqdFZL9THibAPpTAbBouH,3Utqk7miIHD0sxaeYmLbeL,4G29gmjS7Z2nEFeM7FA6wx,6yIaRllz0lCXuISYsqyCNH,5ZTOYmie4S8M0mdpQyxptN,3HDqz2fbQNtebG5w7aWyyd,4CWcaGtaOyAqBDKIeZMUe0 with Params: {} returned 403 due to None\n"
     ]
    },
    {
     "name": "stdout",
     "output_type": "stream",
     "text": [
      "🔑 Auth error detected, attempting to refresh token...\n",
      "🔄 Refreshing authentication token...\n",
      "\n",
      "Processing chunk 17/1491 (10 tracks)\n"
     ]
    },
    {
     "name": "stderr",
     "output_type": "stream",
     "text": [
      "HTTP Error for GET to https://api.spotify.com/v1/audio-features/?ids=39NiB3VrlRX1RAvAMwv37y,64BNMHwLRbDEhTUZq3Jl6r,0KzGRPm6TNR779Nh1ImKsF,5eqdFZL9THibAPpTAbBouH,3Utqk7miIHD0sxaeYmLbeL,4G29gmjS7Z2nEFeM7FA6wx,6yIaRllz0lCXuISYsqyCNH,5ZTOYmie4S8M0mdpQyxptN,3HDqz2fbQNtebG5w7aWyyd,4CWcaGtaOyAqBDKIeZMUe0 with Params: {} returned 403 due to None\n"
     ]
    },
    {
     "name": "stdout",
     "output_type": "stream",
     "text": [
      "🔑 Auth error detected, attempting to refresh token...\n",
      "🔄 Refreshing authentication token...\n",
      "\n",
      "Processing chunk 18/1491 (10 tracks)\n"
     ]
    },
    {
     "name": "stderr",
     "output_type": "stream",
     "text": [
      "HTTP Error for GET to https://api.spotify.com/v1/audio-features/?ids=5lCD5KHEN070NOlP0BtgyP,3QnHWkNMY2mpy494Bis0ly,3634aKisKlGdUfD9V3MOY5,3GWVkWWgn7su8Z06oBjiiX,7IB4HIRH9ThUFvP6ER0zng,2xAgTh37UIOj7KMeHpbpCB,6hNmUxT9QPpLMp8WvQUw3K,7rytpWEVreUFhPBJp4q9LT,0O2UONKvVfdwDyefKh5Yo1,3nlGByvetDcS1uomAoiBmy with Params: {} returned 403 due to None\n"
     ]
    },
    {
     "name": "stdout",
     "output_type": "stream",
     "text": [
      "🔑 Auth error detected, attempting to refresh token...\n",
      "🔄 Refreshing authentication token...\n",
      "\n",
      "Processing chunk 18/1491 (10 tracks)\n"
     ]
    },
    {
     "name": "stderr",
     "output_type": "stream",
     "text": [
      "HTTP Error for GET to https://api.spotify.com/v1/audio-features/?ids=5lCD5KHEN070NOlP0BtgyP,3QnHWkNMY2mpy494Bis0ly,3634aKisKlGdUfD9V3MOY5,3GWVkWWgn7su8Z06oBjiiX,7IB4HIRH9ThUFvP6ER0zng,2xAgTh37UIOj7KMeHpbpCB,6hNmUxT9QPpLMp8WvQUw3K,7rytpWEVreUFhPBJp4q9LT,0O2UONKvVfdwDyefKh5Yo1,3nlGByvetDcS1uomAoiBmy with Params: {} returned 403 due to None\n"
     ]
    },
    {
     "name": "stdout",
     "output_type": "stream",
     "text": [
      "🔑 Auth error detected, attempting to refresh token...\n",
      "🔄 Refreshing authentication token...\n",
      "\n",
      "Processing chunk 18/1491 (10 tracks)\n"
     ]
    },
    {
     "name": "stderr",
     "output_type": "stream",
     "text": [
      "HTTP Error for GET to https://api.spotify.com/v1/audio-features/?ids=5lCD5KHEN070NOlP0BtgyP,3QnHWkNMY2mpy494Bis0ly,3634aKisKlGdUfD9V3MOY5,3GWVkWWgn7su8Z06oBjiiX,7IB4HIRH9ThUFvP6ER0zng,2xAgTh37UIOj7KMeHpbpCB,6hNmUxT9QPpLMp8WvQUw3K,7rytpWEVreUFhPBJp4q9LT,0O2UONKvVfdwDyefKh5Yo1,3nlGByvetDcS1uomAoiBmy with Params: {} returned 403 due to None\n"
     ]
    },
    {
     "name": "stdout",
     "output_type": "stream",
     "text": [
      "🔑 Auth error detected, attempting to refresh token...\n",
      "🔄 Refreshing authentication token...\n",
      "\n",
      "Processing chunk 19/1491 (10 tracks)\n"
     ]
    },
    {
     "name": "stderr",
     "output_type": "stream",
     "text": [
      "HTTP Error for GET to https://api.spotify.com/v1/audio-features/?ids=1qdnE7buHjKuxL75YmUpt6,7EFKCr5Lzabj0Tk9N0cs41,06wlFUDDfck4732GJz6LvZ,65wnZsZLKJimfK1cTFOfa1,56bVCBk20LrKXdADA4qWaA,0luTGhn5sl6J3ZSb019E80,62LX8yuMZI0oBrgiS6SpqS,0t3lA05a4l0Z1s7GLPMEI9,1QV6tiMFM6fSOKOGLMHYYg,7HOuBDQgRISnafh90rQQMu with Params: {} returned 403 due to None\n"
     ]
    },
    {
     "name": "stdout",
     "output_type": "stream",
     "text": [
      "🔑 Auth error detected, attempting to refresh token...\n",
      "🔄 Refreshing authentication token...\n",
      "\n",
      "Processing chunk 19/1491 (10 tracks)\n"
     ]
    },
    {
     "name": "stderr",
     "output_type": "stream",
     "text": [
      "HTTP Error for GET to https://api.spotify.com/v1/audio-features/?ids=1qdnE7buHjKuxL75YmUpt6,7EFKCr5Lzabj0Tk9N0cs41,06wlFUDDfck4732GJz6LvZ,65wnZsZLKJimfK1cTFOfa1,56bVCBk20LrKXdADA4qWaA,0luTGhn5sl6J3ZSb019E80,62LX8yuMZI0oBrgiS6SpqS,0t3lA05a4l0Z1s7GLPMEI9,1QV6tiMFM6fSOKOGLMHYYg,7HOuBDQgRISnafh90rQQMu with Params: {} returned 403 due to None\n"
     ]
    },
    {
     "name": "stdout",
     "output_type": "stream",
     "text": [
      "🔑 Auth error detected, attempting to refresh token...\n",
      "🔄 Refreshing authentication token...\n",
      "\n",
      "Processing chunk 19/1491 (10 tracks)\n"
     ]
    },
    {
     "name": "stderr",
     "output_type": "stream",
     "text": [
      "HTTP Error for GET to https://api.spotify.com/v1/audio-features/?ids=1qdnE7buHjKuxL75YmUpt6,7EFKCr5Lzabj0Tk9N0cs41,06wlFUDDfck4732GJz6LvZ,65wnZsZLKJimfK1cTFOfa1,56bVCBk20LrKXdADA4qWaA,0luTGhn5sl6J3ZSb019E80,62LX8yuMZI0oBrgiS6SpqS,0t3lA05a4l0Z1s7GLPMEI9,1QV6tiMFM6fSOKOGLMHYYg,7HOuBDQgRISnafh90rQQMu with Params: {} returned 403 due to None\n"
     ]
    },
    {
     "name": "stdout",
     "output_type": "stream",
     "text": [
      "🔑 Auth error detected, attempting to refresh token...\n",
      "🔄 Refreshing authentication token...\n",
      "\n",
      "Processing chunk 20/1491 (10 tracks)\n"
     ]
    },
    {
     "name": "stderr",
     "output_type": "stream",
     "text": [
      "HTTP Error for GET to https://api.spotify.com/v1/audio-features/?ids=3jm0h2HxlFNENCw0DUL3zM,2ARbBiaMqOfBl1XOzjU0rP,0HW4dFo3pvvzbsn3MOupVT,5QOJVhRtRabSTG2qYXUCdk,01Oi7A4u4knAEPqylXM9s8,0vyaFypYcyHNAbko5X8Cp7,2afCBiru10AFckfOa49wIa,6cC9RY7MoUx5z3aHjDTNI6,2fMHB1G4fjDm7YKFUHbxRl,184ImITRjcX2h1awZ4WVT1 with Params: {} returned 403 due to None\n"
     ]
    },
    {
     "name": "stdout",
     "output_type": "stream",
     "text": [
      "🔑 Auth error detected, attempting to refresh token...\n",
      "🔄 Refreshing authentication token...\n",
      "\n",
      "Processing chunk 20/1491 (10 tracks)\n"
     ]
    },
    {
     "name": "stderr",
     "output_type": "stream",
     "text": [
      "HTTP Error for GET to https://api.spotify.com/v1/audio-features/?ids=3jm0h2HxlFNENCw0DUL3zM,2ARbBiaMqOfBl1XOzjU0rP,0HW4dFo3pvvzbsn3MOupVT,5QOJVhRtRabSTG2qYXUCdk,01Oi7A4u4knAEPqylXM9s8,0vyaFypYcyHNAbko5X8Cp7,2afCBiru10AFckfOa49wIa,6cC9RY7MoUx5z3aHjDTNI6,2fMHB1G4fjDm7YKFUHbxRl,184ImITRjcX2h1awZ4WVT1 with Params: {} returned 403 due to None\n"
     ]
    },
    {
     "name": "stdout",
     "output_type": "stream",
     "text": [
      "🔑 Auth error detected, attempting to refresh token...\n",
      "🔄 Refreshing authentication token...\n",
      "\n",
      "Processing chunk 20/1491 (10 tracks)\n"
     ]
    },
    {
     "name": "stderr",
     "output_type": "stream",
     "text": [
      "HTTP Error for GET to https://api.spotify.com/v1/audio-features/?ids=3jm0h2HxlFNENCw0DUL3zM,2ARbBiaMqOfBl1XOzjU0rP,0HW4dFo3pvvzbsn3MOupVT,5QOJVhRtRabSTG2qYXUCdk,01Oi7A4u4knAEPqylXM9s8,0vyaFypYcyHNAbko5X8Cp7,2afCBiru10AFckfOa49wIa,6cC9RY7MoUx5z3aHjDTNI6,2fMHB1G4fjDm7YKFUHbxRl,184ImITRjcX2h1awZ4WVT1 with Params: {} returned 403 due to None\n"
     ]
    },
    {
     "name": "stdout",
     "output_type": "stream",
     "text": [
      "🔑 Auth error detected, attempting to refresh token...\n",
      "🔄 Refreshing authentication token...\n",
      "\n",
      "Processing chunk 21/1491 (10 tracks)\n"
     ]
    },
    {
     "name": "stderr",
     "output_type": "stream",
     "text": [
      "HTTP Error for GET to https://api.spotify.com/v1/audio-features/?ids=36cp8i9HJRmbnaRxbRtpFT,3IYb8pVjQG77awbkC4CuBV,2cOcCJWB5QxyexqiGDV7ap,68h4wPMOfnNdxYDgK5Qjdj,2UzQaG4Wi7CBY7uFO7uKop,6HyF16OcOabYIJ5NIwKI5U,5zQmCTQfRAXYI6UoJ3gxg4,2cnFI0IoCqw9eMxMBW2bDH,0rcbfBPPCuYrgeBhokdGuZ,0TJcZRSnPYltP0sQ0rFe3P with Params: {} returned 403 due to None\n"
     ]
    },
    {
     "name": "stdout",
     "output_type": "stream",
     "text": [
      "🔑 Auth error detected, attempting to refresh token...\n",
      "🔄 Refreshing authentication token...\n",
      "\n",
      "Processing chunk 21/1491 (10 tracks)\n"
     ]
    },
    {
     "name": "stderr",
     "output_type": "stream",
     "text": [
      "HTTP Error for GET to https://api.spotify.com/v1/audio-features/?ids=36cp8i9HJRmbnaRxbRtpFT,3IYb8pVjQG77awbkC4CuBV,2cOcCJWB5QxyexqiGDV7ap,68h4wPMOfnNdxYDgK5Qjdj,2UzQaG4Wi7CBY7uFO7uKop,6HyF16OcOabYIJ5NIwKI5U,5zQmCTQfRAXYI6UoJ3gxg4,2cnFI0IoCqw9eMxMBW2bDH,0rcbfBPPCuYrgeBhokdGuZ,0TJcZRSnPYltP0sQ0rFe3P with Params: {} returned 403 due to None\n"
     ]
    },
    {
     "name": "stdout",
     "output_type": "stream",
     "text": [
      "🔑 Auth error detected, attempting to refresh token...\n",
      "🔄 Refreshing authentication token...\n",
      "\n",
      "Processing chunk 21/1491 (10 tracks)\n"
     ]
    },
    {
     "name": "stderr",
     "output_type": "stream",
     "text": [
      "HTTP Error for GET to https://api.spotify.com/v1/audio-features/?ids=36cp8i9HJRmbnaRxbRtpFT,3IYb8pVjQG77awbkC4CuBV,2cOcCJWB5QxyexqiGDV7ap,68h4wPMOfnNdxYDgK5Qjdj,2UzQaG4Wi7CBY7uFO7uKop,6HyF16OcOabYIJ5NIwKI5U,5zQmCTQfRAXYI6UoJ3gxg4,2cnFI0IoCqw9eMxMBW2bDH,0rcbfBPPCuYrgeBhokdGuZ,0TJcZRSnPYltP0sQ0rFe3P with Params: {} returned 403 due to None\n"
     ]
    },
    {
     "name": "stdout",
     "output_type": "stream",
     "text": [
      "🔑 Auth error detected, attempting to refresh token...\n",
      "🔄 Refreshing authentication token...\n",
      "\n",
      "Processing chunk 22/1491 (10 tracks)\n"
     ]
    },
    {
     "name": "stderr",
     "output_type": "stream",
     "text": [
      "HTTP Error for GET to https://api.spotify.com/v1/audio-features/?ids=2bpaLmDvgulRYIHqWu9ciq,1JcO1aNIYrXh0Vx4YtraN0,04MelmovbVMQVQscyDufQ1,4mDHR3dRLUt5NdTIxO2vhr,4LJhJ6DQS7NwE7UKtvcM52,2wjUUDV2ebgGBtWizSc24h,6aF5JtQSrh7wNrkDE9B0My,1H3aJpfpjEFt3i8KsWbgmP,730EDpuaj0YBwpk1jZznfI,4lYBuSINhkqFz2cHT4tJ3u with Params: {} returned 403 due to None\n"
     ]
    },
    {
     "name": "stdout",
     "output_type": "stream",
     "text": [
      "🔑 Auth error detected, attempting to refresh token...\n",
      "🔄 Refreshing authentication token...\n",
      "\n",
      "Processing chunk 22/1491 (10 tracks)\n"
     ]
    },
    {
     "name": "stderr",
     "output_type": "stream",
     "text": [
      "HTTP Error for GET to https://api.spotify.com/v1/audio-features/?ids=2bpaLmDvgulRYIHqWu9ciq,1JcO1aNIYrXh0Vx4YtraN0,04MelmovbVMQVQscyDufQ1,4mDHR3dRLUt5NdTIxO2vhr,4LJhJ6DQS7NwE7UKtvcM52,2wjUUDV2ebgGBtWizSc24h,6aF5JtQSrh7wNrkDE9B0My,1H3aJpfpjEFt3i8KsWbgmP,730EDpuaj0YBwpk1jZznfI,4lYBuSINhkqFz2cHT4tJ3u with Params: {} returned 403 due to None\n"
     ]
    },
    {
     "name": "stdout",
     "output_type": "stream",
     "text": [
      "🔑 Auth error detected, attempting to refresh token...\n",
      "🔄 Refreshing authentication token...\n",
      "\n",
      "Processing chunk 22/1491 (10 tracks)\n"
     ]
    },
    {
     "name": "stderr",
     "output_type": "stream",
     "text": [
      "HTTP Error for GET to https://api.spotify.com/v1/audio-features/?ids=2bpaLmDvgulRYIHqWu9ciq,1JcO1aNIYrXh0Vx4YtraN0,04MelmovbVMQVQscyDufQ1,4mDHR3dRLUt5NdTIxO2vhr,4LJhJ6DQS7NwE7UKtvcM52,2wjUUDV2ebgGBtWizSc24h,6aF5JtQSrh7wNrkDE9B0My,1H3aJpfpjEFt3i8KsWbgmP,730EDpuaj0YBwpk1jZznfI,4lYBuSINhkqFz2cHT4tJ3u with Params: {} returned 403 due to None\n"
     ]
    },
    {
     "name": "stdout",
     "output_type": "stream",
     "text": [
      "🔑 Auth error detected, attempting to refresh token...\n",
      "🔄 Refreshing authentication token...\n",
      "\n",
      "Processing chunk 23/1491 (10 tracks)\n"
     ]
    },
    {
     "name": "stderr",
     "output_type": "stream",
     "text": [
      "HTTP Error for GET to https://api.spotify.com/v1/audio-features/?ids=3JMeMkCXc4eEeic6IplgfV,0qr5UbxXYA7kZCdPcOhPAd,78twQ5XCFJMTE37ZSU0gsj,3iFAdU5u3TzzbineHG6JTm,4sK96UnGx3NjBaqvfTG2dm,2bsC6KLZ6a9v6zdoDkziBL,4AoFhbd4nql7W5RFDjTj3O,0GaBIpyHvytM1UBYmqXu08,58qATmGiG8K1jJ3aGTO5Ga,1Poh7QohlWXH08FDiYXw3i with Params: {} returned 403 due to None\n"
     ]
    },
    {
     "name": "stdout",
     "output_type": "stream",
     "text": [
      "🔑 Auth error detected, attempting to refresh token...\n",
      "🔄 Refreshing authentication token...\n",
      "\n",
      "Processing chunk 23/1491 (10 tracks)\n"
     ]
    },
    {
     "name": "stderr",
     "output_type": "stream",
     "text": [
      "HTTP Error for GET to https://api.spotify.com/v1/audio-features/?ids=3JMeMkCXc4eEeic6IplgfV,0qr5UbxXYA7kZCdPcOhPAd,78twQ5XCFJMTE37ZSU0gsj,3iFAdU5u3TzzbineHG6JTm,4sK96UnGx3NjBaqvfTG2dm,2bsC6KLZ6a9v6zdoDkziBL,4AoFhbd4nql7W5RFDjTj3O,0GaBIpyHvytM1UBYmqXu08,58qATmGiG8K1jJ3aGTO5Ga,1Poh7QohlWXH08FDiYXw3i with Params: {} returned 403 due to None\n"
     ]
    },
    {
     "name": "stdout",
     "output_type": "stream",
     "text": [
      "🔑 Auth error detected, attempting to refresh token...\n",
      "🔄 Refreshing authentication token...\n",
      "\n",
      "Processing chunk 23/1491 (10 tracks)\n"
     ]
    },
    {
     "name": "stderr",
     "output_type": "stream",
     "text": [
      "HTTP Error for GET to https://api.spotify.com/v1/audio-features/?ids=3JMeMkCXc4eEeic6IplgfV,0qr5UbxXYA7kZCdPcOhPAd,78twQ5XCFJMTE37ZSU0gsj,3iFAdU5u3TzzbineHG6JTm,4sK96UnGx3NjBaqvfTG2dm,2bsC6KLZ6a9v6zdoDkziBL,4AoFhbd4nql7W5RFDjTj3O,0GaBIpyHvytM1UBYmqXu08,58qATmGiG8K1jJ3aGTO5Ga,1Poh7QohlWXH08FDiYXw3i with Params: {} returned 403 due to None\n"
     ]
    },
    {
     "name": "stdout",
     "output_type": "stream",
     "text": [
      "🔑 Auth error detected, attempting to refresh token...\n",
      "🔄 Refreshing authentication token...\n",
      "\n",
      "Processing chunk 24/1491 (10 tracks)\n"
     ]
    },
    {
     "name": "stderr",
     "output_type": "stream",
     "text": [
      "HTTP Error for GET to https://api.spotify.com/v1/audio-features/?ids=5fMZ4cDsfhxR7gnFdtrWCy,3mSWsFYKyU5YyqHJInXAW1,1JqcuWreCl5cNVsX7TKGss,59AyrkP1f2GfXhV7rB93sv,11FvComd16zZX61DrlP3o1,0hlniElQOr5tvSKBaSpAQi,1LhjpPlOQv65asWCBQls5e,72dol7r1gr5hNwaipkxkuO,41KJYNs7nHVqmvhVyZB85G,1ZAbT2HeAnz6KypnX6ySyk with Params: {} returned 403 due to None\n"
     ]
    },
    {
     "name": "stdout",
     "output_type": "stream",
     "text": [
      "🔑 Auth error detected, attempting to refresh token...\n",
      "🔄 Refreshing authentication token...\n",
      "\n",
      "Processing chunk 24/1491 (10 tracks)\n"
     ]
    },
    {
     "name": "stderr",
     "output_type": "stream",
     "text": [
      "HTTP Error for GET to https://api.spotify.com/v1/audio-features/?ids=5fMZ4cDsfhxR7gnFdtrWCy,3mSWsFYKyU5YyqHJInXAW1,1JqcuWreCl5cNVsX7TKGss,59AyrkP1f2GfXhV7rB93sv,11FvComd16zZX61DrlP3o1,0hlniElQOr5tvSKBaSpAQi,1LhjpPlOQv65asWCBQls5e,72dol7r1gr5hNwaipkxkuO,41KJYNs7nHVqmvhVyZB85G,1ZAbT2HeAnz6KypnX6ySyk with Params: {} returned 403 due to None\n"
     ]
    },
    {
     "name": "stdout",
     "output_type": "stream",
     "text": [
      "🔑 Auth error detected, attempting to refresh token...\n",
      "🔄 Refreshing authentication token...\n",
      "\n",
      "Processing chunk 24/1491 (10 tracks)\n"
     ]
    },
    {
     "name": "stderr",
     "output_type": "stream",
     "text": [
      "HTTP Error for GET to https://api.spotify.com/v1/audio-features/?ids=5fMZ4cDsfhxR7gnFdtrWCy,3mSWsFYKyU5YyqHJInXAW1,1JqcuWreCl5cNVsX7TKGss,59AyrkP1f2GfXhV7rB93sv,11FvComd16zZX61DrlP3o1,0hlniElQOr5tvSKBaSpAQi,1LhjpPlOQv65asWCBQls5e,72dol7r1gr5hNwaipkxkuO,41KJYNs7nHVqmvhVyZB85G,1ZAbT2HeAnz6KypnX6ySyk with Params: {} returned 403 due to None\n"
     ]
    },
    {
     "name": "stdout",
     "output_type": "stream",
     "text": [
      "🔑 Auth error detected, attempting to refresh token...\n",
      "🔄 Refreshing authentication token...\n",
      "\n",
      "Processing chunk 25/1491 (10 tracks)\n"
     ]
    },
    {
     "name": "stderr",
     "output_type": "stream",
     "text": [
      "HTTP Error for GET to https://api.spotify.com/v1/audio-features/?ids=2n9dMNRh9j0EJxpWJ5uRTP,2dQgeORtTKDkGQ4BIZKYiq,4HOtsYCAs9AB11e1uDY3LZ,7f5pVscGqWGPmzyAJ3thAI,2ds0pWAKDaq9yz3o6rexbk,3pzjHKrQSvXGHQ98dx18HI,0zrlyaSLInQjYmft7BqTGu,5AHZNI0GAcmLZRYMYjbeK8,0FwmabirUsz3lCcrOV1hRv,3McCoAnfYzlRNjwc0FkeGT with Params: {} returned 403 due to None\n"
     ]
    },
    {
     "name": "stdout",
     "output_type": "stream",
     "text": [
      "🔑 Auth error detected, attempting to refresh token...\n",
      "🔄 Refreshing authentication token...\n",
      "\n",
      "Processing chunk 25/1491 (10 tracks)\n"
     ]
    },
    {
     "name": "stderr",
     "output_type": "stream",
     "text": [
      "HTTP Error for GET to https://api.spotify.com/v1/audio-features/?ids=2n9dMNRh9j0EJxpWJ5uRTP,2dQgeORtTKDkGQ4BIZKYiq,4HOtsYCAs9AB11e1uDY3LZ,7f5pVscGqWGPmzyAJ3thAI,2ds0pWAKDaq9yz3o6rexbk,3pzjHKrQSvXGHQ98dx18HI,0zrlyaSLInQjYmft7BqTGu,5AHZNI0GAcmLZRYMYjbeK8,0FwmabirUsz3lCcrOV1hRv,3McCoAnfYzlRNjwc0FkeGT with Params: {} returned 403 due to None\n"
     ]
    },
    {
     "name": "stdout",
     "output_type": "stream",
     "text": [
      "🔑 Auth error detected, attempting to refresh token...\n",
      "🔄 Refreshing authentication token...\n",
      "\n",
      "Processing chunk 25/1491 (10 tracks)\n"
     ]
    },
    {
     "name": "stderr",
     "output_type": "stream",
     "text": [
      "HTTP Error for GET to https://api.spotify.com/v1/audio-features/?ids=2n9dMNRh9j0EJxpWJ5uRTP,2dQgeORtTKDkGQ4BIZKYiq,4HOtsYCAs9AB11e1uDY3LZ,7f5pVscGqWGPmzyAJ3thAI,2ds0pWAKDaq9yz3o6rexbk,3pzjHKrQSvXGHQ98dx18HI,0zrlyaSLInQjYmft7BqTGu,5AHZNI0GAcmLZRYMYjbeK8,0FwmabirUsz3lCcrOV1hRv,3McCoAnfYzlRNjwc0FkeGT with Params: {} returned 403 due to None\n"
     ]
    },
    {
     "name": "stdout",
     "output_type": "stream",
     "text": [
      "🔑 Auth error detected, attempting to refresh token...\n",
      "🔄 Refreshing authentication token...\n",
      "\n",
      "Processing chunk 26/1491 (10 tracks)\n"
     ]
    },
    {
     "name": "stderr",
     "output_type": "stream",
     "text": [
      "HTTP Error for GET to https://api.spotify.com/v1/audio-features/?ids=0rVbLdk2mZf0w90Xh69mjC,0h3a3B7aUKAXrDa7K1lvMp,5pC3u7Cvza7teHPUfPMU7L,3iHzKA9HlXf5wsGdsrsnSA,2YvsGKyrVEroDZevEMIWKH,2NJwxMWJAXo3RQRZmOLHyF,2kpUNuingcchFIhLrbWxIO,57RA3JGafJm5zRtKJiKPIm,53wSKsMWQRCGcj7Plbprld,4esOae7i4rqTbAu9o5Pxco with Params: {} returned 403 due to None\n"
     ]
    },
    {
     "name": "stdout",
     "output_type": "stream",
     "text": [
      "🔑 Auth error detected, attempting to refresh token...\n",
      "🔄 Refreshing authentication token...\n",
      "\n",
      "Processing chunk 26/1491 (10 tracks)\n"
     ]
    },
    {
     "name": "stderr",
     "output_type": "stream",
     "text": [
      "HTTP Error for GET to https://api.spotify.com/v1/audio-features/?ids=0rVbLdk2mZf0w90Xh69mjC,0h3a3B7aUKAXrDa7K1lvMp,5pC3u7Cvza7teHPUfPMU7L,3iHzKA9HlXf5wsGdsrsnSA,2YvsGKyrVEroDZevEMIWKH,2NJwxMWJAXo3RQRZmOLHyF,2kpUNuingcchFIhLrbWxIO,57RA3JGafJm5zRtKJiKPIm,53wSKsMWQRCGcj7Plbprld,4esOae7i4rqTbAu9o5Pxco with Params: {} returned 403 due to None\n"
     ]
    },
    {
     "name": "stdout",
     "output_type": "stream",
     "text": [
      "🔑 Auth error detected, attempting to refresh token...\n",
      "🔄 Refreshing authentication token...\n",
      "\n",
      "Processing chunk 26/1491 (10 tracks)\n"
     ]
    },
    {
     "name": "stderr",
     "output_type": "stream",
     "text": [
      "HTTP Error for GET to https://api.spotify.com/v1/audio-features/?ids=0rVbLdk2mZf0w90Xh69mjC,0h3a3B7aUKAXrDa7K1lvMp,5pC3u7Cvza7teHPUfPMU7L,3iHzKA9HlXf5wsGdsrsnSA,2YvsGKyrVEroDZevEMIWKH,2NJwxMWJAXo3RQRZmOLHyF,2kpUNuingcchFIhLrbWxIO,57RA3JGafJm5zRtKJiKPIm,53wSKsMWQRCGcj7Plbprld,4esOae7i4rqTbAu9o5Pxco with Params: {} returned 403 due to None\n"
     ]
    },
    {
     "name": "stdout",
     "output_type": "stream",
     "text": [
      "🔑 Auth error detected, attempting to refresh token...\n",
      "🔄 Refreshing authentication token...\n",
      "\n",
      "Processing chunk 27/1491 (10 tracks)\n"
     ]
    },
    {
     "name": "stderr",
     "output_type": "stream",
     "text": [
      "HTTP Error for GET to https://api.spotify.com/v1/audio-features/?ids=68QVO7VjHmYVenBlUctem9,2wJKAoePTiQENCLCyANDAs,3UIVTj2euawYbhimqRrsHS,5BLeTB00x6MDs3Gysfrgzy,28n7AzfbkkXUaBKteP7HmM,09wkddWYD75XGBw1YzBdCm,5a1vzByRctmMAJIU1g33vq,35Cp2vASXZpjloPmYePKUI,1NGH22lTbPAkuj7gLdCcJW,5Ifvup5EBJ76HrDwQ1645K with Params: {} returned 403 due to None\n"
     ]
    },
    {
     "name": "stdout",
     "output_type": "stream",
     "text": [
      "🔑 Auth error detected, attempting to refresh token...\n",
      "🔄 Refreshing authentication token...\n",
      "\n",
      "Processing chunk 27/1491 (10 tracks)\n"
     ]
    },
    {
     "name": "stderr",
     "output_type": "stream",
     "text": [
      "HTTP Error for GET to https://api.spotify.com/v1/audio-features/?ids=68QVO7VjHmYVenBlUctem9,2wJKAoePTiQENCLCyANDAs,3UIVTj2euawYbhimqRrsHS,5BLeTB00x6MDs3Gysfrgzy,28n7AzfbkkXUaBKteP7HmM,09wkddWYD75XGBw1YzBdCm,5a1vzByRctmMAJIU1g33vq,35Cp2vASXZpjloPmYePKUI,1NGH22lTbPAkuj7gLdCcJW,5Ifvup5EBJ76HrDwQ1645K with Params: {} returned 403 due to None\n"
     ]
    },
    {
     "name": "stdout",
     "output_type": "stream",
     "text": [
      "🔑 Auth error detected, attempting to refresh token...\n",
      "🔄 Refreshing authentication token...\n",
      "\n",
      "Processing chunk 27/1491 (10 tracks)\n"
     ]
    },
    {
     "name": "stderr",
     "output_type": "stream",
     "text": [
      "HTTP Error for GET to https://api.spotify.com/v1/audio-features/?ids=68QVO7VjHmYVenBlUctem9,2wJKAoePTiQENCLCyANDAs,3UIVTj2euawYbhimqRrsHS,5BLeTB00x6MDs3Gysfrgzy,28n7AzfbkkXUaBKteP7HmM,09wkddWYD75XGBw1YzBdCm,5a1vzByRctmMAJIU1g33vq,35Cp2vASXZpjloPmYePKUI,1NGH22lTbPAkuj7gLdCcJW,5Ifvup5EBJ76HrDwQ1645K with Params: {} returned 403 due to None\n"
     ]
    },
    {
     "name": "stdout",
     "output_type": "stream",
     "text": [
      "🔑 Auth error detected, attempting to refresh token...\n",
      "🔄 Refreshing authentication token...\n",
      "\n",
      "Processing chunk 28/1491 (10 tracks)\n"
     ]
    },
    {
     "name": "stderr",
     "output_type": "stream",
     "text": [
      "HTTP Error for GET to https://api.spotify.com/v1/audio-features/?ids=5Isz0twJeFdduOQEFQLezv,7JoHXHgOh2LS0bq3cJKsFW,5TJEBoTCDbJXiKMdCN9pd3,3TwtrR1yNLY1PMPsrGQpOp,34NE4SXPtaM5sQdEtxO1ia,7ul5GGpKMxpkgd3ULSiK6J,6BrsjjqICL08nnqUgld90u,7JGI5J2oETERIyYdSbIoUt,4356Typ82hUiFAynbLYbPn,32aDXXd7wUSXuhN0aYKPPB with Params: {} returned 403 due to None\n"
     ]
    },
    {
     "name": "stdout",
     "output_type": "stream",
     "text": [
      "🔑 Auth error detected, attempting to refresh token...\n",
      "🔄 Refreshing authentication token...\n",
      "\n",
      "Processing chunk 28/1491 (10 tracks)\n"
     ]
    },
    {
     "name": "stderr",
     "output_type": "stream",
     "text": [
      "HTTP Error for GET to https://api.spotify.com/v1/audio-features/?ids=5Isz0twJeFdduOQEFQLezv,7JoHXHgOh2LS0bq3cJKsFW,5TJEBoTCDbJXiKMdCN9pd3,3TwtrR1yNLY1PMPsrGQpOp,34NE4SXPtaM5sQdEtxO1ia,7ul5GGpKMxpkgd3ULSiK6J,6BrsjjqICL08nnqUgld90u,7JGI5J2oETERIyYdSbIoUt,4356Typ82hUiFAynbLYbPn,32aDXXd7wUSXuhN0aYKPPB with Params: {} returned 403 due to None\n"
     ]
    },
    {
     "name": "stdout",
     "output_type": "stream",
     "text": [
      "🔑 Auth error detected, attempting to refresh token...\n",
      "🔄 Refreshing authentication token...\n",
      "\n",
      "Processing chunk 28/1491 (10 tracks)\n"
     ]
    },
    {
     "name": "stderr",
     "output_type": "stream",
     "text": [
      "HTTP Error for GET to https://api.spotify.com/v1/audio-features/?ids=5Isz0twJeFdduOQEFQLezv,7JoHXHgOh2LS0bq3cJKsFW,5TJEBoTCDbJXiKMdCN9pd3,3TwtrR1yNLY1PMPsrGQpOp,34NE4SXPtaM5sQdEtxO1ia,7ul5GGpKMxpkgd3ULSiK6J,6BrsjjqICL08nnqUgld90u,7JGI5J2oETERIyYdSbIoUt,4356Typ82hUiFAynbLYbPn,32aDXXd7wUSXuhN0aYKPPB with Params: {} returned 403 due to None\n"
     ]
    },
    {
     "name": "stdout",
     "output_type": "stream",
     "text": [
      "🔑 Auth error detected, attempting to refresh token...\n",
      "🔄 Refreshing authentication token...\n",
      "\n",
      "Processing chunk 29/1491 (10 tracks)\n"
     ]
    },
    {
     "name": "stderr",
     "output_type": "stream",
     "text": [
      "HTTP Error for GET to https://api.spotify.com/v1/audio-features/?ids=3oWHUxLcG6somm5SS900RX,0vOgMuqEoLlRFSWQwCe7lP,5x4obe3tZz3xgxqmKAehut,4yRXEttVIPZkWwl8hOqqg1,6ogzWt3IKZJ2f8xuvmquTV,4pkb8SbRGeHAvdb87v9rpf,6o11hLj2MFbDJ7lhNOvLdb,2pegY5hsJSQ4TiN2ojShjt,629DixmZGHc7ILtEntuiWE,2NWJAp8f7iTGcf4L6myirR with Params: {} returned 403 due to None\n"
     ]
    },
    {
     "name": "stdout",
     "output_type": "stream",
     "text": [
      "🔑 Auth error detected, attempting to refresh token...\n",
      "🔄 Refreshing authentication token...\n",
      "\n",
      "Processing chunk 29/1491 (10 tracks)\n"
     ]
    },
    {
     "name": "stderr",
     "output_type": "stream",
     "text": [
      "HTTP Error for GET to https://api.spotify.com/v1/audio-features/?ids=3oWHUxLcG6somm5SS900RX,0vOgMuqEoLlRFSWQwCe7lP,5x4obe3tZz3xgxqmKAehut,4yRXEttVIPZkWwl8hOqqg1,6ogzWt3IKZJ2f8xuvmquTV,4pkb8SbRGeHAvdb87v9rpf,6o11hLj2MFbDJ7lhNOvLdb,2pegY5hsJSQ4TiN2ojShjt,629DixmZGHc7ILtEntuiWE,2NWJAp8f7iTGcf4L6myirR with Params: {} returned 403 due to None\n"
     ]
    },
    {
     "name": "stdout",
     "output_type": "stream",
     "text": [
      "🔑 Auth error detected, attempting to refresh token...\n",
      "🔄 Refreshing authentication token...\n",
      "\n",
      "Processing chunk 29/1491 (10 tracks)\n"
     ]
    },
    {
     "name": "stderr",
     "output_type": "stream",
     "text": [
      "HTTP Error for GET to https://api.spotify.com/v1/audio-features/?ids=3oWHUxLcG6somm5SS900RX,0vOgMuqEoLlRFSWQwCe7lP,5x4obe3tZz3xgxqmKAehut,4yRXEttVIPZkWwl8hOqqg1,6ogzWt3IKZJ2f8xuvmquTV,4pkb8SbRGeHAvdb87v9rpf,6o11hLj2MFbDJ7lhNOvLdb,2pegY5hsJSQ4TiN2ojShjt,629DixmZGHc7ILtEntuiWE,2NWJAp8f7iTGcf4L6myirR with Params: {} returned 403 due to None\n"
     ]
    },
    {
     "name": "stdout",
     "output_type": "stream",
     "text": [
      "🔑 Auth error detected, attempting to refresh token...\n",
      "🔄 Refreshing authentication token...\n",
      "\n",
      "Processing chunk 30/1491 (10 tracks)\n"
     ]
    },
    {
     "name": "stderr",
     "output_type": "stream",
     "text": [
      "HTTP Error for GET to https://api.spotify.com/v1/audio-features/?ids=6oCXDaFZYL7sHnowv6pdXb,6yIsmZmxtmDIwOVpID1wY3,4Jo52DzqFpmBoRvyBzD5T1,3b0VYsg4afpPAlfzOGH2NJ,2zg6aGS3qFpVYqEkGy0vVB,54zDa4lVqTUHsPFzmGaCPw,01vRKzCUSI0VWLDdV7HTox,60z5YKvOHe3Hzph7Tk7tnb,1EErT9uKTD3TK6xD96i6NG,3Pu3IChaAoa5EjgUBv5F6x with Params: {} returned 403 due to None\n"
     ]
    },
    {
     "name": "stdout",
     "output_type": "stream",
     "text": [
      "🔑 Auth error detected, attempting to refresh token...\n",
      "🔄 Refreshing authentication token...\n",
      "\n",
      "Processing chunk 30/1491 (10 tracks)\n"
     ]
    },
    {
     "name": "stderr",
     "output_type": "stream",
     "text": [
      "HTTP Error for GET to https://api.spotify.com/v1/audio-features/?ids=6oCXDaFZYL7sHnowv6pdXb,6yIsmZmxtmDIwOVpID1wY3,4Jo52DzqFpmBoRvyBzD5T1,3b0VYsg4afpPAlfzOGH2NJ,2zg6aGS3qFpVYqEkGy0vVB,54zDa4lVqTUHsPFzmGaCPw,01vRKzCUSI0VWLDdV7HTox,60z5YKvOHe3Hzph7Tk7tnb,1EErT9uKTD3TK6xD96i6NG,3Pu3IChaAoa5EjgUBv5F6x with Params: {} returned 403 due to None\n"
     ]
    },
    {
     "name": "stdout",
     "output_type": "stream",
     "text": [
      "🔑 Auth error detected, attempting to refresh token...\n",
      "🔄 Refreshing authentication token...\n",
      "\n",
      "Processing chunk 30/1491 (10 tracks)\n"
     ]
    },
    {
     "name": "stderr",
     "output_type": "stream",
     "text": [
      "HTTP Error for GET to https://api.spotify.com/v1/audio-features/?ids=6oCXDaFZYL7sHnowv6pdXb,6yIsmZmxtmDIwOVpID1wY3,4Jo52DzqFpmBoRvyBzD5T1,3b0VYsg4afpPAlfzOGH2NJ,2zg6aGS3qFpVYqEkGy0vVB,54zDa4lVqTUHsPFzmGaCPw,01vRKzCUSI0VWLDdV7HTox,60z5YKvOHe3Hzph7Tk7tnb,1EErT9uKTD3TK6xD96i6NG,3Pu3IChaAoa5EjgUBv5F6x with Params: {} returned 403 due to None\n"
     ]
    },
    {
     "name": "stdout",
     "output_type": "stream",
     "text": [
      "🔑 Auth error detected, attempting to refresh token...\n",
      "🔄 Refreshing authentication token...\n",
      "\n",
      "Processing chunk 31/1491 (10 tracks)\n"
     ]
    },
    {
     "name": "stderr",
     "output_type": "stream",
     "text": [
      "HTTP Error for GET to https://api.spotify.com/v1/audio-features/?ids=3s4IEHaBYfVmi4rUwRVzFp,1nzUWolHruaIbq0hAar4MF,1BEsIpANgz1q6LjSywvNVE,21EszlvwsfCmeftltV4CM5,6GrWlgj2d7KYbYoTZG6spa,1DFD5Fotzgn6yYXkYsKiGs,367rZsC8cQOrJHVi9Cd9Zv,1nufXiTCTTAeJfO9hLHvO8,0GkMvnua2Tn8B2td4JMv1o,3SpMDRhgERIaDzPqNcrlAH with Params: {} returned 403 due to None\n"
     ]
    },
    {
     "name": "stdout",
     "output_type": "stream",
     "text": [
      "🔑 Auth error detected, attempting to refresh token...\n",
      "🔄 Refreshing authentication token...\n",
      "\n",
      "Processing chunk 31/1491 (10 tracks)\n"
     ]
    },
    {
     "name": "stderr",
     "output_type": "stream",
     "text": [
      "HTTP Error for GET to https://api.spotify.com/v1/audio-features/?ids=3s4IEHaBYfVmi4rUwRVzFp,1nzUWolHruaIbq0hAar4MF,1BEsIpANgz1q6LjSywvNVE,21EszlvwsfCmeftltV4CM5,6GrWlgj2d7KYbYoTZG6spa,1DFD5Fotzgn6yYXkYsKiGs,367rZsC8cQOrJHVi9Cd9Zv,1nufXiTCTTAeJfO9hLHvO8,0GkMvnua2Tn8B2td4JMv1o,3SpMDRhgERIaDzPqNcrlAH with Params: {} returned 403 due to None\n"
     ]
    },
    {
     "name": "stdout",
     "output_type": "stream",
     "text": [
      "🔑 Auth error detected, attempting to refresh token...\n",
      "🔄 Refreshing authentication token...\n",
      "\n",
      "Processing chunk 31/1491 (10 tracks)\n"
     ]
    },
    {
     "name": "stderr",
     "output_type": "stream",
     "text": [
      "HTTP Error for GET to https://api.spotify.com/v1/audio-features/?ids=3s4IEHaBYfVmi4rUwRVzFp,1nzUWolHruaIbq0hAar4MF,1BEsIpANgz1q6LjSywvNVE,21EszlvwsfCmeftltV4CM5,6GrWlgj2d7KYbYoTZG6spa,1DFD5Fotzgn6yYXkYsKiGs,367rZsC8cQOrJHVi9Cd9Zv,1nufXiTCTTAeJfO9hLHvO8,0GkMvnua2Tn8B2td4JMv1o,3SpMDRhgERIaDzPqNcrlAH with Params: {} returned 403 due to None\n"
     ]
    },
    {
     "name": "stdout",
     "output_type": "stream",
     "text": [
      "🔑 Auth error detected, attempting to refresh token...\n",
      "🔄 Refreshing authentication token...\n",
      "\n",
      "Processing chunk 32/1491 (10 tracks)\n"
     ]
    },
    {
     "name": "stderr",
     "output_type": "stream",
     "text": [
      "HTTP Error for GET to https://api.spotify.com/v1/audio-features/?ids=4rlcRCVPt5h4F8RSOa1IEp,7IhLDfPE29XIzkdyF4iw86,34tz0eDhGuFErIuW3q4mPX,0lNsAplRxynED2KEYsN1Yq,24IgLjByADsOFmhTyjfH0h,2855a8NCBwEAAdnJftGizK,4vCZE6ZoozW04rgUlbuudA,0LlyYYb23WQDhF2k10D0P4,54FFl4sQxAQ4OTv0LaoFDF,3SgNNTsYJQWhpnQn40MlUk with Params: {} returned 403 due to None\n"
     ]
    },
    {
     "name": "stdout",
     "output_type": "stream",
     "text": [
      "🔑 Auth error detected, attempting to refresh token...\n",
      "🔄 Refreshing authentication token...\n",
      "\n",
      "Processing chunk 32/1491 (10 tracks)\n"
     ]
    },
    {
     "name": "stderr",
     "output_type": "stream",
     "text": [
      "HTTP Error for GET to https://api.spotify.com/v1/audio-features/?ids=4rlcRCVPt5h4F8RSOa1IEp,7IhLDfPE29XIzkdyF4iw86,34tz0eDhGuFErIuW3q4mPX,0lNsAplRxynED2KEYsN1Yq,24IgLjByADsOFmhTyjfH0h,2855a8NCBwEAAdnJftGizK,4vCZE6ZoozW04rgUlbuudA,0LlyYYb23WQDhF2k10D0P4,54FFl4sQxAQ4OTv0LaoFDF,3SgNNTsYJQWhpnQn40MlUk with Params: {} returned 403 due to None\n"
     ]
    },
    {
     "name": "stdout",
     "output_type": "stream",
     "text": [
      "🔑 Auth error detected, attempting to refresh token...\n",
      "🔄 Refreshing authentication token...\n",
      "\n",
      "Processing chunk 32/1491 (10 tracks)\n"
     ]
    },
    {
     "name": "stderr",
     "output_type": "stream",
     "text": [
      "HTTP Error for GET to https://api.spotify.com/v1/audio-features/?ids=4rlcRCVPt5h4F8RSOa1IEp,7IhLDfPE29XIzkdyF4iw86,34tz0eDhGuFErIuW3q4mPX,0lNsAplRxynED2KEYsN1Yq,24IgLjByADsOFmhTyjfH0h,2855a8NCBwEAAdnJftGizK,4vCZE6ZoozW04rgUlbuudA,0LlyYYb23WQDhF2k10D0P4,54FFl4sQxAQ4OTv0LaoFDF,3SgNNTsYJQWhpnQn40MlUk with Params: {} returned 403 due to None\n"
     ]
    },
    {
     "name": "stdout",
     "output_type": "stream",
     "text": [
      "🔑 Auth error detected, attempting to refresh token...\n",
      "🔄 Refreshing authentication token...\n",
      "\n",
      "Processing chunk 33/1491 (10 tracks)\n"
     ]
    },
    {
     "name": "stderr",
     "output_type": "stream",
     "text": [
      "HTTP Error for GET to https://api.spotify.com/v1/audio-features/?ids=3u7YrFzYsXkr8fZrvi3com,4bCxLr5DdkCS5y2WJ86GKZ,49FWHzRd3A84DOXJsNGbhu,7jkhudPO0ICkV2JExpDVGb,13iqdZSL4qOwF3JWKJ14XD,7ap5NaoYRB6TJdrhX5Fej8,57eZPUbPpylTQHBD1RdpGW,6ZahaGPhyiXTi1pLEtGM6e,2mtoieKv19dJBPiCdPUjWS,2U0nxHi5TZXRRx7NJitbbR with Params: {} returned 403 due to None\n"
     ]
    },
    {
     "name": "stdout",
     "output_type": "stream",
     "text": [
      "🔑 Auth error detected, attempting to refresh token...\n",
      "🔄 Refreshing authentication token...\n",
      "\n",
      "Processing chunk 33/1491 (10 tracks)\n"
     ]
    },
    {
     "name": "stderr",
     "output_type": "stream",
     "text": [
      "HTTP Error for GET to https://api.spotify.com/v1/audio-features/?ids=3u7YrFzYsXkr8fZrvi3com,4bCxLr5DdkCS5y2WJ86GKZ,49FWHzRd3A84DOXJsNGbhu,7jkhudPO0ICkV2JExpDVGb,13iqdZSL4qOwF3JWKJ14XD,7ap5NaoYRB6TJdrhX5Fej8,57eZPUbPpylTQHBD1RdpGW,6ZahaGPhyiXTi1pLEtGM6e,2mtoieKv19dJBPiCdPUjWS,2U0nxHi5TZXRRx7NJitbbR with Params: {} returned 403 due to None\n"
     ]
    },
    {
     "name": "stdout",
     "output_type": "stream",
     "text": [
      "🔑 Auth error detected, attempting to refresh token...\n",
      "🔄 Refreshing authentication token...\n",
      "\n",
      "Processing chunk 33/1491 (10 tracks)\n"
     ]
    },
    {
     "name": "stderr",
     "output_type": "stream",
     "text": [
      "HTTP Error for GET to https://api.spotify.com/v1/audio-features/?ids=3u7YrFzYsXkr8fZrvi3com,4bCxLr5DdkCS5y2WJ86GKZ,49FWHzRd3A84DOXJsNGbhu,7jkhudPO0ICkV2JExpDVGb,13iqdZSL4qOwF3JWKJ14XD,7ap5NaoYRB6TJdrhX5Fej8,57eZPUbPpylTQHBD1RdpGW,6ZahaGPhyiXTi1pLEtGM6e,2mtoieKv19dJBPiCdPUjWS,2U0nxHi5TZXRRx7NJitbbR with Params: {} returned 403 due to None\n"
     ]
    },
    {
     "name": "stdout",
     "output_type": "stream",
     "text": [
      "🔑 Auth error detected, attempting to refresh token...\n",
      "🔄 Refreshing authentication token...\n",
      "\n",
      "Processing chunk 34/1491 (10 tracks)\n"
     ]
    },
    {
     "name": "stderr",
     "output_type": "stream",
     "text": [
      "HTTP Error for GET to https://api.spotify.com/v1/audio-features/?ids=0fcSeQKTR0YKGpCrycbtoT,6BMko6qCsovZL6WhVragSJ,2zeOOAN7cF8bmJh5foxibO,63RxGM7ibOZKKdbzwu0XEm,0QePc7PRAE8ClqWRT9UuvN,14I02zSTY8PJDiy21FqC1W,7nDo23W0keoaO4J6mxk4ps,0JmnkIqdlnUzPaf8sqBRs3,6NQHukyi4qcPuC3ZfCVyLu,19NwQ6bjljTLHqY5XaZhVT with Params: {} returned 403 due to None\n"
     ]
    },
    {
     "name": "stdout",
     "output_type": "stream",
     "text": [
      "🔑 Auth error detected, attempting to refresh token...\n",
      "🔄 Refreshing authentication token...\n",
      "\n",
      "Processing chunk 34/1491 (10 tracks)\n"
     ]
    },
    {
     "name": "stderr",
     "output_type": "stream",
     "text": [
      "HTTP Error for GET to https://api.spotify.com/v1/audio-features/?ids=0fcSeQKTR0YKGpCrycbtoT,6BMko6qCsovZL6WhVragSJ,2zeOOAN7cF8bmJh5foxibO,63RxGM7ibOZKKdbzwu0XEm,0QePc7PRAE8ClqWRT9UuvN,14I02zSTY8PJDiy21FqC1W,7nDo23W0keoaO4J6mxk4ps,0JmnkIqdlnUzPaf8sqBRs3,6NQHukyi4qcPuC3ZfCVyLu,19NwQ6bjljTLHqY5XaZhVT with Params: {} returned 403 due to None\n"
     ]
    },
    {
     "name": "stdout",
     "output_type": "stream",
     "text": [
      "🔑 Auth error detected, attempting to refresh token...\n",
      "🔄 Refreshing authentication token...\n",
      "\n",
      "Processing chunk 34/1491 (10 tracks)\n"
     ]
    },
    {
     "name": "stderr",
     "output_type": "stream",
     "text": [
      "HTTP Error for GET to https://api.spotify.com/v1/audio-features/?ids=0fcSeQKTR0YKGpCrycbtoT,6BMko6qCsovZL6WhVragSJ,2zeOOAN7cF8bmJh5foxibO,63RxGM7ibOZKKdbzwu0XEm,0QePc7PRAE8ClqWRT9UuvN,14I02zSTY8PJDiy21FqC1W,7nDo23W0keoaO4J6mxk4ps,0JmnkIqdlnUzPaf8sqBRs3,6NQHukyi4qcPuC3ZfCVyLu,19NwQ6bjljTLHqY5XaZhVT with Params: {} returned 403 due to None\n"
     ]
    },
    {
     "name": "stdout",
     "output_type": "stream",
     "text": [
      "🔑 Auth error detected, attempting to refresh token...\n",
      "🔄 Refreshing authentication token...\n",
      "\n",
      "Processing chunk 35/1491 (10 tracks)\n"
     ]
    },
    {
     "name": "stderr",
     "output_type": "stream",
     "text": [
      "HTTP Error for GET to https://api.spotify.com/v1/audio-features/?ids=0Rss5Hq0KpnQ1slK5L2Flw,3MIJLgo5tYFQ6cBYkBPEIv,3x0jeGEyBp3Pg4xkzqOdED,7DuOKfkcgiwue6KUh1rLB1,3wli6CFsUwYEuLZTIuCwt3,39BP8c5ArEIZqG92rCQIOd,0xCNuj4K7uyr0BLONhv7bP,24vNTDqvAfgKMyDAT6ZFBd,2XxYzgRwN78h4ipgNAVSP2,2J4P46vCFm1rPkNkp9pZWX with Params: {} returned 403 due to None\n"
     ]
    },
    {
     "name": "stdout",
     "output_type": "stream",
     "text": [
      "🔑 Auth error detected, attempting to refresh token...\n",
      "🔄 Refreshing authentication token...\n",
      "\n",
      "Processing chunk 35/1491 (10 tracks)\n"
     ]
    },
    {
     "name": "stderr",
     "output_type": "stream",
     "text": [
      "HTTP Error for GET to https://api.spotify.com/v1/audio-features/?ids=0Rss5Hq0KpnQ1slK5L2Flw,3MIJLgo5tYFQ6cBYkBPEIv,3x0jeGEyBp3Pg4xkzqOdED,7DuOKfkcgiwue6KUh1rLB1,3wli6CFsUwYEuLZTIuCwt3,39BP8c5ArEIZqG92rCQIOd,0xCNuj4K7uyr0BLONhv7bP,24vNTDqvAfgKMyDAT6ZFBd,2XxYzgRwN78h4ipgNAVSP2,2J4P46vCFm1rPkNkp9pZWX with Params: {} returned 403 due to None\n"
     ]
    },
    {
     "name": "stdout",
     "output_type": "stream",
     "text": [
      "🔑 Auth error detected, attempting to refresh token...\n",
      "🔄 Refreshing authentication token...\n",
      "\n",
      "Processing chunk 35/1491 (10 tracks)\n"
     ]
    },
    {
     "name": "stderr",
     "output_type": "stream",
     "text": [
      "HTTP Error for GET to https://api.spotify.com/v1/audio-features/?ids=0Rss5Hq0KpnQ1slK5L2Flw,3MIJLgo5tYFQ6cBYkBPEIv,3x0jeGEyBp3Pg4xkzqOdED,7DuOKfkcgiwue6KUh1rLB1,3wli6CFsUwYEuLZTIuCwt3,39BP8c5ArEIZqG92rCQIOd,0xCNuj4K7uyr0BLONhv7bP,24vNTDqvAfgKMyDAT6ZFBd,2XxYzgRwN78h4ipgNAVSP2,2J4P46vCFm1rPkNkp9pZWX with Params: {} returned 403 due to None\n"
     ]
    },
    {
     "name": "stdout",
     "output_type": "stream",
     "text": [
      "🔑 Auth error detected, attempting to refresh token...\n",
      "🔄 Refreshing authentication token...\n",
      "\n",
      "Processing chunk 36/1491 (10 tracks)\n"
     ]
    },
    {
     "name": "stderr",
     "output_type": "stream",
     "text": [
      "HTTP Error for GET to https://api.spotify.com/v1/audio-features/?ids=0nys6GusuHnjSYLW0PYYb7,5fg0wLEHctkcCXFKRUE5U4,6UtjOglbY9W3gUoO6MpBdP,6I3mqTwhRpn34SLVafSH7G,2Lu8rcQNA9S3oIb554W7zM,0ls8PQnGk3m80LF3OZ64wa,1z6zJqayfsAiiYtQ3minb7,6EwrDDIsg3gyc6X1Qy51AK,60nrjoJ5zSc6pFElAbC3DM,5LdpAnB1cLskoFDrgN0LoP with Params: {} returned 403 due to None\n"
     ]
    },
    {
     "name": "stdout",
     "output_type": "stream",
     "text": [
      "🔑 Auth error detected, attempting to refresh token...\n",
      "🔄 Refreshing authentication token...\n",
      "\n",
      "Processing chunk 36/1491 (10 tracks)\n"
     ]
    },
    {
     "name": "stderr",
     "output_type": "stream",
     "text": [
      "HTTP Error for GET to https://api.spotify.com/v1/audio-features/?ids=0nys6GusuHnjSYLW0PYYb7,5fg0wLEHctkcCXFKRUE5U4,6UtjOglbY9W3gUoO6MpBdP,6I3mqTwhRpn34SLVafSH7G,2Lu8rcQNA9S3oIb554W7zM,0ls8PQnGk3m80LF3OZ64wa,1z6zJqayfsAiiYtQ3minb7,6EwrDDIsg3gyc6X1Qy51AK,60nrjoJ5zSc6pFElAbC3DM,5LdpAnB1cLskoFDrgN0LoP with Params: {} returned 403 due to None\n"
     ]
    },
    {
     "name": "stdout",
     "output_type": "stream",
     "text": [
      "🔑 Auth error detected, attempting to refresh token...\n",
      "🔄 Refreshing authentication token...\n",
      "\n",
      "Processing chunk 36/1491 (10 tracks)\n"
     ]
    },
    {
     "name": "stderr",
     "output_type": "stream",
     "text": [
      "HTTP Error for GET to https://api.spotify.com/v1/audio-features/?ids=0nys6GusuHnjSYLW0PYYb7,5fg0wLEHctkcCXFKRUE5U4,6UtjOglbY9W3gUoO6MpBdP,6I3mqTwhRpn34SLVafSH7G,2Lu8rcQNA9S3oIb554W7zM,0ls8PQnGk3m80LF3OZ64wa,1z6zJqayfsAiiYtQ3minb7,6EwrDDIsg3gyc6X1Qy51AK,60nrjoJ5zSc6pFElAbC3DM,5LdpAnB1cLskoFDrgN0LoP with Params: {} returned 403 due to None\n"
     ]
    },
    {
     "name": "stdout",
     "output_type": "stream",
     "text": [
      "🔑 Auth error detected, attempting to refresh token...\n",
      "🔄 Refreshing authentication token...\n",
      "\n",
      "Processing chunk 37/1491 (10 tracks)\n"
     ]
    },
    {
     "name": "stderr",
     "output_type": "stream",
     "text": [
      "HTTP Error for GET to https://api.spotify.com/v1/audio-features/?ids=1SJtlNRJDeYHioymcvsqev,5RcsYwKEwez5kIeN2Ix6Ck,1WeafHcQv8oenO2E1bshMN,3ebXMykcMXOcLeJ9xZ17XH,0KzMtN3OM0HKHeilGVB6N6,3nef5W8jTkXrOKgCu4kmq7,3NN2VyGJUre8epa7bWr8jw,0qiSRGG0InCAvoT4OGUkps,0lA4sIJQqvedmqj6wOIWam,5l9c6bJmzvftumhz4TMPgk with Params: {} returned 403 due to None\n"
     ]
    },
    {
     "name": "stdout",
     "output_type": "stream",
     "text": [
      "🔑 Auth error detected, attempting to refresh token...\n",
      "🔄 Refreshing authentication token...\n",
      "\n",
      "Processing chunk 37/1491 (10 tracks)\n"
     ]
    },
    {
     "name": "stderr",
     "output_type": "stream",
     "text": [
      "HTTP Error for GET to https://api.spotify.com/v1/audio-features/?ids=1SJtlNRJDeYHioymcvsqev,5RcsYwKEwez5kIeN2Ix6Ck,1WeafHcQv8oenO2E1bshMN,3ebXMykcMXOcLeJ9xZ17XH,0KzMtN3OM0HKHeilGVB6N6,3nef5W8jTkXrOKgCu4kmq7,3NN2VyGJUre8epa7bWr8jw,0qiSRGG0InCAvoT4OGUkps,0lA4sIJQqvedmqj6wOIWam,5l9c6bJmzvftumhz4TMPgk with Params: {} returned 403 due to None\n"
     ]
    },
    {
     "name": "stdout",
     "output_type": "stream",
     "text": [
      "🔑 Auth error detected, attempting to refresh token...\n",
      "🔄 Refreshing authentication token...\n",
      "\n",
      "Processing chunk 37/1491 (10 tracks)\n"
     ]
    },
    {
     "name": "stderr",
     "output_type": "stream",
     "text": [
      "HTTP Error for GET to https://api.spotify.com/v1/audio-features/?ids=1SJtlNRJDeYHioymcvsqev,5RcsYwKEwez5kIeN2Ix6Ck,1WeafHcQv8oenO2E1bshMN,3ebXMykcMXOcLeJ9xZ17XH,0KzMtN3OM0HKHeilGVB6N6,3nef5W8jTkXrOKgCu4kmq7,3NN2VyGJUre8epa7bWr8jw,0qiSRGG0InCAvoT4OGUkps,0lA4sIJQqvedmqj6wOIWam,5l9c6bJmzvftumhz4TMPgk with Params: {} returned 403 due to None\n"
     ]
    },
    {
     "name": "stdout",
     "output_type": "stream",
     "text": [
      "🔑 Auth error detected, attempting to refresh token...\n",
      "🔄 Refreshing authentication token...\n",
      "\n",
      "Processing chunk 38/1491 (10 tracks)\n"
     ]
    },
    {
     "name": "stderr",
     "output_type": "stream",
     "text": [
      "HTTP Error for GET to https://api.spotify.com/v1/audio-features/?ids=03HcniC2bLsKWWl1C9Ocp1,6WhwsgSpv8Krk7GrUaVAgx,3ET8rosUY5No65gSlDpclC,53FPq9vyxHc9DnYRUUI1mt,5EaaGNkpMqAd2Zs4Knq3sH,5aQg0fEN0dl62SFxwiVPiK,00UI8cUAEXID5PqHRtUDEv,3DQXfuEOlEq4PNvZsI6EZs,5j0McHPthKpOXRr3fBq8M0,0XoYZSVQjd1hClkZQWYDLk with Params: {} returned 403 due to None\n"
     ]
    },
    {
     "name": "stdout",
     "output_type": "stream",
     "text": [
      "🔑 Auth error detected, attempting to refresh token...\n",
      "🔄 Refreshing authentication token...\n",
      "\n",
      "Processing chunk 38/1491 (10 tracks)\n"
     ]
    },
    {
     "name": "stderr",
     "output_type": "stream",
     "text": [
      "HTTP Error for GET to https://api.spotify.com/v1/audio-features/?ids=03HcniC2bLsKWWl1C9Ocp1,6WhwsgSpv8Krk7GrUaVAgx,3ET8rosUY5No65gSlDpclC,53FPq9vyxHc9DnYRUUI1mt,5EaaGNkpMqAd2Zs4Knq3sH,5aQg0fEN0dl62SFxwiVPiK,00UI8cUAEXID5PqHRtUDEv,3DQXfuEOlEq4PNvZsI6EZs,5j0McHPthKpOXRr3fBq8M0,0XoYZSVQjd1hClkZQWYDLk with Params: {} returned 403 due to None\n"
     ]
    },
    {
     "name": "stdout",
     "output_type": "stream",
     "text": [
      "🔑 Auth error detected, attempting to refresh token...\n",
      "🔄 Refreshing authentication token...\n",
      "\n",
      "Processing chunk 38/1491 (10 tracks)\n"
     ]
    },
    {
     "name": "stderr",
     "output_type": "stream",
     "text": [
      "HTTP Error for GET to https://api.spotify.com/v1/audio-features/?ids=03HcniC2bLsKWWl1C9Ocp1,6WhwsgSpv8Krk7GrUaVAgx,3ET8rosUY5No65gSlDpclC,53FPq9vyxHc9DnYRUUI1mt,5EaaGNkpMqAd2Zs4Knq3sH,5aQg0fEN0dl62SFxwiVPiK,00UI8cUAEXID5PqHRtUDEv,3DQXfuEOlEq4PNvZsI6EZs,5j0McHPthKpOXRr3fBq8M0,0XoYZSVQjd1hClkZQWYDLk with Params: {} returned 403 due to None\n"
     ]
    },
    {
     "name": "stdout",
     "output_type": "stream",
     "text": [
      "🔑 Auth error detected, attempting to refresh token...\n",
      "🔄 Refreshing authentication token...\n",
      "\n",
      "Processing chunk 39/1491 (10 tracks)\n"
     ]
    },
    {
     "name": "stderr",
     "output_type": "stream",
     "text": [
      "HTTP Error for GET to https://api.spotify.com/v1/audio-features/?ids=6LGwYMXXgURfaequXipzHx,6pAcjCyuXDQy1Xzjjf6UFm,15guDraR3akE7DWQFfIMPz,2fx1hkMHTVdDim274rwoPa,7hnW9af7GuGH5lyUUTa8UH,5fP03kQb8SttbVI0cB71B5,4kqsT3yDyJr1KZ2AkM9qfD,3DG4WI5bE5IyfTteCgrXa6,2od6VwQ93pD6vfYss3oync,0lcuhtx0HtZeWFUYFqIi5P with Params: {} returned 403 due to None\n"
     ]
    },
    {
     "name": "stdout",
     "output_type": "stream",
     "text": [
      "🔑 Auth error detected, attempting to refresh token...\n",
      "🔄 Refreshing authentication token...\n",
      "\n",
      "Processing chunk 39/1491 (10 tracks)\n"
     ]
    },
    {
     "name": "stderr",
     "output_type": "stream",
     "text": [
      "HTTP Error for GET to https://api.spotify.com/v1/audio-features/?ids=6LGwYMXXgURfaequXipzHx,6pAcjCyuXDQy1Xzjjf6UFm,15guDraR3akE7DWQFfIMPz,2fx1hkMHTVdDim274rwoPa,7hnW9af7GuGH5lyUUTa8UH,5fP03kQb8SttbVI0cB71B5,4kqsT3yDyJr1KZ2AkM9qfD,3DG4WI5bE5IyfTteCgrXa6,2od6VwQ93pD6vfYss3oync,0lcuhtx0HtZeWFUYFqIi5P with Params: {} returned 403 due to None\n"
     ]
    },
    {
     "name": "stdout",
     "output_type": "stream",
     "text": [
      "🔑 Auth error detected, attempting to refresh token...\n",
      "🔄 Refreshing authentication token...\n",
      "\n",
      "Processing chunk 39/1491 (10 tracks)\n"
     ]
    },
    {
     "name": "stderr",
     "output_type": "stream",
     "text": [
      "HTTP Error for GET to https://api.spotify.com/v1/audio-features/?ids=6LGwYMXXgURfaequXipzHx,6pAcjCyuXDQy1Xzjjf6UFm,15guDraR3akE7DWQFfIMPz,2fx1hkMHTVdDim274rwoPa,7hnW9af7GuGH5lyUUTa8UH,5fP03kQb8SttbVI0cB71B5,4kqsT3yDyJr1KZ2AkM9qfD,3DG4WI5bE5IyfTteCgrXa6,2od6VwQ93pD6vfYss3oync,0lcuhtx0HtZeWFUYFqIi5P with Params: {} returned 403 due to None\n"
     ]
    },
    {
     "name": "stdout",
     "output_type": "stream",
     "text": [
      "🔑 Auth error detected, attempting to refresh token...\n",
      "🔄 Refreshing authentication token...\n",
      "\n",
      "Processing chunk 40/1491 (10 tracks)\n"
     ]
    },
    {
     "name": "stderr",
     "output_type": "stream",
     "text": [
      "HTTP Error for GET to https://api.spotify.com/v1/audio-features/?ids=3gK1D28nkBGnxw2QL1sMfN,0WijnaebACF5VC3U3kWjyj,3t2w2Oit2IOydKCOBlXnd3,0mQU3EuOIqMpRg4qbXDxda,0gofnOYINQOQVCByuN3qLp,5euumi7eqEgmxvCIJw2pSp,16GeVoVvppH6vP2cvANOej,7ezbbALHXGce6VXUmbCwGm,2DBDGF73zm6LxSWa0yxsSQ,7EtMoneUIbfYJw0J6HhNtS with Params: {} returned 403 due to None\n"
     ]
    },
    {
     "name": "stdout",
     "output_type": "stream",
     "text": [
      "🔑 Auth error detected, attempting to refresh token...\n",
      "🔄 Refreshing authentication token...\n",
      "\n",
      "Processing chunk 40/1491 (10 tracks)\n"
     ]
    },
    {
     "name": "stderr",
     "output_type": "stream",
     "text": [
      "HTTP Error for GET to https://api.spotify.com/v1/audio-features/?ids=3gK1D28nkBGnxw2QL1sMfN,0WijnaebACF5VC3U3kWjyj,3t2w2Oit2IOydKCOBlXnd3,0mQU3EuOIqMpRg4qbXDxda,0gofnOYINQOQVCByuN3qLp,5euumi7eqEgmxvCIJw2pSp,16GeVoVvppH6vP2cvANOej,7ezbbALHXGce6VXUmbCwGm,2DBDGF73zm6LxSWa0yxsSQ,7EtMoneUIbfYJw0J6HhNtS with Params: {} returned 403 due to None\n"
     ]
    },
    {
     "name": "stdout",
     "output_type": "stream",
     "text": [
      "🔑 Auth error detected, attempting to refresh token...\n",
      "🔄 Refreshing authentication token...\n",
      "\n",
      "Processing chunk 40/1491 (10 tracks)\n"
     ]
    },
    {
     "name": "stderr",
     "output_type": "stream",
     "text": [
      "HTTP Error for GET to https://api.spotify.com/v1/audio-features/?ids=3gK1D28nkBGnxw2QL1sMfN,0WijnaebACF5VC3U3kWjyj,3t2w2Oit2IOydKCOBlXnd3,0mQU3EuOIqMpRg4qbXDxda,0gofnOYINQOQVCByuN3qLp,5euumi7eqEgmxvCIJw2pSp,16GeVoVvppH6vP2cvANOej,7ezbbALHXGce6VXUmbCwGm,2DBDGF73zm6LxSWa0yxsSQ,7EtMoneUIbfYJw0J6HhNtS with Params: {} returned 403 due to None\n"
     ]
    },
    {
     "name": "stdout",
     "output_type": "stream",
     "text": [
      "🔑 Auth error detected, attempting to refresh token...\n",
      "🔄 Refreshing authentication token...\n",
      "\n",
      "Processing chunk 41/1491 (10 tracks)\n"
     ]
    },
    {
     "name": "stderr",
     "output_type": "stream",
     "text": [
      "HTTP Error for GET to https://api.spotify.com/v1/audio-features/?ids=07GK5FmdmfXoBiGCl4wTEb,7qOVMMY0couqt76ObwY947,5dUOWlWWYdAgqeXwTgbaKt,3EZBqvMOSOid0lXZ7JliUY,1NJC4SXdmFqeDbNO6HtKrh,6ieMT0YzPPuxzXqlPKin3m,4AkLsoLJoc3wXjsVN3zsdH,5fYfBqUiznwdTvDUwBP6QF,7aRCf5cLOFN1U7kvtChY1G,0T4TdNQ93GEXKtfkCx9zYF with Params: {} returned 403 due to None\n"
     ]
    },
    {
     "name": "stdout",
     "output_type": "stream",
     "text": [
      "🔑 Auth error detected, attempting to refresh token...\n",
      "🔄 Refreshing authentication token...\n",
      "\n",
      "Processing chunk 41/1491 (10 tracks)\n"
     ]
    },
    {
     "name": "stderr",
     "output_type": "stream",
     "text": [
      "HTTP Error for GET to https://api.spotify.com/v1/audio-features/?ids=07GK5FmdmfXoBiGCl4wTEb,7qOVMMY0couqt76ObwY947,5dUOWlWWYdAgqeXwTgbaKt,3EZBqvMOSOid0lXZ7JliUY,1NJC4SXdmFqeDbNO6HtKrh,6ieMT0YzPPuxzXqlPKin3m,4AkLsoLJoc3wXjsVN3zsdH,5fYfBqUiznwdTvDUwBP6QF,7aRCf5cLOFN1U7kvtChY1G,0T4TdNQ93GEXKtfkCx9zYF with Params: {} returned 403 due to None\n"
     ]
    },
    {
     "name": "stdout",
     "output_type": "stream",
     "text": [
      "🔑 Auth error detected, attempting to refresh token...\n",
      "🔄 Refreshing authentication token...\n",
      "\n",
      "Processing chunk 41/1491 (10 tracks)\n"
     ]
    },
    {
     "name": "stderr",
     "output_type": "stream",
     "text": [
      "HTTP Error for GET to https://api.spotify.com/v1/audio-features/?ids=07GK5FmdmfXoBiGCl4wTEb,7qOVMMY0couqt76ObwY947,5dUOWlWWYdAgqeXwTgbaKt,3EZBqvMOSOid0lXZ7JliUY,1NJC4SXdmFqeDbNO6HtKrh,6ieMT0YzPPuxzXqlPKin3m,4AkLsoLJoc3wXjsVN3zsdH,5fYfBqUiznwdTvDUwBP6QF,7aRCf5cLOFN1U7kvtChY1G,0T4TdNQ93GEXKtfkCx9zYF with Params: {} returned 403 due to None\n"
     ]
    },
    {
     "name": "stdout",
     "output_type": "stream",
     "text": [
      "🔑 Auth error detected, attempting to refresh token...\n",
      "🔄 Refreshing authentication token...\n",
      "\n",
      "Processing chunk 42/1491 (10 tracks)\n"
     ]
    },
    {
     "name": "stderr",
     "output_type": "stream",
     "text": [
      "HTTP Error for GET to https://api.spotify.com/v1/audio-features/?ids=4WbssgiyaXQpri2KNcfROs,7eB1V5LvAdxCc7brfGhRRo,1WKxQETzZlTIEOysYPgATt,2NePxWX0M9UCjnO9I1MDli,1G391cbiT3v3Cywg8T7DM1,0uRHafBtI8bMupNdJRKh9X,6hmhG1b4LEyNuashVvuIAo,5Gu0PDLN4YJeW75PpBSg9p,1QptkvB2Miu3IOBx0OTMq2,1StXVL5gClph4z4XzanYko with Params: {} returned 403 due to None\n"
     ]
    },
    {
     "name": "stdout",
     "output_type": "stream",
     "text": [
      "🔑 Auth error detected, attempting to refresh token...\n",
      "🔄 Refreshing authentication token...\n",
      "\n",
      "Processing chunk 42/1491 (10 tracks)\n"
     ]
    },
    {
     "name": "stderr",
     "output_type": "stream",
     "text": [
      "HTTP Error for GET to https://api.spotify.com/v1/audio-features/?ids=4WbssgiyaXQpri2KNcfROs,7eB1V5LvAdxCc7brfGhRRo,1WKxQETzZlTIEOysYPgATt,2NePxWX0M9UCjnO9I1MDli,1G391cbiT3v3Cywg8T7DM1,0uRHafBtI8bMupNdJRKh9X,6hmhG1b4LEyNuashVvuIAo,5Gu0PDLN4YJeW75PpBSg9p,1QptkvB2Miu3IOBx0OTMq2,1StXVL5gClph4z4XzanYko with Params: {} returned 403 due to None\n"
     ]
    },
    {
     "name": "stdout",
     "output_type": "stream",
     "text": [
      "🔑 Auth error detected, attempting to refresh token...\n",
      "🔄 Refreshing authentication token...\n",
      "\n",
      "Processing chunk 42/1491 (10 tracks)\n"
     ]
    },
    {
     "name": "stderr",
     "output_type": "stream",
     "text": [
      "HTTP Error for GET to https://api.spotify.com/v1/audio-features/?ids=4WbssgiyaXQpri2KNcfROs,7eB1V5LvAdxCc7brfGhRRo,1WKxQETzZlTIEOysYPgATt,2NePxWX0M9UCjnO9I1MDli,1G391cbiT3v3Cywg8T7DM1,0uRHafBtI8bMupNdJRKh9X,6hmhG1b4LEyNuashVvuIAo,5Gu0PDLN4YJeW75PpBSg9p,1QptkvB2Miu3IOBx0OTMq2,1StXVL5gClph4z4XzanYko with Params: {} returned 403 due to None\n"
     ]
    },
    {
     "name": "stdout",
     "output_type": "stream",
     "text": [
      "🔑 Auth error detected, attempting to refresh token...\n",
      "🔄 Refreshing authentication token...\n",
      "\n",
      "Processing chunk 43/1491 (10 tracks)\n"
     ]
    },
    {
     "name": "stderr",
     "output_type": "stream",
     "text": [
      "HTTP Error for GET to https://api.spotify.com/v1/audio-features/?ids=4HfLQJtVT1KiX1eVedDyTm,6g7YYSBF8iB8k4Qq5jxDFv,1Kdm0YES941q58xzbsmVyj,5ci7xVR94didqCdSdL3EUK,0nusGSzxdAWGT0E8KDE5Tf,0TinPQAZpODfCDXNw2kxoK,18huceSzmGM1EMB9SIGXs9,5qCeFeszEQkuXSjv85empl,7xC6xlFSZJKpSbCuTnraxG,3wA4ronkc8ZcPXUP0fDgYA with Params: {} returned 403 due to None\n"
     ]
    },
    {
     "name": "stdout",
     "output_type": "stream",
     "text": [
      "🔑 Auth error detected, attempting to refresh token...\n",
      "🔄 Refreshing authentication token...\n",
      "\n",
      "Processing chunk 43/1491 (10 tracks)\n"
     ]
    },
    {
     "name": "stderr",
     "output_type": "stream",
     "text": [
      "HTTP Error for GET to https://api.spotify.com/v1/audio-features/?ids=4HfLQJtVT1KiX1eVedDyTm,6g7YYSBF8iB8k4Qq5jxDFv,1Kdm0YES941q58xzbsmVyj,5ci7xVR94didqCdSdL3EUK,0nusGSzxdAWGT0E8KDE5Tf,0TinPQAZpODfCDXNw2kxoK,18huceSzmGM1EMB9SIGXs9,5qCeFeszEQkuXSjv85empl,7xC6xlFSZJKpSbCuTnraxG,3wA4ronkc8ZcPXUP0fDgYA with Params: {} returned 403 due to None\n"
     ]
    },
    {
     "name": "stdout",
     "output_type": "stream",
     "text": [
      "🔑 Auth error detected, attempting to refresh token...\n",
      "🔄 Refreshing authentication token...\n",
      "\n",
      "Processing chunk 43/1491 (10 tracks)\n"
     ]
    },
    {
     "name": "stderr",
     "output_type": "stream",
     "text": [
      "HTTP Error for GET to https://api.spotify.com/v1/audio-features/?ids=4HfLQJtVT1KiX1eVedDyTm,6g7YYSBF8iB8k4Qq5jxDFv,1Kdm0YES941q58xzbsmVyj,5ci7xVR94didqCdSdL3EUK,0nusGSzxdAWGT0E8KDE5Tf,0TinPQAZpODfCDXNw2kxoK,18huceSzmGM1EMB9SIGXs9,5qCeFeszEQkuXSjv85empl,7xC6xlFSZJKpSbCuTnraxG,3wA4ronkc8ZcPXUP0fDgYA with Params: {} returned 403 due to None\n"
     ]
    },
    {
     "name": "stdout",
     "output_type": "stream",
     "text": [
      "🔑 Auth error detected, attempting to refresh token...\n",
      "🔄 Refreshing authentication token...\n",
      "\n",
      "Processing chunk 44/1491 (10 tracks)\n"
     ]
    },
    {
     "name": "stderr",
     "output_type": "stream",
     "text": [
      "HTTP Error for GET to https://api.spotify.com/v1/audio-features/?ids=7EMz7lAxiwvLx8uEMUBeOe,3IQF4xCQUPicbA4hWfTxPo,2LMloFiV7DHpBhITOaBSam,5jFiaRp8VGq25CAcBAeZcl,5CTN5yokyAcrCoShGJmlJn,4Yn9ob0sm54gDQojH9N1Od,5JZZtxJNwImgPCvLXfu0PU,6QQtHdz4PNJWQX4nrAQGC9,1AERLbCHevnH5U1ZTqok8b,3p7XQpdt8Dr6oMXSvRZ9bg with Params: {} returned 403 due to None\n"
     ]
    },
    {
     "name": "stdout",
     "output_type": "stream",
     "text": [
      "🔑 Auth error detected, attempting to refresh token...\n",
      "🔄 Refreshing authentication token...\n",
      "\n",
      "Processing chunk 44/1491 (10 tracks)\n"
     ]
    },
    {
     "name": "stderr",
     "output_type": "stream",
     "text": [
      "HTTP Error for GET to https://api.spotify.com/v1/audio-features/?ids=7EMz7lAxiwvLx8uEMUBeOe,3IQF4xCQUPicbA4hWfTxPo,2LMloFiV7DHpBhITOaBSam,5jFiaRp8VGq25CAcBAeZcl,5CTN5yokyAcrCoShGJmlJn,4Yn9ob0sm54gDQojH9N1Od,5JZZtxJNwImgPCvLXfu0PU,6QQtHdz4PNJWQX4nrAQGC9,1AERLbCHevnH5U1ZTqok8b,3p7XQpdt8Dr6oMXSvRZ9bg with Params: {} returned 403 due to None\n"
     ]
    },
    {
     "name": "stdout",
     "output_type": "stream",
     "text": [
      "🔑 Auth error detected, attempting to refresh token...\n",
      "🔄 Refreshing authentication token...\n",
      "\n",
      "Processing chunk 44/1491 (10 tracks)\n"
     ]
    },
    {
     "name": "stderr",
     "output_type": "stream",
     "text": [
      "HTTP Error for GET to https://api.spotify.com/v1/audio-features/?ids=7EMz7lAxiwvLx8uEMUBeOe,3IQF4xCQUPicbA4hWfTxPo,2LMloFiV7DHpBhITOaBSam,5jFiaRp8VGq25CAcBAeZcl,5CTN5yokyAcrCoShGJmlJn,4Yn9ob0sm54gDQojH9N1Od,5JZZtxJNwImgPCvLXfu0PU,6QQtHdz4PNJWQX4nrAQGC9,1AERLbCHevnH5U1ZTqok8b,3p7XQpdt8Dr6oMXSvRZ9bg with Params: {} returned 403 due to None\n"
     ]
    },
    {
     "name": "stdout",
     "output_type": "stream",
     "text": [
      "🔑 Auth error detected, attempting to refresh token...\n",
      "🔄 Refreshing authentication token...\n",
      "\n",
      "Processing chunk 45/1491 (10 tracks)\n"
     ]
    },
    {
     "name": "stderr",
     "output_type": "stream",
     "text": [
      "HTTP Error for GET to https://api.spotify.com/v1/audio-features/?ids=6pL8SVLofL4UfTRME9jXiu,7cCIDJZMhUFIaguRCXVmuh,4KqBoq7MoDJeVsvUHTjXCM,3f1MqqO9NPi6HBVm6Fh0mc,4Vza9Iqbf9EbMI24PVro6X,7zUXiTMopVJt72h65dieh3,7fm8XL0yPJ8YWHCWXRa1vO,72N5ZB91nLzuLw6D6Yu8OJ,1QkAMB8a7Dq0AVp13TvXtU,1hSnLy6JNT3odbvBGJFHRA with Params: {} returned 403 due to None\n"
     ]
    },
    {
     "name": "stdout",
     "output_type": "stream",
     "text": [
      "🔑 Auth error detected, attempting to refresh token...\n",
      "🔄 Refreshing authentication token...\n",
      "\n",
      "Processing chunk 45/1491 (10 tracks)\n"
     ]
    },
    {
     "name": "stderr",
     "output_type": "stream",
     "text": [
      "HTTP Error for GET to https://api.spotify.com/v1/audio-features/?ids=6pL8SVLofL4UfTRME9jXiu,7cCIDJZMhUFIaguRCXVmuh,4KqBoq7MoDJeVsvUHTjXCM,3f1MqqO9NPi6HBVm6Fh0mc,4Vza9Iqbf9EbMI24PVro6X,7zUXiTMopVJt72h65dieh3,7fm8XL0yPJ8YWHCWXRa1vO,72N5ZB91nLzuLw6D6Yu8OJ,1QkAMB8a7Dq0AVp13TvXtU,1hSnLy6JNT3odbvBGJFHRA with Params: {} returned 403 due to None\n"
     ]
    },
    {
     "name": "stdout",
     "output_type": "stream",
     "text": [
      "🔑 Auth error detected, attempting to refresh token...\n",
      "🔄 Refreshing authentication token...\n",
      "\n",
      "Processing chunk 45/1491 (10 tracks)\n"
     ]
    },
    {
     "name": "stderr",
     "output_type": "stream",
     "text": [
      "HTTP Error for GET to https://api.spotify.com/v1/audio-features/?ids=6pL8SVLofL4UfTRME9jXiu,7cCIDJZMhUFIaguRCXVmuh,4KqBoq7MoDJeVsvUHTjXCM,3f1MqqO9NPi6HBVm6Fh0mc,4Vza9Iqbf9EbMI24PVro6X,7zUXiTMopVJt72h65dieh3,7fm8XL0yPJ8YWHCWXRa1vO,72N5ZB91nLzuLw6D6Yu8OJ,1QkAMB8a7Dq0AVp13TvXtU,1hSnLy6JNT3odbvBGJFHRA with Params: {} returned 403 due to None\n"
     ]
    },
    {
     "name": "stdout",
     "output_type": "stream",
     "text": [
      "🔑 Auth error detected, attempting to refresh token...\n",
      "🔄 Refreshing authentication token...\n",
      "\n",
      "Processing chunk 46/1491 (10 tracks)\n"
     ]
    },
    {
     "name": "stderr",
     "output_type": "stream",
     "text": [
      "HTTP Error for GET to https://api.spotify.com/v1/audio-features/?ids=1tc4Ug56zBIZI93E30j0uc,0A11ltvBZUWecAFVcguQ0f,7xfJy6LXKKOrtn82TJsIoM,0HB4qYEELiwPoSzcG5kQj2,7yzbimr8WVyAtBX3Eg6UL9,4M6xBnTXnsyv5p3rMv6nSs,2GgxS8bUT5G25QJTsfSv0R,1hZYfGB77hInzVIg2GqAVk,4g3AlcQVSoiwGju9sWGqLQ,7HRGTTn0QJcpfB89dBfWIX with Params: {} returned 403 due to None\n"
     ]
    },
    {
     "name": "stdout",
     "output_type": "stream",
     "text": [
      "🔑 Auth error detected, attempting to refresh token...\n",
      "🔄 Refreshing authentication token...\n",
      "\n",
      "Processing chunk 46/1491 (10 tracks)\n"
     ]
    },
    {
     "name": "stderr",
     "output_type": "stream",
     "text": [
      "HTTP Error for GET to https://api.spotify.com/v1/audio-features/?ids=1tc4Ug56zBIZI93E30j0uc,0A11ltvBZUWecAFVcguQ0f,7xfJy6LXKKOrtn82TJsIoM,0HB4qYEELiwPoSzcG5kQj2,7yzbimr8WVyAtBX3Eg6UL9,4M6xBnTXnsyv5p3rMv6nSs,2GgxS8bUT5G25QJTsfSv0R,1hZYfGB77hInzVIg2GqAVk,4g3AlcQVSoiwGju9sWGqLQ,7HRGTTn0QJcpfB89dBfWIX with Params: {} returned 403 due to None\n"
     ]
    },
    {
     "name": "stdout",
     "output_type": "stream",
     "text": [
      "🔑 Auth error detected, attempting to refresh token...\n",
      "🔄 Refreshing authentication token...\n",
      "\n",
      "Processing chunk 46/1491 (10 tracks)\n"
     ]
    },
    {
     "name": "stderr",
     "output_type": "stream",
     "text": [
      "HTTP Error for GET to https://api.spotify.com/v1/audio-features/?ids=1tc4Ug56zBIZI93E30j0uc,0A11ltvBZUWecAFVcguQ0f,7xfJy6LXKKOrtn82TJsIoM,0HB4qYEELiwPoSzcG5kQj2,7yzbimr8WVyAtBX3Eg6UL9,4M6xBnTXnsyv5p3rMv6nSs,2GgxS8bUT5G25QJTsfSv0R,1hZYfGB77hInzVIg2GqAVk,4g3AlcQVSoiwGju9sWGqLQ,7HRGTTn0QJcpfB89dBfWIX with Params: {} returned 403 due to None\n"
     ]
    },
    {
     "name": "stdout",
     "output_type": "stream",
     "text": [
      "🔑 Auth error detected, attempting to refresh token...\n",
      "🔄 Refreshing authentication token...\n",
      "\n",
      "Processing chunk 47/1491 (10 tracks)\n"
     ]
    },
    {
     "name": "stderr",
     "output_type": "stream",
     "text": [
      "HTTP Error for GET to https://api.spotify.com/v1/audio-features/?ids=3iHOx2pBLDBB4JhdlLuaeW,2V1TdL8Egn5VW48UCBx6qg,1LoqG0jGgIkD4S1kmwUQdu,26E7c125wkzIcTSBdC8th3,5gEdFDDciOQ2Q6ETHrcrOu,2H30WL3exSctlDC9GyRbD4,00qx1M4HwGlBA2ES8fEk1f,0bTcsfvvELwAupgm0DxhjK,0jLsuwkWWm7hwevHpAZ28H,21D6cTpVlaM7VU6Rb0put7 with Params: {} returned 403 due to None\n"
     ]
    },
    {
     "name": "stdout",
     "output_type": "stream",
     "text": [
      "🔑 Auth error detected, attempting to refresh token...\n",
      "🔄 Refreshing authentication token...\n",
      "\n",
      "Processing chunk 47/1491 (10 tracks)\n"
     ]
    },
    {
     "name": "stderr",
     "output_type": "stream",
     "text": [
      "HTTP Error for GET to https://api.spotify.com/v1/audio-features/?ids=3iHOx2pBLDBB4JhdlLuaeW,2V1TdL8Egn5VW48UCBx6qg,1LoqG0jGgIkD4S1kmwUQdu,26E7c125wkzIcTSBdC8th3,5gEdFDDciOQ2Q6ETHrcrOu,2H30WL3exSctlDC9GyRbD4,00qx1M4HwGlBA2ES8fEk1f,0bTcsfvvELwAupgm0DxhjK,0jLsuwkWWm7hwevHpAZ28H,21D6cTpVlaM7VU6Rb0put7 with Params: {} returned 403 due to None\n"
     ]
    },
    {
     "name": "stdout",
     "output_type": "stream",
     "text": [
      "🔑 Auth error detected, attempting to refresh token...\n",
      "🔄 Refreshing authentication token...\n",
      "\n",
      "Processing chunk 47/1491 (10 tracks)\n"
     ]
    },
    {
     "name": "stderr",
     "output_type": "stream",
     "text": [
      "HTTP Error for GET to https://api.spotify.com/v1/audio-features/?ids=3iHOx2pBLDBB4JhdlLuaeW,2V1TdL8Egn5VW48UCBx6qg,1LoqG0jGgIkD4S1kmwUQdu,26E7c125wkzIcTSBdC8th3,5gEdFDDciOQ2Q6ETHrcrOu,2H30WL3exSctlDC9GyRbD4,00qx1M4HwGlBA2ES8fEk1f,0bTcsfvvELwAupgm0DxhjK,0jLsuwkWWm7hwevHpAZ28H,21D6cTpVlaM7VU6Rb0put7 with Params: {} returned 403 due to None\n"
     ]
    },
    {
     "name": "stdout",
     "output_type": "stream",
     "text": [
      "🔑 Auth error detected, attempting to refresh token...\n",
      "🔄 Refreshing authentication token...\n",
      "\n",
      "Processing chunk 48/1491 (10 tracks)\n"
     ]
    },
    {
     "name": "stderr",
     "output_type": "stream",
     "text": [
      "HTTP Error for GET to https://api.spotify.com/v1/audio-features/?ids=2QVAkmev2GvTBIVDrzvQQD,7MUNNBJKYo3cdokp06wEOB,6ldcHVBF9gyPlgKq9ycwD9,3LQPTJEqOfljGBxmpgUnoC,6hqt1z34Oz0OZtSfy62OFD,3aP1BuaScFyqfqST2KB3VN,4R2kfaDFhslZEMJqAFNpdd,7cbYx1iSCstX5W0YkKDK0c,3JVqmOzLy3UmNiYXjGxrds,3g2gQMeeQAEPztiQKMlGSl with Params: {} returned 403 due to None\n"
     ]
    },
    {
     "name": "stdout",
     "output_type": "stream",
     "text": [
      "🔑 Auth error detected, attempting to refresh token...\n",
      "🔄 Refreshing authentication token...\n",
      "\n",
      "Processing chunk 48/1491 (10 tracks)\n"
     ]
    },
    {
     "name": "stderr",
     "output_type": "stream",
     "text": [
      "HTTP Error for GET to https://api.spotify.com/v1/audio-features/?ids=2QVAkmev2GvTBIVDrzvQQD,7MUNNBJKYo3cdokp06wEOB,6ldcHVBF9gyPlgKq9ycwD9,3LQPTJEqOfljGBxmpgUnoC,6hqt1z34Oz0OZtSfy62OFD,3aP1BuaScFyqfqST2KB3VN,4R2kfaDFhslZEMJqAFNpdd,7cbYx1iSCstX5W0YkKDK0c,3JVqmOzLy3UmNiYXjGxrds,3g2gQMeeQAEPztiQKMlGSl with Params: {} returned 403 due to None\n"
     ]
    },
    {
     "name": "stdout",
     "output_type": "stream",
     "text": [
      "🔑 Auth error detected, attempting to refresh token...\n",
      "🔄 Refreshing authentication token...\n",
      "\n",
      "Processing chunk 48/1491 (10 tracks)\n"
     ]
    },
    {
     "name": "stderr",
     "output_type": "stream",
     "text": [
      "HTTP Error for GET to https://api.spotify.com/v1/audio-features/?ids=2QVAkmev2GvTBIVDrzvQQD,7MUNNBJKYo3cdokp06wEOB,6ldcHVBF9gyPlgKq9ycwD9,3LQPTJEqOfljGBxmpgUnoC,6hqt1z34Oz0OZtSfy62OFD,3aP1BuaScFyqfqST2KB3VN,4R2kfaDFhslZEMJqAFNpdd,7cbYx1iSCstX5W0YkKDK0c,3JVqmOzLy3UmNiYXjGxrds,3g2gQMeeQAEPztiQKMlGSl with Params: {} returned 403 due to None\n"
     ]
    },
    {
     "name": "stdout",
     "output_type": "stream",
     "text": [
      "🔑 Auth error detected, attempting to refresh token...\n",
      "🔄 Refreshing authentication token...\n",
      "\n",
      "Processing chunk 49/1491 (10 tracks)\n"
     ]
    },
    {
     "name": "stderr",
     "output_type": "stream",
     "text": [
      "HTTP Error for GET to https://api.spotify.com/v1/audio-features/?ids=1CCwdb79zo4WThSb5sRnsa,5YFbEWOKw3mJh3R17fvQsu,1Dgcy5t2hwVGWqvbMJr88F,7KJvdjX0fdt3ZsXTyoPIZQ,4hXFaRVHANKX0kuieBB3qq,0E8WJOFs2eWD67USh7C6Qd,4cucslsiEgezV2o900Ykg3,3uvxXi4g07uCwxc5WdW6C2,2SxRPSQg90BMbSIMtCDVc4,4yA2SM7XCLkSgkBUSoZb5S with Params: {} returned 403 due to None\n"
     ]
    },
    {
     "name": "stdout",
     "output_type": "stream",
     "text": [
      "🔑 Auth error detected, attempting to refresh token...\n",
      "🔄 Refreshing authentication token...\n",
      "\n",
      "Processing chunk 49/1491 (10 tracks)\n"
     ]
    },
    {
     "name": "stderr",
     "output_type": "stream",
     "text": [
      "HTTP Error for GET to https://api.spotify.com/v1/audio-features/?ids=1CCwdb79zo4WThSb5sRnsa,5YFbEWOKw3mJh3R17fvQsu,1Dgcy5t2hwVGWqvbMJr88F,7KJvdjX0fdt3ZsXTyoPIZQ,4hXFaRVHANKX0kuieBB3qq,0E8WJOFs2eWD67USh7C6Qd,4cucslsiEgezV2o900Ykg3,3uvxXi4g07uCwxc5WdW6C2,2SxRPSQg90BMbSIMtCDVc4,4yA2SM7XCLkSgkBUSoZb5S with Params: {} returned 403 due to None\n"
     ]
    },
    {
     "name": "stdout",
     "output_type": "stream",
     "text": [
      "🔑 Auth error detected, attempting to refresh token...\n",
      "🔄 Refreshing authentication token...\n",
      "\n",
      "Processing chunk 49/1491 (10 tracks)\n"
     ]
    },
    {
     "name": "stderr",
     "output_type": "stream",
     "text": [
      "HTTP Error for GET to https://api.spotify.com/v1/audio-features/?ids=1CCwdb79zo4WThSb5sRnsa,5YFbEWOKw3mJh3R17fvQsu,1Dgcy5t2hwVGWqvbMJr88F,7KJvdjX0fdt3ZsXTyoPIZQ,4hXFaRVHANKX0kuieBB3qq,0E8WJOFs2eWD67USh7C6Qd,4cucslsiEgezV2o900Ykg3,3uvxXi4g07uCwxc5WdW6C2,2SxRPSQg90BMbSIMtCDVc4,4yA2SM7XCLkSgkBUSoZb5S with Params: {} returned 403 due to None\n"
     ]
    },
    {
     "name": "stdout",
     "output_type": "stream",
     "text": [
      "🔑 Auth error detected, attempting to refresh token...\n",
      "🔄 Refreshing authentication token...\n",
      "\n",
      "Processing chunk 50/1491 (10 tracks)\n"
     ]
    },
    {
     "name": "stderr",
     "output_type": "stream",
     "text": [
      "HTTP Error for GET to https://api.spotify.com/v1/audio-features/?ids=5ArQzSBevAdXTxRY6Ulhbq,0wq6vHsbuRAxJPX6Rm2Oes,3HvNgSRZVZGa26lrVysEyx,6nK613By5NkhRJAPbSZVh5,3F3qMsKHOAmHDezIK840bp,1nZHXQPHnnfK5RH5dPBHCl,1jDJFeK9x3OZboIAHsY9k2,51cd3bzVmLAjlnsSZn4ecW,152Pg0jk5gwn01sKs1ZWap,4msYRkezQgynuZNubvVbHk with Params: {} returned 403 due to None\n"
     ]
    },
    {
     "name": "stdout",
     "output_type": "stream",
     "text": [
      "🔑 Auth error detected, attempting to refresh token...\n",
      "🔄 Refreshing authentication token...\n",
      "\n",
      "Processing chunk 50/1491 (10 tracks)\n"
     ]
    },
    {
     "name": "stderr",
     "output_type": "stream",
     "text": [
      "HTTP Error for GET to https://api.spotify.com/v1/audio-features/?ids=5ArQzSBevAdXTxRY6Ulhbq,0wq6vHsbuRAxJPX6Rm2Oes,3HvNgSRZVZGa26lrVysEyx,6nK613By5NkhRJAPbSZVh5,3F3qMsKHOAmHDezIK840bp,1nZHXQPHnnfK5RH5dPBHCl,1jDJFeK9x3OZboIAHsY9k2,51cd3bzVmLAjlnsSZn4ecW,152Pg0jk5gwn01sKs1ZWap,4msYRkezQgynuZNubvVbHk with Params: {} returned 403 due to None\n"
     ]
    },
    {
     "name": "stdout",
     "output_type": "stream",
     "text": [
      "🔑 Auth error detected, attempting to refresh token...\n",
      "🔄 Refreshing authentication token...\n",
      "\n",
      "Processing chunk 50/1491 (10 tracks)\n"
     ]
    },
    {
     "name": "stderr",
     "output_type": "stream",
     "text": [
      "HTTP Error for GET to https://api.spotify.com/v1/audio-features/?ids=5ArQzSBevAdXTxRY6Ulhbq,0wq6vHsbuRAxJPX6Rm2Oes,3HvNgSRZVZGa26lrVysEyx,6nK613By5NkhRJAPbSZVh5,3F3qMsKHOAmHDezIK840bp,1nZHXQPHnnfK5RH5dPBHCl,1jDJFeK9x3OZboIAHsY9k2,51cd3bzVmLAjlnsSZn4ecW,152Pg0jk5gwn01sKs1ZWap,4msYRkezQgynuZNubvVbHk with Params: {} returned 403 due to None\n"
     ]
    },
    {
     "name": "stdout",
     "output_type": "stream",
     "text": [
      "🔑 Auth error detected, attempting to refresh token...\n",
      "🔄 Refreshing authentication token...\n",
      "\n",
      "Processing chunk 51/1491 (10 tracks)\n"
     ]
    },
    {
     "name": "stderr",
     "output_type": "stream",
     "text": [
      "HTTP Error for GET to https://api.spotify.com/v1/audio-features/?ids=4ogp9f3YPalmU2RbR9J55f,4mBCNIKC606CpBLzBZ0fdG,2hCiKuGSoY8xvaYvTKFwkU,2zLZuZFgf4mn3af8wILpHS,2mzLG4WqNv4ScPRosSVaXR,62pdrFtD2jtxnUD5EcN7qr,5FGStn8OcEzH4VWPIF8dIv,77bHrxVX3E2SWopfaoWrTw,161DnLWsx1i3u1JT05lzqU,6QUXsHNwXZ6WBzPgW1TBmp with Params: {} returned 403 due to None\n"
     ]
    },
    {
     "name": "stdout",
     "output_type": "stream",
     "text": [
      "🔑 Auth error detected, attempting to refresh token...\n",
      "🔄 Refreshing authentication token...\n",
      "\n",
      "Processing chunk 51/1491 (10 tracks)\n"
     ]
    },
    {
     "name": "stderr",
     "output_type": "stream",
     "text": [
      "HTTP Error for GET to https://api.spotify.com/v1/audio-features/?ids=4ogp9f3YPalmU2RbR9J55f,4mBCNIKC606CpBLzBZ0fdG,2hCiKuGSoY8xvaYvTKFwkU,2zLZuZFgf4mn3af8wILpHS,2mzLG4WqNv4ScPRosSVaXR,62pdrFtD2jtxnUD5EcN7qr,5FGStn8OcEzH4VWPIF8dIv,77bHrxVX3E2SWopfaoWrTw,161DnLWsx1i3u1JT05lzqU,6QUXsHNwXZ6WBzPgW1TBmp with Params: {} returned 403 due to None\n"
     ]
    },
    {
     "name": "stdout",
     "output_type": "stream",
     "text": [
      "🔑 Auth error detected, attempting to refresh token...\n",
      "🔄 Refreshing authentication token...\n",
      "\n",
      "Processing chunk 51/1491 (10 tracks)\n"
     ]
    },
    {
     "name": "stderr",
     "output_type": "stream",
     "text": [
      "HTTP Error for GET to https://api.spotify.com/v1/audio-features/?ids=4ogp9f3YPalmU2RbR9J55f,4mBCNIKC606CpBLzBZ0fdG,2hCiKuGSoY8xvaYvTKFwkU,2zLZuZFgf4mn3af8wILpHS,2mzLG4WqNv4ScPRosSVaXR,62pdrFtD2jtxnUD5EcN7qr,5FGStn8OcEzH4VWPIF8dIv,77bHrxVX3E2SWopfaoWrTw,161DnLWsx1i3u1JT05lzqU,6QUXsHNwXZ6WBzPgW1TBmp with Params: {} returned 403 due to None\n"
     ]
    },
    {
     "name": "stdout",
     "output_type": "stream",
     "text": [
      "🔑 Auth error detected, attempting to refresh token...\n",
      "🔄 Refreshing authentication token...\n",
      "\n",
      "Processing chunk 52/1491 (10 tracks)\n"
     ]
    },
    {
     "name": "stderr",
     "output_type": "stream",
     "text": [
      "HTTP Error for GET to https://api.spotify.com/v1/audio-features/?ids=1KuVdyg8d6NlRhbpHxg5UF,3OUngb3kJWyrvr5NOCmODb,5rj4SmUDAe43tGtBgNgZnu,61a5lY9pQk8Q4D56WHvp1l,0ZRn9srjiiRsbBYxCpl2Xm,51NFxnQvaosfDDutk0tams,2JLMHADAyossZlBcpc8TDs,3XPjepUeNr7YxxmA6IfQ3X,44aHfXMmyHeoR3OY4jcOim,7zWL0T5Ud2q5dGFKCGFUfD with Params: {} returned 403 due to None\n"
     ]
    },
    {
     "name": "stdout",
     "output_type": "stream",
     "text": [
      "🔑 Auth error detected, attempting to refresh token...\n",
      "🔄 Refreshing authentication token...\n",
      "\n",
      "Processing chunk 52/1491 (10 tracks)\n"
     ]
    },
    {
     "name": "stderr",
     "output_type": "stream",
     "text": [
      "HTTP Error for GET to https://api.spotify.com/v1/audio-features/?ids=1KuVdyg8d6NlRhbpHxg5UF,3OUngb3kJWyrvr5NOCmODb,5rj4SmUDAe43tGtBgNgZnu,61a5lY9pQk8Q4D56WHvp1l,0ZRn9srjiiRsbBYxCpl2Xm,51NFxnQvaosfDDutk0tams,2JLMHADAyossZlBcpc8TDs,3XPjepUeNr7YxxmA6IfQ3X,44aHfXMmyHeoR3OY4jcOim,7zWL0T5Ud2q5dGFKCGFUfD with Params: {} returned 403 due to None\n"
     ]
    },
    {
     "name": "stdout",
     "output_type": "stream",
     "text": [
      "🔑 Auth error detected, attempting to refresh token...\n",
      "🔄 Refreshing authentication token...\n",
      "\n",
      "Processing chunk 52/1491 (10 tracks)\n"
     ]
    },
    {
     "name": "stderr",
     "output_type": "stream",
     "text": [
      "HTTP Error for GET to https://api.spotify.com/v1/audio-features/?ids=1KuVdyg8d6NlRhbpHxg5UF,3OUngb3kJWyrvr5NOCmODb,5rj4SmUDAe43tGtBgNgZnu,61a5lY9pQk8Q4D56WHvp1l,0ZRn9srjiiRsbBYxCpl2Xm,51NFxnQvaosfDDutk0tams,2JLMHADAyossZlBcpc8TDs,3XPjepUeNr7YxxmA6IfQ3X,44aHfXMmyHeoR3OY4jcOim,7zWL0T5Ud2q5dGFKCGFUfD with Params: {} returned 403 due to None\n"
     ]
    },
    {
     "name": "stdout",
     "output_type": "stream",
     "text": [
      "🔑 Auth error detected, attempting to refresh token...\n",
      "🔄 Refreshing authentication token...\n",
      "\n",
      "Processing chunk 53/1491 (10 tracks)\n"
     ]
    },
    {
     "name": "stderr",
     "output_type": "stream",
     "text": [
      "HTTP Error for GET to https://api.spotify.com/v1/audio-features/?ids=1RYy00jUPPA8Dr8nTuRb05,2nnWzXKlferM9ZcPPqSrke,16Eo8p4JjYBDofEA2g2an3,0eX78jeWHBvc1kd7lejzyf,5JVbvCHX10U2pLa5DEqGav,6QTPacyXkZWG9FMwq6L1hJ,0lbbH3JAw3hiUr1UDDcOOc,7eybNfiKHNGHFyQ41EBSW5,1qEmFfgcLObUfQm0j1W2CK,0kGtUMA3mi4sZGlifRnyJn with Params: {} returned 403 due to None\n"
     ]
    },
    {
     "name": "stdout",
     "output_type": "stream",
     "text": [
      "🔑 Auth error detected, attempting to refresh token...\n",
      "🔄 Refreshing authentication token...\n",
      "\n",
      "Processing chunk 53/1491 (10 tracks)\n"
     ]
    },
    {
     "name": "stderr",
     "output_type": "stream",
     "text": [
      "HTTP Error for GET to https://api.spotify.com/v1/audio-features/?ids=1RYy00jUPPA8Dr8nTuRb05,2nnWzXKlferM9ZcPPqSrke,16Eo8p4JjYBDofEA2g2an3,0eX78jeWHBvc1kd7lejzyf,5JVbvCHX10U2pLa5DEqGav,6QTPacyXkZWG9FMwq6L1hJ,0lbbH3JAw3hiUr1UDDcOOc,7eybNfiKHNGHFyQ41EBSW5,1qEmFfgcLObUfQm0j1W2CK,0kGtUMA3mi4sZGlifRnyJn with Params: {} returned 403 due to None\n"
     ]
    },
    {
     "name": "stdout",
     "output_type": "stream",
     "text": [
      "🔑 Auth error detected, attempting to refresh token...\n",
      "🔄 Refreshing authentication token...\n",
      "\n",
      "Processing chunk 53/1491 (10 tracks)\n"
     ]
    },
    {
     "name": "stderr",
     "output_type": "stream",
     "text": [
      "HTTP Error for GET to https://api.spotify.com/v1/audio-features/?ids=1RYy00jUPPA8Dr8nTuRb05,2nnWzXKlferM9ZcPPqSrke,16Eo8p4JjYBDofEA2g2an3,0eX78jeWHBvc1kd7lejzyf,5JVbvCHX10U2pLa5DEqGav,6QTPacyXkZWG9FMwq6L1hJ,0lbbH3JAw3hiUr1UDDcOOc,7eybNfiKHNGHFyQ41EBSW5,1qEmFfgcLObUfQm0j1W2CK,0kGtUMA3mi4sZGlifRnyJn with Params: {} returned 403 due to None\n"
     ]
    },
    {
     "name": "stdout",
     "output_type": "stream",
     "text": [
      "🔑 Auth error detected, attempting to refresh token...\n",
      "🔄 Refreshing authentication token...\n",
      "\n",
      "Processing chunk 54/1491 (10 tracks)\n"
     ]
    },
    {
     "name": "stderr",
     "output_type": "stream",
     "text": [
      "HTTP Error for GET to https://api.spotify.com/v1/audio-features/?ids=0H0r71I2exNTcv4Eg9tmw1,7w4lwYlYU5BVIDS9idhG8F,2S2fa3WH0w1TMdRwh3drEg,3VbBFXhGt2aYczdEdKv1i2,5DMwgDaVaOuLnuiK9C6kEB,0VCxnMdEmqM4SVc5TXcmIV,6ScE14mbNSplQLkAXVV0ym,1nnUD4ifcmssyBa15VxQ74,6p8eFfPw3nQkf37aT3AkmK,1EjDYiZLQFoPUid84EdhsT with Params: {} returned 403 due to None\n"
     ]
    },
    {
     "name": "stdout",
     "output_type": "stream",
     "text": [
      "🔑 Auth error detected, attempting to refresh token...\n",
      "🔄 Refreshing authentication token...\n",
      "\n",
      "Processing chunk 54/1491 (10 tracks)\n"
     ]
    },
    {
     "name": "stderr",
     "output_type": "stream",
     "text": [
      "HTTP Error for GET to https://api.spotify.com/v1/audio-features/?ids=0H0r71I2exNTcv4Eg9tmw1,7w4lwYlYU5BVIDS9idhG8F,2S2fa3WH0w1TMdRwh3drEg,3VbBFXhGt2aYczdEdKv1i2,5DMwgDaVaOuLnuiK9C6kEB,0VCxnMdEmqM4SVc5TXcmIV,6ScE14mbNSplQLkAXVV0ym,1nnUD4ifcmssyBa15VxQ74,6p8eFfPw3nQkf37aT3AkmK,1EjDYiZLQFoPUid84EdhsT with Params: {} returned 403 due to None\n"
     ]
    },
    {
     "name": "stdout",
     "output_type": "stream",
     "text": [
      "🔑 Auth error detected, attempting to refresh token...\n",
      "🔄 Refreshing authentication token...\n",
      "\n",
      "Processing chunk 54/1491 (10 tracks)\n"
     ]
    },
    {
     "name": "stderr",
     "output_type": "stream",
     "text": [
      "HTTP Error for GET to https://api.spotify.com/v1/audio-features/?ids=0H0r71I2exNTcv4Eg9tmw1,7w4lwYlYU5BVIDS9idhG8F,2S2fa3WH0w1TMdRwh3drEg,3VbBFXhGt2aYczdEdKv1i2,5DMwgDaVaOuLnuiK9C6kEB,0VCxnMdEmqM4SVc5TXcmIV,6ScE14mbNSplQLkAXVV0ym,1nnUD4ifcmssyBa15VxQ74,6p8eFfPw3nQkf37aT3AkmK,1EjDYiZLQFoPUid84EdhsT with Params: {} returned 403 due to None\n"
     ]
    },
    {
     "name": "stdout",
     "output_type": "stream",
     "text": [
      "🔑 Auth error detected, attempting to refresh token...\n",
      "🔄 Refreshing authentication token...\n",
      "\n",
      "Processing chunk 55/1491 (10 tracks)\n"
     ]
    },
    {
     "name": "stderr",
     "output_type": "stream",
     "text": [
      "HTTP Error for GET to https://api.spotify.com/v1/audio-features/?ids=6me7F0aaZjwDo6RJ5MrfBD,1k3MYmJGJNWoUbhKlU84el,4QEbeiQt3X2VtuQTVWtw3N,3RTUfvRgq3pYTf7XY0FIcS,6heXb9yHEcrRXJECYhcjKW,0wEy9g7CaqBcQHul81XQJt,3PsfIhi9R0UUGhP2a6G55X,5HvB1BWxjT7Mc5VVmJXyhU,3HVWdVOQ0ZA45FuZGSfvns,0WQiDwKJclirSYG9v5tayI with Params: {} returned 403 due to None\n"
     ]
    },
    {
     "name": "stdout",
     "output_type": "stream",
     "text": [
      "🔑 Auth error detected, attempting to refresh token...\n",
      "🔄 Refreshing authentication token...\n",
      "\n",
      "Processing chunk 55/1491 (10 tracks)\n"
     ]
    },
    {
     "name": "stderr",
     "output_type": "stream",
     "text": [
      "HTTP Error for GET to https://api.spotify.com/v1/audio-features/?ids=6me7F0aaZjwDo6RJ5MrfBD,1k3MYmJGJNWoUbhKlU84el,4QEbeiQt3X2VtuQTVWtw3N,3RTUfvRgq3pYTf7XY0FIcS,6heXb9yHEcrRXJECYhcjKW,0wEy9g7CaqBcQHul81XQJt,3PsfIhi9R0UUGhP2a6G55X,5HvB1BWxjT7Mc5VVmJXyhU,3HVWdVOQ0ZA45FuZGSfvns,0WQiDwKJclirSYG9v5tayI with Params: {} returned 403 due to None\n"
     ]
    },
    {
     "name": "stdout",
     "output_type": "stream",
     "text": [
      "🔑 Auth error detected, attempting to refresh token...\n",
      "🔄 Refreshing authentication token...\n",
      "\n",
      "Processing chunk 55/1491 (10 tracks)\n"
     ]
    },
    {
     "name": "stderr",
     "output_type": "stream",
     "text": [
      "HTTP Error for GET to https://api.spotify.com/v1/audio-features/?ids=6me7F0aaZjwDo6RJ5MrfBD,1k3MYmJGJNWoUbhKlU84el,4QEbeiQt3X2VtuQTVWtw3N,3RTUfvRgq3pYTf7XY0FIcS,6heXb9yHEcrRXJECYhcjKW,0wEy9g7CaqBcQHul81XQJt,3PsfIhi9R0UUGhP2a6G55X,5HvB1BWxjT7Mc5VVmJXyhU,3HVWdVOQ0ZA45FuZGSfvns,0WQiDwKJclirSYG9v5tayI with Params: {} returned 403 due to None\n"
     ]
    },
    {
     "name": "stdout",
     "output_type": "stream",
     "text": [
      "🔑 Auth error detected, attempting to refresh token...\n",
      "🔄 Refreshing authentication token...\n",
      "\n",
      "Processing chunk 56/1491 (10 tracks)\n"
     ]
    },
    {
     "name": "stderr",
     "output_type": "stream",
     "text": [
      "HTTP Error for GET to https://api.spotify.com/v1/audio-features/?ids=56yeb6zxKn9aNjLyvbs1BM,0TBBIqI0dXgkGM4a1zp3PF,2V4Bc2I962j7acQj1N0PiQ,75Pscg33tGSo5nhAyw17m8,0pBFu72okt7S3IHijdFwbf,5kczO6LA5FGU3iEAxrAhN5,4OGcBC7ekhvSzg4YdQug7O,2ymeOsYijJz09LfKw3yM2x,2EPv1O3UE341bTdpP7bgfx,5PLMEgH5yDagvs0zLdDOn9 with Params: {} returned 403 due to None\n"
     ]
    },
    {
     "name": "stdout",
     "output_type": "stream",
     "text": [
      "🔑 Auth error detected, attempting to refresh token...\n",
      "🔄 Refreshing authentication token...\n",
      "\n",
      "Processing chunk 56/1491 (10 tracks)\n"
     ]
    },
    {
     "name": "stderr",
     "output_type": "stream",
     "text": [
      "HTTP Error for GET to https://api.spotify.com/v1/audio-features/?ids=56yeb6zxKn9aNjLyvbs1BM,0TBBIqI0dXgkGM4a1zp3PF,2V4Bc2I962j7acQj1N0PiQ,75Pscg33tGSo5nhAyw17m8,0pBFu72okt7S3IHijdFwbf,5kczO6LA5FGU3iEAxrAhN5,4OGcBC7ekhvSzg4YdQug7O,2ymeOsYijJz09LfKw3yM2x,2EPv1O3UE341bTdpP7bgfx,5PLMEgH5yDagvs0zLdDOn9 with Params: {} returned 403 due to None\n"
     ]
    },
    {
     "name": "stdout",
     "output_type": "stream",
     "text": [
      "🔑 Auth error detected, attempting to refresh token...\n",
      "🔄 Refreshing authentication token...\n",
      "\n",
      "Processing chunk 56/1491 (10 tracks)\n"
     ]
    },
    {
     "name": "stderr",
     "output_type": "stream",
     "text": [
      "HTTP Error for GET to https://api.spotify.com/v1/audio-features/?ids=56yeb6zxKn9aNjLyvbs1BM,0TBBIqI0dXgkGM4a1zp3PF,2V4Bc2I962j7acQj1N0PiQ,75Pscg33tGSo5nhAyw17m8,0pBFu72okt7S3IHijdFwbf,5kczO6LA5FGU3iEAxrAhN5,4OGcBC7ekhvSzg4YdQug7O,2ymeOsYijJz09LfKw3yM2x,2EPv1O3UE341bTdpP7bgfx,5PLMEgH5yDagvs0zLdDOn9 with Params: {} returned 403 due to None\n"
     ]
    },
    {
     "name": "stdout",
     "output_type": "stream",
     "text": [
      "🔑 Auth error detected, attempting to refresh token...\n",
      "🔄 Refreshing authentication token...\n",
      "\n",
      "Processing chunk 57/1491 (10 tracks)\n"
     ]
    },
    {
     "name": "stderr",
     "output_type": "stream",
     "text": [
      "HTTP Error for GET to https://api.spotify.com/v1/audio-features/?ids=19fKJrO9XdOf6Xla2QHecO,3jZomvOBa5qfTo5HkqI1p5,7m4K9rnaRVI9vcLMVVZEg0,12BJycaqNenRtmoQCcO9zf,43QZUbTYnsU7ypUKxOyTRz,0FBIV0hKjffVxx4hZzJkum,5UPNBXv1UbU8RbaRk6gHbW,5vkkhwtKWnGkFu3tagE71D,53T9Fc3HDEaLaB90oEDEvb,3Qwm7m22nfkAjRzpjT9AWf with Params: {} returned 403 due to None\n"
     ]
    },
    {
     "name": "stdout",
     "output_type": "stream",
     "text": [
      "🔑 Auth error detected, attempting to refresh token...\n",
      "🔄 Refreshing authentication token...\n",
      "\n",
      "Processing chunk 57/1491 (10 tracks)\n"
     ]
    },
    {
     "name": "stderr",
     "output_type": "stream",
     "text": [
      "HTTP Error for GET to https://api.spotify.com/v1/audio-features/?ids=19fKJrO9XdOf6Xla2QHecO,3jZomvOBa5qfTo5HkqI1p5,7m4K9rnaRVI9vcLMVVZEg0,12BJycaqNenRtmoQCcO9zf,43QZUbTYnsU7ypUKxOyTRz,0FBIV0hKjffVxx4hZzJkum,5UPNBXv1UbU8RbaRk6gHbW,5vkkhwtKWnGkFu3tagE71D,53T9Fc3HDEaLaB90oEDEvb,3Qwm7m22nfkAjRzpjT9AWf with Params: {} returned 403 due to None\n"
     ]
    },
    {
     "name": "stdout",
     "output_type": "stream",
     "text": [
      "🔑 Auth error detected, attempting to refresh token...\n",
      "🔄 Refreshing authentication token...\n",
      "\n",
      "Processing chunk 57/1491 (10 tracks)\n"
     ]
    },
    {
     "name": "stderr",
     "output_type": "stream",
     "text": [
      "HTTP Error for GET to https://api.spotify.com/v1/audio-features/?ids=19fKJrO9XdOf6Xla2QHecO,3jZomvOBa5qfTo5HkqI1p5,7m4K9rnaRVI9vcLMVVZEg0,12BJycaqNenRtmoQCcO9zf,43QZUbTYnsU7ypUKxOyTRz,0FBIV0hKjffVxx4hZzJkum,5UPNBXv1UbU8RbaRk6gHbW,5vkkhwtKWnGkFu3tagE71D,53T9Fc3HDEaLaB90oEDEvb,3Qwm7m22nfkAjRzpjT9AWf with Params: {} returned 403 due to None\n"
     ]
    },
    {
     "name": "stdout",
     "output_type": "stream",
     "text": [
      "🔑 Auth error detected, attempting to refresh token...\n",
      "🔄 Refreshing authentication token...\n",
      "\n",
      "Processing chunk 58/1491 (10 tracks)\n"
     ]
    },
    {
     "name": "stderr",
     "output_type": "stream",
     "text": [
      "HTTP Error for GET to https://api.spotify.com/v1/audio-features/?ids=4dj2OKDr8IatfzqO5Nr54W,1F8ioDyExyre2ahAtehW5y,5W3Auo6qVL6wwbIruLFju7,6WrYDCIw8OdvevNtItOUDf,0rQRq6B2L89YYIFX00sovE,03GqWbDts733KUnWy5fu7A,52BTO6kmeMV31QNlRuJAaC,4d8EFwexIj2rtX4fIT2l8Q,1SgIwwcb7ETC7ayWbv3EMt,6sy06HFFeYuygwxYXA3P2V with Params: {} returned 403 due to None\n"
     ]
    },
    {
     "name": "stdout",
     "output_type": "stream",
     "text": [
      "🔑 Auth error detected, attempting to refresh token...\n",
      "🔄 Refreshing authentication token...\n",
      "\n",
      "Processing chunk 58/1491 (10 tracks)\n"
     ]
    },
    {
     "name": "stderr",
     "output_type": "stream",
     "text": [
      "HTTP Error for GET to https://api.spotify.com/v1/audio-features/?ids=4dj2OKDr8IatfzqO5Nr54W,1F8ioDyExyre2ahAtehW5y,5W3Auo6qVL6wwbIruLFju7,6WrYDCIw8OdvevNtItOUDf,0rQRq6B2L89YYIFX00sovE,03GqWbDts733KUnWy5fu7A,52BTO6kmeMV31QNlRuJAaC,4d8EFwexIj2rtX4fIT2l8Q,1SgIwwcb7ETC7ayWbv3EMt,6sy06HFFeYuygwxYXA3P2V with Params: {} returned 403 due to None\n"
     ]
    },
    {
     "name": "stdout",
     "output_type": "stream",
     "text": [
      "🔑 Auth error detected, attempting to refresh token...\n",
      "🔄 Refreshing authentication token...\n",
      "\n",
      "Processing chunk 58/1491 (10 tracks)\n"
     ]
    },
    {
     "name": "stderr",
     "output_type": "stream",
     "text": [
      "HTTP Error for GET to https://api.spotify.com/v1/audio-features/?ids=4dj2OKDr8IatfzqO5Nr54W,1F8ioDyExyre2ahAtehW5y,5W3Auo6qVL6wwbIruLFju7,6WrYDCIw8OdvevNtItOUDf,0rQRq6B2L89YYIFX00sovE,03GqWbDts733KUnWy5fu7A,52BTO6kmeMV31QNlRuJAaC,4d8EFwexIj2rtX4fIT2l8Q,1SgIwwcb7ETC7ayWbv3EMt,6sy06HFFeYuygwxYXA3P2V with Params: {} returned 403 due to None\n"
     ]
    },
    {
     "name": "stdout",
     "output_type": "stream",
     "text": [
      "🔑 Auth error detected, attempting to refresh token...\n",
      "🔄 Refreshing authentication token...\n",
      "\n",
      "Processing chunk 59/1491 (10 tracks)\n"
     ]
    },
    {
     "name": "stderr",
     "output_type": "stream",
     "text": [
      "HTTP Error for GET to https://api.spotify.com/v1/audio-features/?ids=4dEUfBPs6bydmssKnnqDMV,0FXzyzshOo6kjMCeZADeFz,22Gn2saQoM2gL4XU7ipn2I,2ga4jd9mZ58oDA31EIvy6f,4G9nfjycMbM4beqEheM145,0HDL77RaF1hEz8siODMcra,7uNEGrA1PQp2EkOoyabLJf,2ZjN2dU82pxJZPFsRHuUwt,1yGcOLJ56G4XRywWuk3G8B,0gmGBCJ5XhOmoNR37MmxEE with Params: {} returned 403 due to None\n"
     ]
    },
    {
     "name": "stdout",
     "output_type": "stream",
     "text": [
      "🔑 Auth error detected, attempting to refresh token...\n",
      "🔄 Refreshing authentication token...\n",
      "\n",
      "Processing chunk 59/1491 (10 tracks)\n"
     ]
    },
    {
     "name": "stderr",
     "output_type": "stream",
     "text": [
      "HTTP Error for GET to https://api.spotify.com/v1/audio-features/?ids=4dEUfBPs6bydmssKnnqDMV,0FXzyzshOo6kjMCeZADeFz,22Gn2saQoM2gL4XU7ipn2I,2ga4jd9mZ58oDA31EIvy6f,4G9nfjycMbM4beqEheM145,0HDL77RaF1hEz8siODMcra,7uNEGrA1PQp2EkOoyabLJf,2ZjN2dU82pxJZPFsRHuUwt,1yGcOLJ56G4XRywWuk3G8B,0gmGBCJ5XhOmoNR37MmxEE with Params: {} returned 403 due to None\n"
     ]
    },
    {
     "name": "stdout",
     "output_type": "stream",
     "text": [
      "🔑 Auth error detected, attempting to refresh token...\n",
      "🔄 Refreshing authentication token...\n",
      "\n",
      "Processing chunk 59/1491 (10 tracks)\n"
     ]
    },
    {
     "name": "stderr",
     "output_type": "stream",
     "text": [
      "HTTP Error for GET to https://api.spotify.com/v1/audio-features/?ids=4dEUfBPs6bydmssKnnqDMV,0FXzyzshOo6kjMCeZADeFz,22Gn2saQoM2gL4XU7ipn2I,2ga4jd9mZ58oDA31EIvy6f,4G9nfjycMbM4beqEheM145,0HDL77RaF1hEz8siODMcra,7uNEGrA1PQp2EkOoyabLJf,2ZjN2dU82pxJZPFsRHuUwt,1yGcOLJ56G4XRywWuk3G8B,0gmGBCJ5XhOmoNR37MmxEE with Params: {} returned 403 due to None\n"
     ]
    },
    {
     "name": "stdout",
     "output_type": "stream",
     "text": [
      "🔑 Auth error detected, attempting to refresh token...\n",
      "🔄 Refreshing authentication token...\n",
      "\n",
      "Processing chunk 60/1491 (10 tracks)\n"
     ]
    },
    {
     "name": "stderr",
     "output_type": "stream",
     "text": [
      "HTTP Error for GET to https://api.spotify.com/v1/audio-features/?ids=5YydQ4ce7HtwaCUPZ1HqOj,2ixsaeFioXJmMgkkbd4uj1,6z2qa2dnJDXgVTngG4gFu7,7wUVwaKVvXJsv0I6mgmtgI,6GGH6rgZEGAg0Afy6SOXb8,0TqWqijc2EZcEjBsSdvnbl,3sPUibY37qvAP5THkwY58J,2zP7moFlLhfFzCiCmWyu9m,3cDfo3bJzLgBTQ5ccL8VUp,3NLrRZoMF0Lx6zTlYqeIo4 with Params: {} returned 403 due to None\n"
     ]
    },
    {
     "name": "stdout",
     "output_type": "stream",
     "text": [
      "🔑 Auth error detected, attempting to refresh token...\n",
      "🔄 Refreshing authentication token...\n",
      "\n",
      "Processing chunk 60/1491 (10 tracks)\n"
     ]
    },
    {
     "name": "stderr",
     "output_type": "stream",
     "text": [
      "HTTP Error for GET to https://api.spotify.com/v1/audio-features/?ids=5YydQ4ce7HtwaCUPZ1HqOj,2ixsaeFioXJmMgkkbd4uj1,6z2qa2dnJDXgVTngG4gFu7,7wUVwaKVvXJsv0I6mgmtgI,6GGH6rgZEGAg0Afy6SOXb8,0TqWqijc2EZcEjBsSdvnbl,3sPUibY37qvAP5THkwY58J,2zP7moFlLhfFzCiCmWyu9m,3cDfo3bJzLgBTQ5ccL8VUp,3NLrRZoMF0Lx6zTlYqeIo4 with Params: {} returned 403 due to None\n"
     ]
    },
    {
     "name": "stdout",
     "output_type": "stream",
     "text": [
      "🔑 Auth error detected, attempting to refresh token...\n",
      "🔄 Refreshing authentication token...\n",
      "\n",
      "Processing chunk 60/1491 (10 tracks)\n"
     ]
    },
    {
     "name": "stderr",
     "output_type": "stream",
     "text": [
      "HTTP Error for GET to https://api.spotify.com/v1/audio-features/?ids=5YydQ4ce7HtwaCUPZ1HqOj,2ixsaeFioXJmMgkkbd4uj1,6z2qa2dnJDXgVTngG4gFu7,7wUVwaKVvXJsv0I6mgmtgI,6GGH6rgZEGAg0Afy6SOXb8,0TqWqijc2EZcEjBsSdvnbl,3sPUibY37qvAP5THkwY58J,2zP7moFlLhfFzCiCmWyu9m,3cDfo3bJzLgBTQ5ccL8VUp,3NLrRZoMF0Lx6zTlYqeIo4 with Params: {} returned 403 due to None\n"
     ]
    },
    {
     "name": "stdout",
     "output_type": "stream",
     "text": [
      "🔑 Auth error detected, attempting to refresh token...\n",
      "🔄 Refreshing authentication token...\n",
      "\n",
      "Processing chunk 61/1491 (10 tracks)\n"
     ]
    },
    {
     "name": "stderr",
     "output_type": "stream",
     "text": [
      "HTTP Error for GET to https://api.spotify.com/v1/audio-features/?ids=6RRhRBcbXkiB27syeIkC0T,40yJGQyEaBbIkXpwMFkXip,1yJxZcbYUr7I0QffD8SFeJ,5pQEExRHWM9XnghO6bhdLJ,7fA9AeNPOmxXK0xRn04LQK,0VSzGDBSyWODAtZVeJ2hzh,5VQe4YIBhwcs7XsiHond9O,1SUsQ8CkdAUETiYaQPsRy9,1spZPzBLYeVTvd0iDWXgC2,5Lpk0nZA1lucHAGCiSqaPx with Params: {} returned 403 due to None\n"
     ]
    },
    {
     "name": "stdout",
     "output_type": "stream",
     "text": [
      "🔑 Auth error detected, attempting to refresh token...\n",
      "🔄 Refreshing authentication token...\n",
      "\n",
      "Processing chunk 61/1491 (10 tracks)\n"
     ]
    },
    {
     "name": "stderr",
     "output_type": "stream",
     "text": [
      "HTTP Error for GET to https://api.spotify.com/v1/audio-features/?ids=6RRhRBcbXkiB27syeIkC0T,40yJGQyEaBbIkXpwMFkXip,1yJxZcbYUr7I0QffD8SFeJ,5pQEExRHWM9XnghO6bhdLJ,7fA9AeNPOmxXK0xRn04LQK,0VSzGDBSyWODAtZVeJ2hzh,5VQe4YIBhwcs7XsiHond9O,1SUsQ8CkdAUETiYaQPsRy9,1spZPzBLYeVTvd0iDWXgC2,5Lpk0nZA1lucHAGCiSqaPx with Params: {} returned 403 due to None\n"
     ]
    },
    {
     "name": "stdout",
     "output_type": "stream",
     "text": [
      "🔑 Auth error detected, attempting to refresh token...\n",
      "🔄 Refreshing authentication token...\n",
      "\n",
      "Processing chunk 61/1491 (10 tracks)\n"
     ]
    },
    {
     "name": "stderr",
     "output_type": "stream",
     "text": [
      "HTTP Error for GET to https://api.spotify.com/v1/audio-features/?ids=6RRhRBcbXkiB27syeIkC0T,40yJGQyEaBbIkXpwMFkXip,1yJxZcbYUr7I0QffD8SFeJ,5pQEExRHWM9XnghO6bhdLJ,7fA9AeNPOmxXK0xRn04LQK,0VSzGDBSyWODAtZVeJ2hzh,5VQe4YIBhwcs7XsiHond9O,1SUsQ8CkdAUETiYaQPsRy9,1spZPzBLYeVTvd0iDWXgC2,5Lpk0nZA1lucHAGCiSqaPx with Params: {} returned 403 due to None\n"
     ]
    },
    {
     "name": "stdout",
     "output_type": "stream",
     "text": [
      "🔑 Auth error detected, attempting to refresh token...\n",
      "🔄 Refreshing authentication token...\n",
      "\n",
      "Processing chunk 62/1491 (10 tracks)\n"
     ]
    },
    {
     "name": "stderr",
     "output_type": "stream",
     "text": [
      "HTTP Error for GET to https://api.spotify.com/v1/audio-features/?ids=3bh1ySZRlnTary7FiYD6sF,7eNNftYCDtJbFU0ZSscDch,2nONwTTwEhKo9Kdzr2aSec,76M6is9cjx4AxyAR6BLpnC,6QdnKD1zwEgyOWtkrdzlOF,0iVxgd7ppCu5sFGGMAWjz4,4Uc6BcPeBKfZUlX6jhumGv,2P89qxRBGpQLxNsBlfWh5r,7haFcQaoTBr2qY6G0r4JSH,2f0UPCtS6jA7j91MwANe6o with Params: {} returned 403 due to None\n"
     ]
    },
    {
     "name": "stdout",
     "output_type": "stream",
     "text": [
      "🔑 Auth error detected, attempting to refresh token...\n",
      "🔄 Refreshing authentication token...\n",
      "\n",
      "Processing chunk 62/1491 (10 tracks)\n"
     ]
    },
    {
     "name": "stderr",
     "output_type": "stream",
     "text": [
      "HTTP Error for GET to https://api.spotify.com/v1/audio-features/?ids=3bh1ySZRlnTary7FiYD6sF,7eNNftYCDtJbFU0ZSscDch,2nONwTTwEhKo9Kdzr2aSec,76M6is9cjx4AxyAR6BLpnC,6QdnKD1zwEgyOWtkrdzlOF,0iVxgd7ppCu5sFGGMAWjz4,4Uc6BcPeBKfZUlX6jhumGv,2P89qxRBGpQLxNsBlfWh5r,7haFcQaoTBr2qY6G0r4JSH,2f0UPCtS6jA7j91MwANe6o with Params: {} returned 403 due to None\n"
     ]
    },
    {
     "name": "stdout",
     "output_type": "stream",
     "text": [
      "🔑 Auth error detected, attempting to refresh token...\n",
      "🔄 Refreshing authentication token...\n",
      "\n",
      "Processing chunk 62/1491 (10 tracks)\n"
     ]
    },
    {
     "name": "stderr",
     "output_type": "stream",
     "text": [
      "HTTP Error for GET to https://api.spotify.com/v1/audio-features/?ids=3bh1ySZRlnTary7FiYD6sF,7eNNftYCDtJbFU0ZSscDch,2nONwTTwEhKo9Kdzr2aSec,76M6is9cjx4AxyAR6BLpnC,6QdnKD1zwEgyOWtkrdzlOF,0iVxgd7ppCu5sFGGMAWjz4,4Uc6BcPeBKfZUlX6jhumGv,2P89qxRBGpQLxNsBlfWh5r,7haFcQaoTBr2qY6G0r4JSH,2f0UPCtS6jA7j91MwANe6o with Params: {} returned 403 due to None\n"
     ]
    },
    {
     "name": "stdout",
     "output_type": "stream",
     "text": [
      "🔑 Auth error detected, attempting to refresh token...\n",
      "🔄 Refreshing authentication token...\n",
      "\n",
      "Processing chunk 63/1491 (10 tracks)\n"
     ]
    },
    {
     "name": "stderr",
     "output_type": "stream",
     "text": [
      "HTTP Error for GET to https://api.spotify.com/v1/audio-features/?ids=4WlaNoO3LQHAJOrOdpPmTD,0W2tP6Kl33opqRUqbAD9H9,5CA0CaP4WVYDVjpIjL7WOE,60FaXKuiMVpmpvsabFEAD2,1OgoyOlrMJFqjE1eqQiCUc,0XEVqZy8pM7MN6NWACr1ic,5DSSkRV0lMsXJSZQFiN26N,1H31ra7Om6L9ci141m4ld1,0tOlblffrFigLWI4wGKEZp,5pvmhSKAEGovYtUQW8xqJp with Params: {} returned 403 due to None\n"
     ]
    },
    {
     "name": "stdout",
     "output_type": "stream",
     "text": [
      "🔑 Auth error detected, attempting to refresh token...\n",
      "🔄 Refreshing authentication token...\n",
      "\n",
      "Processing chunk 63/1491 (10 tracks)\n"
     ]
    },
    {
     "name": "stderr",
     "output_type": "stream",
     "text": [
      "HTTP Error for GET to https://api.spotify.com/v1/audio-features/?ids=4WlaNoO3LQHAJOrOdpPmTD,0W2tP6Kl33opqRUqbAD9H9,5CA0CaP4WVYDVjpIjL7WOE,60FaXKuiMVpmpvsabFEAD2,1OgoyOlrMJFqjE1eqQiCUc,0XEVqZy8pM7MN6NWACr1ic,5DSSkRV0lMsXJSZQFiN26N,1H31ra7Om6L9ci141m4ld1,0tOlblffrFigLWI4wGKEZp,5pvmhSKAEGovYtUQW8xqJp with Params: {} returned 403 due to None\n"
     ]
    },
    {
     "name": "stdout",
     "output_type": "stream",
     "text": [
      "🔑 Auth error detected, attempting to refresh token...\n",
      "🔄 Refreshing authentication token...\n",
      "\n",
      "Processing chunk 63/1491 (10 tracks)\n"
     ]
    },
    {
     "name": "stderr",
     "output_type": "stream",
     "text": [
      "HTTP Error for GET to https://api.spotify.com/v1/audio-features/?ids=4WlaNoO3LQHAJOrOdpPmTD,0W2tP6Kl33opqRUqbAD9H9,5CA0CaP4WVYDVjpIjL7WOE,60FaXKuiMVpmpvsabFEAD2,1OgoyOlrMJFqjE1eqQiCUc,0XEVqZy8pM7MN6NWACr1ic,5DSSkRV0lMsXJSZQFiN26N,1H31ra7Om6L9ci141m4ld1,0tOlblffrFigLWI4wGKEZp,5pvmhSKAEGovYtUQW8xqJp with Params: {} returned 403 due to None\n"
     ]
    },
    {
     "name": "stdout",
     "output_type": "stream",
     "text": [
      "🔑 Auth error detected, attempting to refresh token...\n",
      "🔄 Refreshing authentication token...\n",
      "\n",
      "Processing chunk 64/1491 (10 tracks)\n"
     ]
    },
    {
     "name": "stderr",
     "output_type": "stream",
     "text": [
      "HTTP Error for GET to https://api.spotify.com/v1/audio-features/?ids=2kwelHg4uwFSgFekZqAmKt,4kFfFe38CRVnTsakUTL4E4,2KVqqUxPSHkTGsP7WT5DVp,5fcVdfuGkfUUQqEQHBZLqy,6fwW6uPloanwDx78kBvH0N,456WNXWhDwYOSf5SpTuqxd,25FTMokYEbEWHEdss5JLZS,2uVf0GK5oVAlhMpWl8DTj7,4almStU064dM0ZvBfWrxSb,3hhbDnFUb2bicI2df6VurK with Params: {} returned 403 due to None\n"
     ]
    },
    {
     "name": "stdout",
     "output_type": "stream",
     "text": [
      "🔑 Auth error detected, attempting to refresh token...\n",
      "🔄 Refreshing authentication token...\n",
      "\n",
      "Processing chunk 64/1491 (10 tracks)\n"
     ]
    },
    {
     "name": "stderr",
     "output_type": "stream",
     "text": [
      "HTTP Error for GET to https://api.spotify.com/v1/audio-features/?ids=2kwelHg4uwFSgFekZqAmKt,4kFfFe38CRVnTsakUTL4E4,2KVqqUxPSHkTGsP7WT5DVp,5fcVdfuGkfUUQqEQHBZLqy,6fwW6uPloanwDx78kBvH0N,456WNXWhDwYOSf5SpTuqxd,25FTMokYEbEWHEdss5JLZS,2uVf0GK5oVAlhMpWl8DTj7,4almStU064dM0ZvBfWrxSb,3hhbDnFUb2bicI2df6VurK with Params: {} returned 403 due to None\n"
     ]
    },
    {
     "name": "stdout",
     "output_type": "stream",
     "text": [
      "🔑 Auth error detected, attempting to refresh token...\n",
      "🔄 Refreshing authentication token...\n",
      "\n",
      "Processing chunk 64/1491 (10 tracks)\n"
     ]
    },
    {
     "name": "stderr",
     "output_type": "stream",
     "text": [
      "HTTP Error for GET to https://api.spotify.com/v1/audio-features/?ids=2kwelHg4uwFSgFekZqAmKt,4kFfFe38CRVnTsakUTL4E4,2KVqqUxPSHkTGsP7WT5DVp,5fcVdfuGkfUUQqEQHBZLqy,6fwW6uPloanwDx78kBvH0N,456WNXWhDwYOSf5SpTuqxd,25FTMokYEbEWHEdss5JLZS,2uVf0GK5oVAlhMpWl8DTj7,4almStU064dM0ZvBfWrxSb,3hhbDnFUb2bicI2df6VurK with Params: {} returned 403 due to None\n"
     ]
    },
    {
     "name": "stdout",
     "output_type": "stream",
     "text": [
      "🔑 Auth error detected, attempting to refresh token...\n",
      "🔄 Refreshing authentication token...\n",
      "\n",
      "Processing chunk 65/1491 (10 tracks)\n"
     ]
    },
    {
     "name": "stderr",
     "output_type": "stream",
     "text": [
      "HTTP Error for GET to https://api.spotify.com/v1/audio-features/?ids=4Ii1EFQX6EZXkojk4CO9pm,6xrkYyXiBNgmfYENclTW0q,7fRMDI6IRoYu8jrVg3laht,6kyhJvTKWQzlcYywNZRDsy,5LGAqwogr5XhF2RdZ9sZqD,6LUGAFpbYVek4rRY0G9dV0,0ufHx8gigeu7UeWiYy7Ji4,3ekBhhUih8Todds2ZEjM4v,2SKTrsEeT0wdQY1dgug8TW,5ng1tKy0EaL850m5VeW2E3 with Params: {} returned 403 due to None\n"
     ]
    },
    {
     "name": "stdout",
     "output_type": "stream",
     "text": [
      "🔑 Auth error detected, attempting to refresh token...\n",
      "🔄 Refreshing authentication token...\n",
      "\n",
      "Processing chunk 65/1491 (10 tracks)\n"
     ]
    },
    {
     "name": "stderr",
     "output_type": "stream",
     "text": [
      "HTTP Error for GET to https://api.spotify.com/v1/audio-features/?ids=4Ii1EFQX6EZXkojk4CO9pm,6xrkYyXiBNgmfYENclTW0q,7fRMDI6IRoYu8jrVg3laht,6kyhJvTKWQzlcYywNZRDsy,5LGAqwogr5XhF2RdZ9sZqD,6LUGAFpbYVek4rRY0G9dV0,0ufHx8gigeu7UeWiYy7Ji4,3ekBhhUih8Todds2ZEjM4v,2SKTrsEeT0wdQY1dgug8TW,5ng1tKy0EaL850m5VeW2E3 with Params: {} returned 403 due to None\n"
     ]
    },
    {
     "name": "stdout",
     "output_type": "stream",
     "text": [
      "🔑 Auth error detected, attempting to refresh token...\n",
      "🔄 Refreshing authentication token...\n",
      "\n",
      "Processing chunk 65/1491 (10 tracks)\n"
     ]
    },
    {
     "name": "stderr",
     "output_type": "stream",
     "text": [
      "HTTP Error for GET to https://api.spotify.com/v1/audio-features/?ids=4Ii1EFQX6EZXkojk4CO9pm,6xrkYyXiBNgmfYENclTW0q,7fRMDI6IRoYu8jrVg3laht,6kyhJvTKWQzlcYywNZRDsy,5LGAqwogr5XhF2RdZ9sZqD,6LUGAFpbYVek4rRY0G9dV0,0ufHx8gigeu7UeWiYy7Ji4,3ekBhhUih8Todds2ZEjM4v,2SKTrsEeT0wdQY1dgug8TW,5ng1tKy0EaL850m5VeW2E3 with Params: {} returned 403 due to None\n"
     ]
    },
    {
     "name": "stdout",
     "output_type": "stream",
     "text": [
      "🔑 Auth error detected, attempting to refresh token...\n",
      "🔄 Refreshing authentication token...\n",
      "\n",
      "Processing chunk 66/1491 (10 tracks)\n"
     ]
    },
    {
     "name": "stderr",
     "output_type": "stream",
     "text": [
      "HTTP Error for GET to https://api.spotify.com/v1/audio-features/?ids=5zdTAKHDOZryNxPKxDM7e3,7oVA2SIwNfCZPSFOhHBlFD,1uLUQtWTbeCnfx0ZOjQ5tt,3DP9Mqp9LZTAgrrnZCSaU2,2CAKPZmEj2nkpmzjP4L7zc,1w3INiZ1V2Aj1GHN4A9iAh,0iZ7IbC5eHHeEVIadW61rT,2AtYnDbxNMfPZiwwyjXsJQ,2SSkvUhLpDl8a5J4yqsEUM,2wIww0cu2j9EDRjNRDFKmA with Params: {} returned 403 due to None\n"
     ]
    },
    {
     "name": "stdout",
     "output_type": "stream",
     "text": [
      "🔑 Auth error detected, attempting to refresh token...\n",
      "🔄 Refreshing authentication token...\n",
      "\n",
      "Processing chunk 66/1491 (10 tracks)\n"
     ]
    },
    {
     "name": "stderr",
     "output_type": "stream",
     "text": [
      "HTTP Error for GET to https://api.spotify.com/v1/audio-features/?ids=5zdTAKHDOZryNxPKxDM7e3,7oVA2SIwNfCZPSFOhHBlFD,1uLUQtWTbeCnfx0ZOjQ5tt,3DP9Mqp9LZTAgrrnZCSaU2,2CAKPZmEj2nkpmzjP4L7zc,1w3INiZ1V2Aj1GHN4A9iAh,0iZ7IbC5eHHeEVIadW61rT,2AtYnDbxNMfPZiwwyjXsJQ,2SSkvUhLpDl8a5J4yqsEUM,2wIww0cu2j9EDRjNRDFKmA with Params: {} returned 403 due to None\n"
     ]
    },
    {
     "name": "stdout",
     "output_type": "stream",
     "text": [
      "🔑 Auth error detected, attempting to refresh token...\n",
      "🔄 Refreshing authentication token...\n",
      "\n",
      "Processing chunk 66/1491 (10 tracks)\n"
     ]
    },
    {
     "name": "stderr",
     "output_type": "stream",
     "text": [
      "HTTP Error for GET to https://api.spotify.com/v1/audio-features/?ids=5zdTAKHDOZryNxPKxDM7e3,7oVA2SIwNfCZPSFOhHBlFD,1uLUQtWTbeCnfx0ZOjQ5tt,3DP9Mqp9LZTAgrrnZCSaU2,2CAKPZmEj2nkpmzjP4L7zc,1w3INiZ1V2Aj1GHN4A9iAh,0iZ7IbC5eHHeEVIadW61rT,2AtYnDbxNMfPZiwwyjXsJQ,2SSkvUhLpDl8a5J4yqsEUM,2wIww0cu2j9EDRjNRDFKmA with Params: {} returned 403 due to None\n"
     ]
    },
    {
     "name": "stdout",
     "output_type": "stream",
     "text": [
      "🔑 Auth error detected, attempting to refresh token...\n",
      "🔄 Refreshing authentication token...\n",
      "\n",
      "Processing chunk 67/1491 (10 tracks)\n"
     ]
    },
    {
     "name": "stderr",
     "output_type": "stream",
     "text": [
      "HTTP Error for GET to https://api.spotify.com/v1/audio-features/?ids=0nnwn7LWHCAu09jfuH1xTA,0HqkqqlMMKeyhC3I7mNV7b,079mntueS2KWjxVqOHjG70,4dq7XLDmFHNwc1yqL339qT,5UuikgHTxSRFRnC0zXx10i,4CbrNGvwVjneG8Nk9YQqMR,5U5NS5up3aFe2DURLf5EAx,0l7yVENQ4GRIOfSuoWg1td,5AzmZYEarKgPJaJ3qzvO6B,5et1bDiCcqyemqzM5fII9V with Params: {} returned 403 due to None\n"
     ]
    },
    {
     "name": "stdout",
     "output_type": "stream",
     "text": [
      "🔑 Auth error detected, attempting to refresh token...\n",
      "🔄 Refreshing authentication token...\n",
      "\n",
      "Processing chunk 67/1491 (10 tracks)\n"
     ]
    },
    {
     "name": "stderr",
     "output_type": "stream",
     "text": [
      "HTTP Error for GET to https://api.spotify.com/v1/audio-features/?ids=0nnwn7LWHCAu09jfuH1xTA,0HqkqqlMMKeyhC3I7mNV7b,079mntueS2KWjxVqOHjG70,4dq7XLDmFHNwc1yqL339qT,5UuikgHTxSRFRnC0zXx10i,4CbrNGvwVjneG8Nk9YQqMR,5U5NS5up3aFe2DURLf5EAx,0l7yVENQ4GRIOfSuoWg1td,5AzmZYEarKgPJaJ3qzvO6B,5et1bDiCcqyemqzM5fII9V with Params: {} returned 403 due to None\n"
     ]
    },
    {
     "name": "stdout",
     "output_type": "stream",
     "text": [
      "🔑 Auth error detected, attempting to refresh token...\n",
      "🔄 Refreshing authentication token...\n",
      "\n",
      "Processing chunk 67/1491 (10 tracks)\n"
     ]
    },
    {
     "name": "stderr",
     "output_type": "stream",
     "text": [
      "HTTP Error for GET to https://api.spotify.com/v1/audio-features/?ids=0nnwn7LWHCAu09jfuH1xTA,0HqkqqlMMKeyhC3I7mNV7b,079mntueS2KWjxVqOHjG70,4dq7XLDmFHNwc1yqL339qT,5UuikgHTxSRFRnC0zXx10i,4CbrNGvwVjneG8Nk9YQqMR,5U5NS5up3aFe2DURLf5EAx,0l7yVENQ4GRIOfSuoWg1td,5AzmZYEarKgPJaJ3qzvO6B,5et1bDiCcqyemqzM5fII9V with Params: {} returned 403 due to None\n"
     ]
    },
    {
     "name": "stdout",
     "output_type": "stream",
     "text": [
      "🔑 Auth error detected, attempting to refresh token...\n",
      "🔄 Refreshing authentication token...\n",
      "\n",
      "Processing chunk 68/1491 (10 tracks)\n"
     ]
    },
    {
     "name": "stderr",
     "output_type": "stream",
     "text": [
      "HTTP Error for GET to https://api.spotify.com/v1/audio-features/?ids=4AGbGF8JPcaH43eCMuANXG,3GQeZ8XrKApus18dLDmLBJ,7szFsDj8XeHJduOQcjjsKi,5HfR57Ays3l1fIgvVdLG5Z,0LWph5QkjnoelTioz9tVN7,51zYve1y3XXPHTbMIKFMbz,1wb4P4F0sxAQ2KXrRvsx6n,4beuBXU4k3YWwVKm0PpWhv,2WnPietHTd9hrIPbZnpoHL,5bGb7jiHKrJldOlnVfyplD with Params: {} returned 403 due to None\n"
     ]
    },
    {
     "name": "stdout",
     "output_type": "stream",
     "text": [
      "🔑 Auth error detected, attempting to refresh token...\n",
      "🔄 Refreshing authentication token...\n",
      "\n",
      "Processing chunk 68/1491 (10 tracks)\n"
     ]
    },
    {
     "name": "stderr",
     "output_type": "stream",
     "text": [
      "HTTP Error for GET to https://api.spotify.com/v1/audio-features/?ids=4AGbGF8JPcaH43eCMuANXG,3GQeZ8XrKApus18dLDmLBJ,7szFsDj8XeHJduOQcjjsKi,5HfR57Ays3l1fIgvVdLG5Z,0LWph5QkjnoelTioz9tVN7,51zYve1y3XXPHTbMIKFMbz,1wb4P4F0sxAQ2KXrRvsx6n,4beuBXU4k3YWwVKm0PpWhv,2WnPietHTd9hrIPbZnpoHL,5bGb7jiHKrJldOlnVfyplD with Params: {} returned 403 due to None\n"
     ]
    },
    {
     "name": "stdout",
     "output_type": "stream",
     "text": [
      "🔑 Auth error detected, attempting to refresh token...\n",
      "🔄 Refreshing authentication token...\n",
      "\n",
      "Processing chunk 68/1491 (10 tracks)\n"
     ]
    },
    {
     "name": "stderr",
     "output_type": "stream",
     "text": [
      "HTTP Error for GET to https://api.spotify.com/v1/audio-features/?ids=4AGbGF8JPcaH43eCMuANXG,3GQeZ8XrKApus18dLDmLBJ,7szFsDj8XeHJduOQcjjsKi,5HfR57Ays3l1fIgvVdLG5Z,0LWph5QkjnoelTioz9tVN7,51zYve1y3XXPHTbMIKFMbz,1wb4P4F0sxAQ2KXrRvsx6n,4beuBXU4k3YWwVKm0PpWhv,2WnPietHTd9hrIPbZnpoHL,5bGb7jiHKrJldOlnVfyplD with Params: {} returned 403 due to None\n"
     ]
    },
    {
     "name": "stdout",
     "output_type": "stream",
     "text": [
      "🔑 Auth error detected, attempting to refresh token...\n",
      "🔄 Refreshing authentication token...\n",
      "\n",
      "Processing chunk 69/1491 (10 tracks)\n"
     ]
    },
    {
     "name": "stderr",
     "output_type": "stream",
     "text": [
      "HTTP Error for GET to https://api.spotify.com/v1/audio-features/?ids=4MVHeucEGvnyhfEsd2WFtV,1i6U92Dy6RelzcBfOZCFr4,2GzuN3lReGbfYoKMAyZ9vt,1cUdZe883cQlXWQkd1tvdK,49BYsmRpIvpaeVRTE8palI,7yD9dL2hBG9xOFsmT2llCt,2SAqBLGA283SUiwJ3xOUVI,0YriANWHgMoP6P4xSZvmaW,5sUFhKLGP5YXT0fJdUrCFt,6zrRw31r0RlZTYd7dgKqb1 with Params: {} returned 403 due to None\n"
     ]
    },
    {
     "name": "stdout",
     "output_type": "stream",
     "text": [
      "🔑 Auth error detected, attempting to refresh token...\n",
      "🔄 Refreshing authentication token...\n",
      "\n",
      "Processing chunk 69/1491 (10 tracks)\n"
     ]
    },
    {
     "name": "stderr",
     "output_type": "stream",
     "text": [
      "HTTP Error for GET to https://api.spotify.com/v1/audio-features/?ids=4MVHeucEGvnyhfEsd2WFtV,1i6U92Dy6RelzcBfOZCFr4,2GzuN3lReGbfYoKMAyZ9vt,1cUdZe883cQlXWQkd1tvdK,49BYsmRpIvpaeVRTE8palI,7yD9dL2hBG9xOFsmT2llCt,2SAqBLGA283SUiwJ3xOUVI,0YriANWHgMoP6P4xSZvmaW,5sUFhKLGP5YXT0fJdUrCFt,6zrRw31r0RlZTYd7dgKqb1 with Params: {} returned 403 due to None\n"
     ]
    },
    {
     "name": "stdout",
     "output_type": "stream",
     "text": [
      "🔑 Auth error detected, attempting to refresh token...\n",
      "🔄 Refreshing authentication token...\n",
      "\n",
      "Processing chunk 69/1491 (10 tracks)\n"
     ]
    },
    {
     "name": "stderr",
     "output_type": "stream",
     "text": [
      "HTTP Error for GET to https://api.spotify.com/v1/audio-features/?ids=4MVHeucEGvnyhfEsd2WFtV,1i6U92Dy6RelzcBfOZCFr4,2GzuN3lReGbfYoKMAyZ9vt,1cUdZe883cQlXWQkd1tvdK,49BYsmRpIvpaeVRTE8palI,7yD9dL2hBG9xOFsmT2llCt,2SAqBLGA283SUiwJ3xOUVI,0YriANWHgMoP6P4xSZvmaW,5sUFhKLGP5YXT0fJdUrCFt,6zrRw31r0RlZTYd7dgKqb1 with Params: {} returned 403 due to None\n"
     ]
    },
    {
     "name": "stdout",
     "output_type": "stream",
     "text": [
      "🔑 Auth error detected, attempting to refresh token...\n",
      "🔄 Refreshing authentication token...\n",
      "\n",
      "Processing chunk 70/1491 (10 tracks)\n"
     ]
    },
    {
     "name": "stderr",
     "output_type": "stream",
     "text": [
      "HTTP Error for GET to https://api.spotify.com/v1/audio-features/?ids=5ByHWmYt4Y8GTfTaogFp9u,3ZpWy5rBZv2aLQAldnmTsP,0f5gpTHPbm1JX9HVMOqpCh,68Vb8dhUtY7xXgAc9WONXc,5gqsoQUo64AqvI1dq7rKW0,2tRzXpQnfPBtnCzJ6wCzoi,2HQT2P5UOzj55BF2cRpv8V,2NcnRXvKMhilK3CSXm325p,50OGVJNeqhuv05sOUspVIK,6fIvBjBjMVYMsWRkh2VG3m with Params: {} returned 403 due to None\n"
     ]
    },
    {
     "name": "stdout",
     "output_type": "stream",
     "text": [
      "🔑 Auth error detected, attempting to refresh token...\n",
      "🔄 Refreshing authentication token...\n",
      "\n",
      "Processing chunk 70/1491 (10 tracks)\n"
     ]
    },
    {
     "name": "stderr",
     "output_type": "stream",
     "text": [
      "HTTP Error for GET to https://api.spotify.com/v1/audio-features/?ids=5ByHWmYt4Y8GTfTaogFp9u,3ZpWy5rBZv2aLQAldnmTsP,0f5gpTHPbm1JX9HVMOqpCh,68Vb8dhUtY7xXgAc9WONXc,5gqsoQUo64AqvI1dq7rKW0,2tRzXpQnfPBtnCzJ6wCzoi,2HQT2P5UOzj55BF2cRpv8V,2NcnRXvKMhilK3CSXm325p,50OGVJNeqhuv05sOUspVIK,6fIvBjBjMVYMsWRkh2VG3m with Params: {} returned 403 due to None\n"
     ]
    },
    {
     "name": "stdout",
     "output_type": "stream",
     "text": [
      "🔑 Auth error detected, attempting to refresh token...\n",
      "🔄 Refreshing authentication token...\n",
      "\n",
      "Processing chunk 70/1491 (10 tracks)\n"
     ]
    },
    {
     "name": "stderr",
     "output_type": "stream",
     "text": [
      "HTTP Error for GET to https://api.spotify.com/v1/audio-features/?ids=5ByHWmYt4Y8GTfTaogFp9u,3ZpWy5rBZv2aLQAldnmTsP,0f5gpTHPbm1JX9HVMOqpCh,68Vb8dhUtY7xXgAc9WONXc,5gqsoQUo64AqvI1dq7rKW0,2tRzXpQnfPBtnCzJ6wCzoi,2HQT2P5UOzj55BF2cRpv8V,2NcnRXvKMhilK3CSXm325p,50OGVJNeqhuv05sOUspVIK,6fIvBjBjMVYMsWRkh2VG3m with Params: {} returned 403 due to None\n"
     ]
    },
    {
     "name": "stdout",
     "output_type": "stream",
     "text": [
      "🔑 Auth error detected, attempting to refresh token...\n",
      "🔄 Refreshing authentication token...\n",
      "\n",
      "Processing chunk 71/1491 (10 tracks)\n"
     ]
    },
    {
     "name": "stderr",
     "output_type": "stream",
     "text": [
      "HTTP Error for GET to https://api.spotify.com/v1/audio-features/?ids=1Yl4bnYsBMA57mMFvaZ7TS,2WKMMQIZRh6nOZBgVALRjL,60O0CjviBowszlKb9R4Xjm,1bfRXeYRGJF8aCxUpQ4yOq,37DyZaV3ZdMqRPTASq5Imx,7p8vwbbf9sMQbrdQrsmTlI,6eLn8XKQQbt1GHAwZcg4Wp,3bXiWZWR3CoZbhcsqfsMNa,76siIKuC2oBv01gNgKEuDG,4h2USk1olucI2F3xNqDHpS with Params: {} returned 403 due to None\n"
     ]
    },
    {
     "name": "stdout",
     "output_type": "stream",
     "text": [
      "🔑 Auth error detected, attempting to refresh token...\n",
      "🔄 Refreshing authentication token...\n",
      "\n",
      "Processing chunk 71/1491 (10 tracks)\n"
     ]
    },
    {
     "name": "stderr",
     "output_type": "stream",
     "text": [
      "HTTP Error for GET to https://api.spotify.com/v1/audio-features/?ids=1Yl4bnYsBMA57mMFvaZ7TS,2WKMMQIZRh6nOZBgVALRjL,60O0CjviBowszlKb9R4Xjm,1bfRXeYRGJF8aCxUpQ4yOq,37DyZaV3ZdMqRPTASq5Imx,7p8vwbbf9sMQbrdQrsmTlI,6eLn8XKQQbt1GHAwZcg4Wp,3bXiWZWR3CoZbhcsqfsMNa,76siIKuC2oBv01gNgKEuDG,4h2USk1olucI2F3xNqDHpS with Params: {} returned 403 due to None\n"
     ]
    },
    {
     "name": "stdout",
     "output_type": "stream",
     "text": [
      "🔑 Auth error detected, attempting to refresh token...\n",
      "🔄 Refreshing authentication token...\n",
      "\n",
      "Processing chunk 71/1491 (10 tracks)\n"
     ]
    },
    {
     "name": "stderr",
     "output_type": "stream",
     "text": [
      "HTTP Error for GET to https://api.spotify.com/v1/audio-features/?ids=1Yl4bnYsBMA57mMFvaZ7TS,2WKMMQIZRh6nOZBgVALRjL,60O0CjviBowszlKb9R4Xjm,1bfRXeYRGJF8aCxUpQ4yOq,37DyZaV3ZdMqRPTASq5Imx,7p8vwbbf9sMQbrdQrsmTlI,6eLn8XKQQbt1GHAwZcg4Wp,3bXiWZWR3CoZbhcsqfsMNa,76siIKuC2oBv01gNgKEuDG,4h2USk1olucI2F3xNqDHpS with Params: {} returned 403 due to None\n"
     ]
    },
    {
     "name": "stdout",
     "output_type": "stream",
     "text": [
      "🔑 Auth error detected, attempting to refresh token...\n",
      "🔄 Refreshing authentication token...\n",
      "\n",
      "Processing chunk 72/1491 (10 tracks)\n"
     ]
    },
    {
     "name": "stderr",
     "output_type": "stream",
     "text": [
      "HTTP Error for GET to https://api.spotify.com/v1/audio-features/?ids=2013nQhWN1CNjhSwzf1TPx,66oWVnd6GRNBsPHL6Arpew,3Uvx1TO0Kg5HgGPk58lHXv,07wEeLrhbzQyTJKihOIT13,0GxV3poTM7Z7fKSUqy5qFw,4OsGDNu3jFYsFqWVvckIb9,14IVonahcPCk7750AJ0gfJ,3fqFi0EhWYxKER9H5lDBV2,5DWaUCipAPsEQEYNyQF2H1,3m8CQnnfJJp4eQMWWl3zay with Params: {} returned 403 due to None\n"
     ]
    },
    {
     "name": "stdout",
     "output_type": "stream",
     "text": [
      "🔑 Auth error detected, attempting to refresh token...\n",
      "🔄 Refreshing authentication token...\n",
      "\n",
      "Processing chunk 72/1491 (10 tracks)\n"
     ]
    },
    {
     "name": "stderr",
     "output_type": "stream",
     "text": [
      "HTTP Error for GET to https://api.spotify.com/v1/audio-features/?ids=2013nQhWN1CNjhSwzf1TPx,66oWVnd6GRNBsPHL6Arpew,3Uvx1TO0Kg5HgGPk58lHXv,07wEeLrhbzQyTJKihOIT13,0GxV3poTM7Z7fKSUqy5qFw,4OsGDNu3jFYsFqWVvckIb9,14IVonahcPCk7750AJ0gfJ,3fqFi0EhWYxKER9H5lDBV2,5DWaUCipAPsEQEYNyQF2H1,3m8CQnnfJJp4eQMWWl3zay with Params: {} returned 403 due to None\n"
     ]
    },
    {
     "name": "stdout",
     "output_type": "stream",
     "text": [
      "🔑 Auth error detected, attempting to refresh token...\n",
      "🔄 Refreshing authentication token...\n",
      "\n",
      "Processing chunk 72/1491 (10 tracks)\n"
     ]
    },
    {
     "name": "stderr",
     "output_type": "stream",
     "text": [
      "HTTP Error for GET to https://api.spotify.com/v1/audio-features/?ids=2013nQhWN1CNjhSwzf1TPx,66oWVnd6GRNBsPHL6Arpew,3Uvx1TO0Kg5HgGPk58lHXv,07wEeLrhbzQyTJKihOIT13,0GxV3poTM7Z7fKSUqy5qFw,4OsGDNu3jFYsFqWVvckIb9,14IVonahcPCk7750AJ0gfJ,3fqFi0EhWYxKER9H5lDBV2,5DWaUCipAPsEQEYNyQF2H1,3m8CQnnfJJp4eQMWWl3zay with Params: {} returned 403 due to None\n"
     ]
    },
    {
     "name": "stdout",
     "output_type": "stream",
     "text": [
      "🔑 Auth error detected, attempting to refresh token...\n",
      "🔄 Refreshing authentication token...\n",
      "\n",
      "Processing chunk 73/1491 (10 tracks)\n"
     ]
    },
    {
     "name": "stderr",
     "output_type": "stream",
     "text": [
      "HTTP Error for GET to https://api.spotify.com/v1/audio-features/?ids=4BFDFBAdCfrHMkvriV5FYM,3FsBtu3gdlfZjBLXyDvmj1,0QPwje8pdu8PWtsLjt0frl,5JpZUFeViZzfLOM8667Tfw,38mSHlNQxJkjmLHCbES077,44t9NAr0hIEQyIktyjz6mG,5IwtSROe2KFbsFCu4rS1xY,1dJO1XcaKJ2qrZEsoQT3q5,1lG0JtBqN0xKSoC31hDCT4,35g7rwtNf0kJ46ITLkNvKg with Params: {} returned 403 due to None\n"
     ]
    },
    {
     "name": "stdout",
     "output_type": "stream",
     "text": [
      "🔑 Auth error detected, attempting to refresh token...\n",
      "🔄 Refreshing authentication token...\n",
      "\n",
      "Processing chunk 73/1491 (10 tracks)\n"
     ]
    },
    {
     "name": "stderr",
     "output_type": "stream",
     "text": [
      "HTTP Error for GET to https://api.spotify.com/v1/audio-features/?ids=4BFDFBAdCfrHMkvriV5FYM,3FsBtu3gdlfZjBLXyDvmj1,0QPwje8pdu8PWtsLjt0frl,5JpZUFeViZzfLOM8667Tfw,38mSHlNQxJkjmLHCbES077,44t9NAr0hIEQyIktyjz6mG,5IwtSROe2KFbsFCu4rS1xY,1dJO1XcaKJ2qrZEsoQT3q5,1lG0JtBqN0xKSoC31hDCT4,35g7rwtNf0kJ46ITLkNvKg with Params: {} returned 403 due to None\n"
     ]
    },
    {
     "name": "stdout",
     "output_type": "stream",
     "text": [
      "🔑 Auth error detected, attempting to refresh token...\n",
      "🔄 Refreshing authentication token...\n",
      "\n",
      "Processing chunk 73/1491 (10 tracks)\n"
     ]
    },
    {
     "name": "stderr",
     "output_type": "stream",
     "text": [
      "HTTP Error for GET to https://api.spotify.com/v1/audio-features/?ids=4BFDFBAdCfrHMkvriV5FYM,3FsBtu3gdlfZjBLXyDvmj1,0QPwje8pdu8PWtsLjt0frl,5JpZUFeViZzfLOM8667Tfw,38mSHlNQxJkjmLHCbES077,44t9NAr0hIEQyIktyjz6mG,5IwtSROe2KFbsFCu4rS1xY,1dJO1XcaKJ2qrZEsoQT3q5,1lG0JtBqN0xKSoC31hDCT4,35g7rwtNf0kJ46ITLkNvKg with Params: {} returned 403 due to None\n"
     ]
    },
    {
     "name": "stdout",
     "output_type": "stream",
     "text": [
      "🔑 Auth error detected, attempting to refresh token...\n",
      "🔄 Refreshing authentication token...\n",
      "\n",
      "Processing chunk 74/1491 (10 tracks)\n"
     ]
    },
    {
     "name": "stderr",
     "output_type": "stream",
     "text": [
      "HTTP Error for GET to https://api.spotify.com/v1/audio-features/?ids=5rWeWgWECxkTXlaXNAHIQe,5J0abv5DJw0DrQ0FA0bpoX,0NiaHPlgDp7081zSqXuULS,6rhhPHU961icpTySgXpRy8,44lFJOVegoibUXGrib87UC,4HJNRwc6Q4ZHkrT6H2fErm,4VUwkH455At9kENOfzTqmF,7EeSlpeqsvQWX9zaWNldrQ,62AD9i6STX9ahXbyer7t6n,3ckd4YA4LcD3j50rfIVwUe with Params: {} returned 403 due to None\n"
     ]
    },
    {
     "name": "stdout",
     "output_type": "stream",
     "text": [
      "🔑 Auth error detected, attempting to refresh token...\n",
      "🔄 Refreshing authentication token...\n",
      "\n",
      "Processing chunk 74/1491 (10 tracks)\n"
     ]
    },
    {
     "name": "stderr",
     "output_type": "stream",
     "text": [
      "HTTP Error for GET to https://api.spotify.com/v1/audio-features/?ids=5rWeWgWECxkTXlaXNAHIQe,5J0abv5DJw0DrQ0FA0bpoX,0NiaHPlgDp7081zSqXuULS,6rhhPHU961icpTySgXpRy8,44lFJOVegoibUXGrib87UC,4HJNRwc6Q4ZHkrT6H2fErm,4VUwkH455At9kENOfzTqmF,7EeSlpeqsvQWX9zaWNldrQ,62AD9i6STX9ahXbyer7t6n,3ckd4YA4LcD3j50rfIVwUe with Params: {} returned 403 due to None\n"
     ]
    },
    {
     "name": "stdout",
     "output_type": "stream",
     "text": [
      "🔑 Auth error detected, attempting to refresh token...\n",
      "🔄 Refreshing authentication token...\n",
      "\n",
      "Processing chunk 74/1491 (10 tracks)\n"
     ]
    },
    {
     "name": "stderr",
     "output_type": "stream",
     "text": [
      "HTTP Error for GET to https://api.spotify.com/v1/audio-features/?ids=5rWeWgWECxkTXlaXNAHIQe,5J0abv5DJw0DrQ0FA0bpoX,0NiaHPlgDp7081zSqXuULS,6rhhPHU961icpTySgXpRy8,44lFJOVegoibUXGrib87UC,4HJNRwc6Q4ZHkrT6H2fErm,4VUwkH455At9kENOfzTqmF,7EeSlpeqsvQWX9zaWNldrQ,62AD9i6STX9ahXbyer7t6n,3ckd4YA4LcD3j50rfIVwUe with Params: {} returned 403 due to None\n"
     ]
    },
    {
     "name": "stdout",
     "output_type": "stream",
     "text": [
      "🔑 Auth error detected, attempting to refresh token...\n",
      "🔄 Refreshing authentication token...\n",
      "\n",
      "Processing chunk 75/1491 (10 tracks)\n"
     ]
    },
    {
     "name": "stderr",
     "output_type": "stream",
     "text": [
      "HTTP Error for GET to https://api.spotify.com/v1/audio-features/?ids=46EuzanXhKwIc7755wLAvS,06qDEAG26TspT2yK2NLgEZ,20hExBtLQIIaJPJPtXgeBO,7CtViMh5EgoE8krmPPuOhi,0rFoZlyDdGAiJPVN2uYhCH,5u6fnmRO5V0PTl5M2Eekeu,74Rb2J57xIHXnf7V4c7nyk,525GY0mXYnxajolwgS8Eaz,5F6rwEF15hN1jnhNk2YQHn,5gR6p7bZbFjYsw5SLlQSmc with Params: {} returned 403 due to None\n"
     ]
    },
    {
     "name": "stdout",
     "output_type": "stream",
     "text": [
      "🔑 Auth error detected, attempting to refresh token...\n",
      "🔄 Refreshing authentication token...\n",
      "\n",
      "Processing chunk 75/1491 (10 tracks)\n"
     ]
    },
    {
     "name": "stderr",
     "output_type": "stream",
     "text": [
      "HTTP Error for GET to https://api.spotify.com/v1/audio-features/?ids=46EuzanXhKwIc7755wLAvS,06qDEAG26TspT2yK2NLgEZ,20hExBtLQIIaJPJPtXgeBO,7CtViMh5EgoE8krmPPuOhi,0rFoZlyDdGAiJPVN2uYhCH,5u6fnmRO5V0PTl5M2Eekeu,74Rb2J57xIHXnf7V4c7nyk,525GY0mXYnxajolwgS8Eaz,5F6rwEF15hN1jnhNk2YQHn,5gR6p7bZbFjYsw5SLlQSmc with Params: {} returned 403 due to None\n"
     ]
    },
    {
     "name": "stdout",
     "output_type": "stream",
     "text": [
      "🔑 Auth error detected, attempting to refresh token...\n",
      "🔄 Refreshing authentication token...\n",
      "\n",
      "Processing chunk 75/1491 (10 tracks)\n"
     ]
    },
    {
     "name": "stderr",
     "output_type": "stream",
     "text": [
      "HTTP Error for GET to https://api.spotify.com/v1/audio-features/?ids=46EuzanXhKwIc7755wLAvS,06qDEAG26TspT2yK2NLgEZ,20hExBtLQIIaJPJPtXgeBO,7CtViMh5EgoE8krmPPuOhi,0rFoZlyDdGAiJPVN2uYhCH,5u6fnmRO5V0PTl5M2Eekeu,74Rb2J57xIHXnf7V4c7nyk,525GY0mXYnxajolwgS8Eaz,5F6rwEF15hN1jnhNk2YQHn,5gR6p7bZbFjYsw5SLlQSmc with Params: {} returned 403 due to None\n"
     ]
    },
    {
     "name": "stdout",
     "output_type": "stream",
     "text": [
      "🔑 Auth error detected, attempting to refresh token...\n",
      "🔄 Refreshing authentication token...\n",
      "\n",
      "Processing chunk 76/1491 (10 tracks)\n"
     ]
    },
    {
     "name": "stderr",
     "output_type": "stream",
     "text": [
      "HTTP Error for GET to https://api.spotify.com/v1/audio-features/?ids=5uxb9mE0Jd4oEEECxmNxbP,1njobA8NxcOtPIbLdrip0T,24XMfkA01IoGyF8xADPwn4,2blCyIRZvo5xp7AIkWkr4l,5Y9SQdDo6u7uQl6EPQVPEm,71cJUmujqjWnTUG68FkKYM,1LFWOSjNcL9QpCgKrxKa77,7FVx27ZtCRnTr29zbkkimL,0oZoGT6BoQ4Z2ACqyMiAFG,6NvRxjfYkkT2SpirAlmsjH with Params: {} returned 403 due to None\n"
     ]
    },
    {
     "name": "stdout",
     "output_type": "stream",
     "text": [
      "🔑 Auth error detected, attempting to refresh token...\n",
      "🔄 Refreshing authentication token...\n",
      "\n",
      "Processing chunk 76/1491 (10 tracks)\n"
     ]
    },
    {
     "name": "stderr",
     "output_type": "stream",
     "text": [
      "HTTP Error for GET to https://api.spotify.com/v1/audio-features/?ids=5uxb9mE0Jd4oEEECxmNxbP,1njobA8NxcOtPIbLdrip0T,24XMfkA01IoGyF8xADPwn4,2blCyIRZvo5xp7AIkWkr4l,5Y9SQdDo6u7uQl6EPQVPEm,71cJUmujqjWnTUG68FkKYM,1LFWOSjNcL9QpCgKrxKa77,7FVx27ZtCRnTr29zbkkimL,0oZoGT6BoQ4Z2ACqyMiAFG,6NvRxjfYkkT2SpirAlmsjH with Params: {} returned 403 due to None\n"
     ]
    },
    {
     "name": "stdout",
     "output_type": "stream",
     "text": [
      "🔑 Auth error detected, attempting to refresh token...\n",
      "🔄 Refreshing authentication token...\n",
      "\n",
      "Processing chunk 76/1491 (10 tracks)\n"
     ]
    },
    {
     "name": "stderr",
     "output_type": "stream",
     "text": [
      "HTTP Error for GET to https://api.spotify.com/v1/audio-features/?ids=5uxb9mE0Jd4oEEECxmNxbP,1njobA8NxcOtPIbLdrip0T,24XMfkA01IoGyF8xADPwn4,2blCyIRZvo5xp7AIkWkr4l,5Y9SQdDo6u7uQl6EPQVPEm,71cJUmujqjWnTUG68FkKYM,1LFWOSjNcL9QpCgKrxKa77,7FVx27ZtCRnTr29zbkkimL,0oZoGT6BoQ4Z2ACqyMiAFG,6NvRxjfYkkT2SpirAlmsjH with Params: {} returned 403 due to None\n"
     ]
    },
    {
     "name": "stdout",
     "output_type": "stream",
     "text": [
      "🔑 Auth error detected, attempting to refresh token...\n",
      "🔄 Refreshing authentication token...\n",
      "\n",
      "Processing chunk 77/1491 (10 tracks)\n"
     ]
    },
    {
     "name": "stderr",
     "output_type": "stream",
     "text": [
      "HTTP Error for GET to https://api.spotify.com/v1/audio-features/?ids=1Tc3kbOaPzpY8y9phWaVDx,69mZ06hahobeIarsYOGLDH,6ccRJ8sM78ILTBKPUukcc2,0LP2DlqqEH5Lo0ujWdHkUD,5UyUx6W9NU1b4W83cEIewG,0KAd1QSuVhtKnkhohkEjfv,5tgzWIiyaCda8TtMTOh2p5,3i3n58wUE4GqyWSiDOKwbO,2pw9RZWZibttZzoFhwjuy6,5yhKaacMZGRo4s6evJx9vk with Params: {} returned 403 due to None\n"
     ]
    },
    {
     "name": "stdout",
     "output_type": "stream",
     "text": [
      "🔑 Auth error detected, attempting to refresh token...\n",
      "🔄 Refreshing authentication token...\n",
      "\n",
      "Processing chunk 77/1491 (10 tracks)\n"
     ]
    },
    {
     "name": "stderr",
     "output_type": "stream",
     "text": [
      "HTTP Error for GET to https://api.spotify.com/v1/audio-features/?ids=1Tc3kbOaPzpY8y9phWaVDx,69mZ06hahobeIarsYOGLDH,6ccRJ8sM78ILTBKPUukcc2,0LP2DlqqEH5Lo0ujWdHkUD,5UyUx6W9NU1b4W83cEIewG,0KAd1QSuVhtKnkhohkEjfv,5tgzWIiyaCda8TtMTOh2p5,3i3n58wUE4GqyWSiDOKwbO,2pw9RZWZibttZzoFhwjuy6,5yhKaacMZGRo4s6evJx9vk with Params: {} returned 403 due to None\n"
     ]
    },
    {
     "name": "stdout",
     "output_type": "stream",
     "text": [
      "🔑 Auth error detected, attempting to refresh token...\n",
      "🔄 Refreshing authentication token...\n",
      "\n",
      "Processing chunk 77/1491 (10 tracks)\n"
     ]
    },
    {
     "name": "stderr",
     "output_type": "stream",
     "text": [
      "HTTP Error for GET to https://api.spotify.com/v1/audio-features/?ids=1Tc3kbOaPzpY8y9phWaVDx,69mZ06hahobeIarsYOGLDH,6ccRJ8sM78ILTBKPUukcc2,0LP2DlqqEH5Lo0ujWdHkUD,5UyUx6W9NU1b4W83cEIewG,0KAd1QSuVhtKnkhohkEjfv,5tgzWIiyaCda8TtMTOh2p5,3i3n58wUE4GqyWSiDOKwbO,2pw9RZWZibttZzoFhwjuy6,5yhKaacMZGRo4s6evJx9vk with Params: {} returned 403 due to None\n"
     ]
    },
    {
     "name": "stdout",
     "output_type": "stream",
     "text": [
      "🔑 Auth error detected, attempting to refresh token...\n",
      "🔄 Refreshing authentication token...\n",
      "\n",
      "Processing chunk 78/1491 (10 tracks)\n"
     ]
    },
    {
     "name": "stderr",
     "output_type": "stream",
     "text": [
      "HTTP Error for GET to https://api.spotify.com/v1/audio-features/?ids=46WnlDeHXvTXqJ7vPFynXS,2y6a9mHMEbedBghZyPV28o,3bwAS8cN7Xtzvv5UurJOOX,1b6aotmVr8JEDbHXbXeLrR,1X6DSMEAjTuzt4BupIaIgI,3YIr4EqYRrOfzpa2aXYyGy,7jWRet3ALHmAIT04H5TmcU,5XennSN9tgLRZTdvhGTrBp,6PxC0ilHOSZGO6ASrktNv4,4z54skrC7Yflj26rsoRcwn with Params: {} returned 403 due to None\n"
     ]
    },
    {
     "name": "stdout",
     "output_type": "stream",
     "text": [
      "🔑 Auth error detected, attempting to refresh token...\n",
      "🔄 Refreshing authentication token...\n",
      "\n",
      "Processing chunk 78/1491 (10 tracks)\n"
     ]
    },
    {
     "name": "stderr",
     "output_type": "stream",
     "text": [
      "HTTP Error for GET to https://api.spotify.com/v1/audio-features/?ids=46WnlDeHXvTXqJ7vPFynXS,2y6a9mHMEbedBghZyPV28o,3bwAS8cN7Xtzvv5UurJOOX,1b6aotmVr8JEDbHXbXeLrR,1X6DSMEAjTuzt4BupIaIgI,3YIr4EqYRrOfzpa2aXYyGy,7jWRet3ALHmAIT04H5TmcU,5XennSN9tgLRZTdvhGTrBp,6PxC0ilHOSZGO6ASrktNv4,4z54skrC7Yflj26rsoRcwn with Params: {} returned 403 due to None\n"
     ]
    },
    {
     "name": "stdout",
     "output_type": "stream",
     "text": [
      "🔑 Auth error detected, attempting to refresh token...\n",
      "🔄 Refreshing authentication token...\n",
      "\n",
      "Processing chunk 78/1491 (10 tracks)\n"
     ]
    },
    {
     "name": "stderr",
     "output_type": "stream",
     "text": [
      "HTTP Error for GET to https://api.spotify.com/v1/audio-features/?ids=46WnlDeHXvTXqJ7vPFynXS,2y6a9mHMEbedBghZyPV28o,3bwAS8cN7Xtzvv5UurJOOX,1b6aotmVr8JEDbHXbXeLrR,1X6DSMEAjTuzt4BupIaIgI,3YIr4EqYRrOfzpa2aXYyGy,7jWRet3ALHmAIT04H5TmcU,5XennSN9tgLRZTdvhGTrBp,6PxC0ilHOSZGO6ASrktNv4,4z54skrC7Yflj26rsoRcwn with Params: {} returned 403 due to None\n"
     ]
    },
    {
     "name": "stdout",
     "output_type": "stream",
     "text": [
      "🔑 Auth error detected, attempting to refresh token...\n",
      "🔄 Refreshing authentication token...\n",
      "\n",
      "Processing chunk 79/1491 (10 tracks)\n"
     ]
    },
    {
     "name": "stderr",
     "output_type": "stream",
     "text": [
      "HTTP Error for GET to https://api.spotify.com/v1/audio-features/?ids=2SZsQ20ElZP6DdtV63uyhu,4FdPnT2cFrpWCmWZd7GXc3,2yQaMsKLGhgvCDu6Q8GmVk,6JEdOuC0lLchWSEiH6DRX2,3nAq2hCr1oWsIU54tS98pL,5jhfa76FhqtD3Boij6MAKS,67yIBPisMcaLRrX5nJ0xy1,2nvcTDmZkRWKNMAL29sLHo,3WGJvOuqKWBxoFDkPTEpFP,5fQ26JNVHBKWTLA51SxFJq with Params: {} returned 403 due to None\n"
     ]
    },
    {
     "name": "stdout",
     "output_type": "stream",
     "text": [
      "🔑 Auth error detected, attempting to refresh token...\n",
      "🔄 Refreshing authentication token...\n",
      "\n",
      "Processing chunk 79/1491 (10 tracks)\n"
     ]
    },
    {
     "name": "stderr",
     "output_type": "stream",
     "text": [
      "HTTP Error for GET to https://api.spotify.com/v1/audio-features/?ids=2SZsQ20ElZP6DdtV63uyhu,4FdPnT2cFrpWCmWZd7GXc3,2yQaMsKLGhgvCDu6Q8GmVk,6JEdOuC0lLchWSEiH6DRX2,3nAq2hCr1oWsIU54tS98pL,5jhfa76FhqtD3Boij6MAKS,67yIBPisMcaLRrX5nJ0xy1,2nvcTDmZkRWKNMAL29sLHo,3WGJvOuqKWBxoFDkPTEpFP,5fQ26JNVHBKWTLA51SxFJq with Params: {} returned 403 due to None\n"
     ]
    },
    {
     "name": "stdout",
     "output_type": "stream",
     "text": [
      "🔑 Auth error detected, attempting to refresh token...\n",
      "🔄 Refreshing authentication token...\n",
      "\n",
      "Processing chunk 79/1491 (10 tracks)\n"
     ]
    },
    {
     "name": "stderr",
     "output_type": "stream",
     "text": [
      "HTTP Error for GET to https://api.spotify.com/v1/audio-features/?ids=2SZsQ20ElZP6DdtV63uyhu,4FdPnT2cFrpWCmWZd7GXc3,2yQaMsKLGhgvCDu6Q8GmVk,6JEdOuC0lLchWSEiH6DRX2,3nAq2hCr1oWsIU54tS98pL,5jhfa76FhqtD3Boij6MAKS,67yIBPisMcaLRrX5nJ0xy1,2nvcTDmZkRWKNMAL29sLHo,3WGJvOuqKWBxoFDkPTEpFP,5fQ26JNVHBKWTLA51SxFJq with Params: {} returned 403 due to None\n"
     ]
    },
    {
     "name": "stdout",
     "output_type": "stream",
     "text": [
      "🔑 Auth error detected, attempting to refresh token...\n",
      "🔄 Refreshing authentication token...\n",
      "\n",
      "Processing chunk 80/1491 (10 tracks)\n"
     ]
    },
    {
     "name": "stderr",
     "output_type": "stream",
     "text": [
      "HTTP Error for GET to https://api.spotify.com/v1/audio-features/?ids=2KWltCg3zrBXqz6EXl7ZtN,67IoG9lldXHtQkxBLH2QR5,2ElUnAal2N1x2erKWClJ59,7kWK1UlhpUxIWPCuSSIqu0,0EKBV6GybPtALXUgWqWrym,3L7RqK0wfTfgRJbefYcKeM,5Q6gjCsfJBVc0Y5NYPt3QH,2YhahJi9TwcjwD7oyXf9Cb,2QssJhp5X69qKbGgTZRgyN,6ooluO7DiEhI1zmK94nRCM with Params: {} returned 403 due to None\n"
     ]
    },
    {
     "name": "stdout",
     "output_type": "stream",
     "text": [
      "🔑 Auth error detected, attempting to refresh token...\n",
      "🔄 Refreshing authentication token...\n",
      "\n",
      "Processing chunk 80/1491 (10 tracks)\n"
     ]
    },
    {
     "name": "stderr",
     "output_type": "stream",
     "text": [
      "HTTP Error for GET to https://api.spotify.com/v1/audio-features/?ids=2KWltCg3zrBXqz6EXl7ZtN,67IoG9lldXHtQkxBLH2QR5,2ElUnAal2N1x2erKWClJ59,7kWK1UlhpUxIWPCuSSIqu0,0EKBV6GybPtALXUgWqWrym,3L7RqK0wfTfgRJbefYcKeM,5Q6gjCsfJBVc0Y5NYPt3QH,2YhahJi9TwcjwD7oyXf9Cb,2QssJhp5X69qKbGgTZRgyN,6ooluO7DiEhI1zmK94nRCM with Params: {} returned 403 due to None\n"
     ]
    },
    {
     "name": "stdout",
     "output_type": "stream",
     "text": [
      "🔑 Auth error detected, attempting to refresh token...\n",
      "🔄 Refreshing authentication token...\n",
      "\n",
      "Processing chunk 80/1491 (10 tracks)\n"
     ]
    },
    {
     "name": "stderr",
     "output_type": "stream",
     "text": [
      "HTTP Error for GET to https://api.spotify.com/v1/audio-features/?ids=2KWltCg3zrBXqz6EXl7ZtN,67IoG9lldXHtQkxBLH2QR5,2ElUnAal2N1x2erKWClJ59,7kWK1UlhpUxIWPCuSSIqu0,0EKBV6GybPtALXUgWqWrym,3L7RqK0wfTfgRJbefYcKeM,5Q6gjCsfJBVc0Y5NYPt3QH,2YhahJi9TwcjwD7oyXf9Cb,2QssJhp5X69qKbGgTZRgyN,6ooluO7DiEhI1zmK94nRCM with Params: {} returned 403 due to None\n"
     ]
    },
    {
     "name": "stdout",
     "output_type": "stream",
     "text": [
      "🔑 Auth error detected, attempting to refresh token...\n",
      "🔄 Refreshing authentication token...\n",
      "\n",
      "Processing chunk 81/1491 (10 tracks)\n"
     ]
    },
    {
     "name": "stderr",
     "output_type": "stream",
     "text": [
      "HTTP Error for GET to https://api.spotify.com/v1/audio-features/?ids=2jQsFieQz28UQEAtcNr9v6,2z9FUHRkbkV4BObNzbHsFU,07XBPwrDPow99xbvq6cQe5,2Dy9bSUlnypC8Rm5O1iTOZ,1iMsM1PfB4xgNMwi0tRUFz,1l1YTy9nJ0trwhsCGcimly,3PglH1VqDsbBk8m4zTVNZK,5SrnKN9CdGLLHIOUQMHNod,3qRg9Jgjms87DWe9ZYOI2X,1ru5R5iSawvuMELqKXxLjS with Params: {} returned 403 due to None\n"
     ]
    },
    {
     "name": "stdout",
     "output_type": "stream",
     "text": [
      "🔑 Auth error detected, attempting to refresh token...\n",
      "🔄 Refreshing authentication token...\n",
      "\n",
      "Processing chunk 81/1491 (10 tracks)\n"
     ]
    },
    {
     "name": "stderr",
     "output_type": "stream",
     "text": [
      "HTTP Error for GET to https://api.spotify.com/v1/audio-features/?ids=2jQsFieQz28UQEAtcNr9v6,2z9FUHRkbkV4BObNzbHsFU,07XBPwrDPow99xbvq6cQe5,2Dy9bSUlnypC8Rm5O1iTOZ,1iMsM1PfB4xgNMwi0tRUFz,1l1YTy9nJ0trwhsCGcimly,3PglH1VqDsbBk8m4zTVNZK,5SrnKN9CdGLLHIOUQMHNod,3qRg9Jgjms87DWe9ZYOI2X,1ru5R5iSawvuMELqKXxLjS with Params: {} returned 403 due to None\n"
     ]
    },
    {
     "name": "stdout",
     "output_type": "stream",
     "text": [
      "🔑 Auth error detected, attempting to refresh token...\n",
      "🔄 Refreshing authentication token...\n",
      "\n",
      "Processing chunk 81/1491 (10 tracks)\n"
     ]
    },
    {
     "name": "stderr",
     "output_type": "stream",
     "text": [
      "HTTP Error for GET to https://api.spotify.com/v1/audio-features/?ids=2jQsFieQz28UQEAtcNr9v6,2z9FUHRkbkV4BObNzbHsFU,07XBPwrDPow99xbvq6cQe5,2Dy9bSUlnypC8Rm5O1iTOZ,1iMsM1PfB4xgNMwi0tRUFz,1l1YTy9nJ0trwhsCGcimly,3PglH1VqDsbBk8m4zTVNZK,5SrnKN9CdGLLHIOUQMHNod,3qRg9Jgjms87DWe9ZYOI2X,1ru5R5iSawvuMELqKXxLjS with Params: {} returned 403 due to None\n"
     ]
    },
    {
     "name": "stdout",
     "output_type": "stream",
     "text": [
      "🔑 Auth error detected, attempting to refresh token...\n",
      "🔄 Refreshing authentication token...\n",
      "\n",
      "Processing chunk 82/1491 (10 tracks)\n"
     ]
    },
    {
     "name": "stderr",
     "output_type": "stream",
     "text": [
      "HTTP Error for GET to https://api.spotify.com/v1/audio-features/?ids=4cWFAeehR51RfJWP5ALlGg,1lATXTBJDHwawvT1UfxWu3,7a5Ijp1qCemEsgemQOSHJM,6f5TuB9WtbA1g49A4DcMQ4,1jaFMB5mBaFPGyX7YMbxlJ,0wovagMoJqtU8LUvDQnewu,2nY3L0Sx98Q93lAQe8iZga,0wESZs7gN7TvfDbVP0w3Aw,3fqwjXwUGN6vbzIwvyFMhx,6xUZWM8QzMkAHV7Vt37pX3 with Params: {} returned 403 due to None\n"
     ]
    },
    {
     "name": "stdout",
     "output_type": "stream",
     "text": [
      "🔑 Auth error detected, attempting to refresh token...\n",
      "🔄 Refreshing authentication token...\n",
      "\n",
      "Processing chunk 82/1491 (10 tracks)\n"
     ]
    },
    {
     "name": "stderr",
     "output_type": "stream",
     "text": [
      "HTTP Error for GET to https://api.spotify.com/v1/audio-features/?ids=4cWFAeehR51RfJWP5ALlGg,1lATXTBJDHwawvT1UfxWu3,7a5Ijp1qCemEsgemQOSHJM,6f5TuB9WtbA1g49A4DcMQ4,1jaFMB5mBaFPGyX7YMbxlJ,0wovagMoJqtU8LUvDQnewu,2nY3L0Sx98Q93lAQe8iZga,0wESZs7gN7TvfDbVP0w3Aw,3fqwjXwUGN6vbzIwvyFMhx,6xUZWM8QzMkAHV7Vt37pX3 with Params: {} returned 403 due to None\n"
     ]
    },
    {
     "name": "stdout",
     "output_type": "stream",
     "text": [
      "🔑 Auth error detected, attempting to refresh token...\n",
      "🔄 Refreshing authentication token...\n",
      "\n",
      "Processing chunk 82/1491 (10 tracks)\n"
     ]
    },
    {
     "name": "stderr",
     "output_type": "stream",
     "text": [
      "HTTP Error for GET to https://api.spotify.com/v1/audio-features/?ids=4cWFAeehR51RfJWP5ALlGg,1lATXTBJDHwawvT1UfxWu3,7a5Ijp1qCemEsgemQOSHJM,6f5TuB9WtbA1g49A4DcMQ4,1jaFMB5mBaFPGyX7YMbxlJ,0wovagMoJqtU8LUvDQnewu,2nY3L0Sx98Q93lAQe8iZga,0wESZs7gN7TvfDbVP0w3Aw,3fqwjXwUGN6vbzIwvyFMhx,6xUZWM8QzMkAHV7Vt37pX3 with Params: {} returned 403 due to None\n"
     ]
    },
    {
     "name": "stdout",
     "output_type": "stream",
     "text": [
      "🔑 Auth error detected, attempting to refresh token...\n",
      "🔄 Refreshing authentication token...\n",
      "\n",
      "Processing chunk 83/1491 (10 tracks)\n"
     ]
    },
    {
     "name": "stderr",
     "output_type": "stream",
     "text": [
      "HTTP Error for GET to https://api.spotify.com/v1/audio-features/?ids=3TZ7x7jK7TQpqW5gfVSPEr,0AXpsMuS8CHL8LhvtuJp2K,7BpNhnkh2lQNgUYroxgx6z,4eoI2JWs6BS2twv1kkF5Zh,0IyP6xAOqutVmwYP2Xw9jP,0UK7DXShS5HH7AzXPyR0IT,4JK0LdWoyhiB5G7apVUVGE,6rkV9hz91Rr5iHnMRPZdEQ,4rlWtsOCfxD8u1aCbbaHHp,7m86xBkIzjSNxbaqA0rIcJ with Params: {} returned 403 due to None\n"
     ]
    },
    {
     "name": "stdout",
     "output_type": "stream",
     "text": [
      "🔑 Auth error detected, attempting to refresh token...\n",
      "🔄 Refreshing authentication token...\n",
      "\n",
      "Processing chunk 83/1491 (10 tracks)\n"
     ]
    },
    {
     "name": "stderr",
     "output_type": "stream",
     "text": [
      "HTTP Error for GET to https://api.spotify.com/v1/audio-features/?ids=3TZ7x7jK7TQpqW5gfVSPEr,0AXpsMuS8CHL8LhvtuJp2K,7BpNhnkh2lQNgUYroxgx6z,4eoI2JWs6BS2twv1kkF5Zh,0IyP6xAOqutVmwYP2Xw9jP,0UK7DXShS5HH7AzXPyR0IT,4JK0LdWoyhiB5G7apVUVGE,6rkV9hz91Rr5iHnMRPZdEQ,4rlWtsOCfxD8u1aCbbaHHp,7m86xBkIzjSNxbaqA0rIcJ with Params: {} returned 403 due to None\n"
     ]
    },
    {
     "name": "stdout",
     "output_type": "stream",
     "text": [
      "🔑 Auth error detected, attempting to refresh token...\n",
      "🔄 Refreshing authentication token...\n",
      "\n",
      "Processing chunk 83/1491 (10 tracks)\n"
     ]
    },
    {
     "name": "stderr",
     "output_type": "stream",
     "text": [
      "HTTP Error for GET to https://api.spotify.com/v1/audio-features/?ids=3TZ7x7jK7TQpqW5gfVSPEr,0AXpsMuS8CHL8LhvtuJp2K,7BpNhnkh2lQNgUYroxgx6z,4eoI2JWs6BS2twv1kkF5Zh,0IyP6xAOqutVmwYP2Xw9jP,0UK7DXShS5HH7AzXPyR0IT,4JK0LdWoyhiB5G7apVUVGE,6rkV9hz91Rr5iHnMRPZdEQ,4rlWtsOCfxD8u1aCbbaHHp,7m86xBkIzjSNxbaqA0rIcJ with Params: {} returned 403 due to None\n"
     ]
    },
    {
     "name": "stdout",
     "output_type": "stream",
     "text": [
      "🔑 Auth error detected, attempting to refresh token...\n",
      "🔄 Refreshing authentication token...\n",
      "\n",
      "Processing chunk 84/1491 (10 tracks)\n"
     ]
    },
    {
     "name": "stderr",
     "output_type": "stream",
     "text": [
      "HTTP Error for GET to https://api.spotify.com/v1/audio-features/?ids=3o9kpgkIcffx0iSwxhuNI2,1SedJ3dLWoCqnPIGeEMUJH,12OLyHDxt6dqlAybSPFBK3,41Ryw21R4uvVTSPhr1et7E,1QNoq8VTijLPuVXqGAkMAp,5bitd1CYhk9WqQHjInCjGg,02dRkCEc8Q5ch4TTcnLxOn,2Ff4nM7BNemrtF0CfSOMh9,7rOLhbPgZtlghYVXmKRDgh,2LfXcNNSamjYWXwPWLjdvw with Params: {} returned 403 due to None\n"
     ]
    },
    {
     "name": "stdout",
     "output_type": "stream",
     "text": [
      "🔑 Auth error detected, attempting to refresh token...\n",
      "🔄 Refreshing authentication token...\n",
      "\n",
      "Processing chunk 84/1491 (10 tracks)\n"
     ]
    },
    {
     "name": "stderr",
     "output_type": "stream",
     "text": [
      "HTTP Error for GET to https://api.spotify.com/v1/audio-features/?ids=3o9kpgkIcffx0iSwxhuNI2,1SedJ3dLWoCqnPIGeEMUJH,12OLyHDxt6dqlAybSPFBK3,41Ryw21R4uvVTSPhr1et7E,1QNoq8VTijLPuVXqGAkMAp,5bitd1CYhk9WqQHjInCjGg,02dRkCEc8Q5ch4TTcnLxOn,2Ff4nM7BNemrtF0CfSOMh9,7rOLhbPgZtlghYVXmKRDgh,2LfXcNNSamjYWXwPWLjdvw with Params: {} returned 403 due to None\n"
     ]
    },
    {
     "name": "stdout",
     "output_type": "stream",
     "text": [
      "🔑 Auth error detected, attempting to refresh token...\n",
      "🔄 Refreshing authentication token...\n",
      "\n",
      "Processing chunk 84/1491 (10 tracks)\n"
     ]
    },
    {
     "name": "stderr",
     "output_type": "stream",
     "text": [
      "HTTP Error for GET to https://api.spotify.com/v1/audio-features/?ids=3o9kpgkIcffx0iSwxhuNI2,1SedJ3dLWoCqnPIGeEMUJH,12OLyHDxt6dqlAybSPFBK3,41Ryw21R4uvVTSPhr1et7E,1QNoq8VTijLPuVXqGAkMAp,5bitd1CYhk9WqQHjInCjGg,02dRkCEc8Q5ch4TTcnLxOn,2Ff4nM7BNemrtF0CfSOMh9,7rOLhbPgZtlghYVXmKRDgh,2LfXcNNSamjYWXwPWLjdvw with Params: {} returned 403 due to None\n"
     ]
    },
    {
     "name": "stdout",
     "output_type": "stream",
     "text": [
      "🔑 Auth error detected, attempting to refresh token...\n",
      "🔄 Refreshing authentication token...\n",
      "\n",
      "Processing chunk 85/1491 (10 tracks)\n"
     ]
    },
    {
     "name": "stderr",
     "output_type": "stream",
     "text": [
      "HTTP Error for GET to https://api.spotify.com/v1/audio-features/?ids=2ASuuiVsmKssdkeeNkgCKv,2PWTZV5znjLtZC5T1EVJvL,3YuaBvuZqcwN3CEAyyoaei,2mWfVxEo4xZYDaz0v7hYrN,5hmFCAGb6RJ4CuJIe6y69M,3KyDvRT8RdsBcRkvKmy4M2,5RyfLDKQrEqAuSnVjWjeZX,0UW3PzFqmfDW3sAqLwC8PY,64RQTM5ih8kx5rl8fxbRVv,27cfePayDFREaR60hmxDAU with Params: {} returned 403 due to None\n"
     ]
    },
    {
     "name": "stdout",
     "output_type": "stream",
     "text": [
      "🔑 Auth error detected, attempting to refresh token...\n",
      "🔄 Refreshing authentication token...\n",
      "\n",
      "Processing chunk 85/1491 (10 tracks)\n"
     ]
    },
    {
     "name": "stderr",
     "output_type": "stream",
     "text": [
      "HTTP Error for GET to https://api.spotify.com/v1/audio-features/?ids=2ASuuiVsmKssdkeeNkgCKv,2PWTZV5znjLtZC5T1EVJvL,3YuaBvuZqcwN3CEAyyoaei,2mWfVxEo4xZYDaz0v7hYrN,5hmFCAGb6RJ4CuJIe6y69M,3KyDvRT8RdsBcRkvKmy4M2,5RyfLDKQrEqAuSnVjWjeZX,0UW3PzFqmfDW3sAqLwC8PY,64RQTM5ih8kx5rl8fxbRVv,27cfePayDFREaR60hmxDAU with Params: {} returned 403 due to None\n"
     ]
    },
    {
     "name": "stdout",
     "output_type": "stream",
     "text": [
      "🔑 Auth error detected, attempting to refresh token...\n",
      "🔄 Refreshing authentication token...\n",
      "\n",
      "Processing chunk 85/1491 (10 tracks)\n"
     ]
    },
    {
     "name": "stderr",
     "output_type": "stream",
     "text": [
      "HTTP Error for GET to https://api.spotify.com/v1/audio-features/?ids=2ASuuiVsmKssdkeeNkgCKv,2PWTZV5znjLtZC5T1EVJvL,3YuaBvuZqcwN3CEAyyoaei,2mWfVxEo4xZYDaz0v7hYrN,5hmFCAGb6RJ4CuJIe6y69M,3KyDvRT8RdsBcRkvKmy4M2,5RyfLDKQrEqAuSnVjWjeZX,0UW3PzFqmfDW3sAqLwC8PY,64RQTM5ih8kx5rl8fxbRVv,27cfePayDFREaR60hmxDAU with Params: {} returned 403 due to None\n"
     ]
    },
    {
     "name": "stdout",
     "output_type": "stream",
     "text": [
      "🔑 Auth error detected, attempting to refresh token...\n",
      "🔄 Refreshing authentication token...\n",
      "\n",
      "Processing chunk 86/1491 (10 tracks)\n"
     ]
    },
    {
     "name": "stderr",
     "output_type": "stream",
     "text": [
      "HTTP Error for GET to https://api.spotify.com/v1/audio-features/?ids=6HGeGpX7CdFF8V4mGDUpQC,1coJyHa37lJth2vLTOa3qF,00fPIgiAELDiIXgaAVZqFd,2RDXq7AwoEpvrjsXe4zlUc,1afuWNfZCQQUgvYPY4js9y,5p9XWUdvbUzmPCukOmwoU3,5fMr36NRNyeAVW4x5yy9wD,0md3Tu6vtt94YsCctOZylL,1n9lGvOA1TKBvwVQ4tpB2o,6bCSPXuS63KkrDspqLg9Jk with Params: {} returned 403 due to None\n"
     ]
    },
    {
     "name": "stdout",
     "output_type": "stream",
     "text": [
      "🔑 Auth error detected, attempting to refresh token...\n",
      "🔄 Refreshing authentication token...\n",
      "\n",
      "Processing chunk 86/1491 (10 tracks)\n"
     ]
    },
    {
     "name": "stderr",
     "output_type": "stream",
     "text": [
      "HTTP Error for GET to https://api.spotify.com/v1/audio-features/?ids=6HGeGpX7CdFF8V4mGDUpQC,1coJyHa37lJth2vLTOa3qF,00fPIgiAELDiIXgaAVZqFd,2RDXq7AwoEpvrjsXe4zlUc,1afuWNfZCQQUgvYPY4js9y,5p9XWUdvbUzmPCukOmwoU3,5fMr36NRNyeAVW4x5yy9wD,0md3Tu6vtt94YsCctOZylL,1n9lGvOA1TKBvwVQ4tpB2o,6bCSPXuS63KkrDspqLg9Jk with Params: {} returned 403 due to None\n"
     ]
    },
    {
     "name": "stdout",
     "output_type": "stream",
     "text": [
      "🔑 Auth error detected, attempting to refresh token...\n",
      "🔄 Refreshing authentication token...\n",
      "\n",
      "Processing chunk 86/1491 (10 tracks)\n"
     ]
    },
    {
     "name": "stderr",
     "output_type": "stream",
     "text": [
      "HTTP Error for GET to https://api.spotify.com/v1/audio-features/?ids=6HGeGpX7CdFF8V4mGDUpQC,1coJyHa37lJth2vLTOa3qF,00fPIgiAELDiIXgaAVZqFd,2RDXq7AwoEpvrjsXe4zlUc,1afuWNfZCQQUgvYPY4js9y,5p9XWUdvbUzmPCukOmwoU3,5fMr36NRNyeAVW4x5yy9wD,0md3Tu6vtt94YsCctOZylL,1n9lGvOA1TKBvwVQ4tpB2o,6bCSPXuS63KkrDspqLg9Jk with Params: {} returned 403 due to None\n"
     ]
    },
    {
     "name": "stdout",
     "output_type": "stream",
     "text": [
      "🔑 Auth error detected, attempting to refresh token...\n",
      "🔄 Refreshing authentication token...\n",
      "\n",
      "Processing chunk 87/1491 (10 tracks)\n"
     ]
    },
    {
     "name": "stderr",
     "output_type": "stream",
     "text": [
      "HTTP Error for GET to https://api.spotify.com/v1/audio-features/?ids=153v6Ll0ijrW1giY9ca4o0,1IHCc9Gu619Fe0vSjk1pke,5JEx7HbmvHQQswJCsoo9rA,1bDrze1S7B7YRjeM8ylp1T,1ayRJ4dlr48VJ3FK6uPq2i,3XBmHEje5kQkodwziseIEk,5nydh0uIcz9gxSoJY6FtTn,7xarAhdvulacWI8ERb5EaX,5GSuij2AoenA8VWzGsKWt5,5k1SGe1Lgj7B5GnCGCYl1H with Params: {} returned 403 due to None\n"
     ]
    },
    {
     "name": "stdout",
     "output_type": "stream",
     "text": [
      "🔑 Auth error detected, attempting to refresh token...\n",
      "🔄 Refreshing authentication token...\n",
      "\n",
      "Processing chunk 87/1491 (10 tracks)\n"
     ]
    },
    {
     "name": "stderr",
     "output_type": "stream",
     "text": [
      "HTTP Error for GET to https://api.spotify.com/v1/audio-features/?ids=153v6Ll0ijrW1giY9ca4o0,1IHCc9Gu619Fe0vSjk1pke,5JEx7HbmvHQQswJCsoo9rA,1bDrze1S7B7YRjeM8ylp1T,1ayRJ4dlr48VJ3FK6uPq2i,3XBmHEje5kQkodwziseIEk,5nydh0uIcz9gxSoJY6FtTn,7xarAhdvulacWI8ERb5EaX,5GSuij2AoenA8VWzGsKWt5,5k1SGe1Lgj7B5GnCGCYl1H with Params: {} returned 403 due to None\n"
     ]
    },
    {
     "name": "stdout",
     "output_type": "stream",
     "text": [
      "🔑 Auth error detected, attempting to refresh token...\n",
      "🔄 Refreshing authentication token...\n",
      "\n",
      "Processing chunk 87/1491 (10 tracks)\n"
     ]
    },
    {
     "name": "stderr",
     "output_type": "stream",
     "text": [
      "HTTP Error for GET to https://api.spotify.com/v1/audio-features/?ids=153v6Ll0ijrW1giY9ca4o0,1IHCc9Gu619Fe0vSjk1pke,5JEx7HbmvHQQswJCsoo9rA,1bDrze1S7B7YRjeM8ylp1T,1ayRJ4dlr48VJ3FK6uPq2i,3XBmHEje5kQkodwziseIEk,5nydh0uIcz9gxSoJY6FtTn,7xarAhdvulacWI8ERb5EaX,5GSuij2AoenA8VWzGsKWt5,5k1SGe1Lgj7B5GnCGCYl1H with Params: {} returned 403 due to None\n"
     ]
    },
    {
     "name": "stdout",
     "output_type": "stream",
     "text": [
      "🔑 Auth error detected, attempting to refresh token...\n",
      "🔄 Refreshing authentication token...\n",
      "\n",
      "Processing chunk 88/1491 (10 tracks)\n"
     ]
    },
    {
     "name": "stderr",
     "output_type": "stream",
     "text": [
      "HTTP Error for GET to https://api.spotify.com/v1/audio-features/?ids=03ZwNF6FTvazNuOXNQf8k8,4l0Mvzj72xxOpRrp6h8nHi,0zMzyHAeMvwq5CRstru1Fp,2OK8gN4OGfHg4K0fwTyq7A,5KwEL8gNBaNvDAijRhUZLX,4o4wEDRqotccDTXiQ7TORu,5ZattFROHht6ZARYqfyi2f,0TqPABmL9kHACwfeLPP7sh,0zATuSJJ24jAYuM5o4FtzA,2y7deqG55Bde0gZ9g2kIN2 with Params: {} returned 403 due to None\n"
     ]
    },
    {
     "name": "stdout",
     "output_type": "stream",
     "text": [
      "🔑 Auth error detected, attempting to refresh token...\n",
      "🔄 Refreshing authentication token...\n",
      "\n",
      "Processing chunk 88/1491 (10 tracks)\n"
     ]
    },
    {
     "name": "stderr",
     "output_type": "stream",
     "text": [
      "HTTP Error for GET to https://api.spotify.com/v1/audio-features/?ids=03ZwNF6FTvazNuOXNQf8k8,4l0Mvzj72xxOpRrp6h8nHi,0zMzyHAeMvwq5CRstru1Fp,2OK8gN4OGfHg4K0fwTyq7A,5KwEL8gNBaNvDAijRhUZLX,4o4wEDRqotccDTXiQ7TORu,5ZattFROHht6ZARYqfyi2f,0TqPABmL9kHACwfeLPP7sh,0zATuSJJ24jAYuM5o4FtzA,2y7deqG55Bde0gZ9g2kIN2 with Params: {} returned 403 due to None\n"
     ]
    },
    {
     "name": "stdout",
     "output_type": "stream",
     "text": [
      "🔑 Auth error detected, attempting to refresh token...\n",
      "🔄 Refreshing authentication token...\n",
      "\n",
      "Processing chunk 88/1491 (10 tracks)\n"
     ]
    },
    {
     "name": "stderr",
     "output_type": "stream",
     "text": [
      "HTTP Error for GET to https://api.spotify.com/v1/audio-features/?ids=03ZwNF6FTvazNuOXNQf8k8,4l0Mvzj72xxOpRrp6h8nHi,0zMzyHAeMvwq5CRstru1Fp,2OK8gN4OGfHg4K0fwTyq7A,5KwEL8gNBaNvDAijRhUZLX,4o4wEDRqotccDTXiQ7TORu,5ZattFROHht6ZARYqfyi2f,0TqPABmL9kHACwfeLPP7sh,0zATuSJJ24jAYuM5o4FtzA,2y7deqG55Bde0gZ9g2kIN2 with Params: {} returned 403 due to None\n"
     ]
    },
    {
     "name": "stdout",
     "output_type": "stream",
     "text": [
      "🔑 Auth error detected, attempting to refresh token...\n",
      "🔄 Refreshing authentication token...\n",
      "\n",
      "Processing chunk 89/1491 (10 tracks)\n"
     ]
    },
    {
     "name": "stderr",
     "output_type": "stream",
     "text": [
      "HTTP Error for GET to https://api.spotify.com/v1/audio-features/?ids=4k05TOLz8fLknRnEXeAwAC,7HloAcybLs5sdwUl4sQf1G,3Oqm0PeLQc3QR1ahRvdI2k,7AEfSFZ0eyK7FwytDG5pbf,4RFpLjzCi9LZUIZypSEjX6,7JZeNVsH4se3CCfmwcxhFY,6RrxpL1QOgTCtQZ5XvfVEa,1yvMUkIOTeUNtNWlWRgANS,6Vh03bkEfXqekWp7Y1UBRb,1VfgWgELCIpe9pB3cLuDnJ with Params: {} returned 403 due to None\n"
     ]
    },
    {
     "name": "stdout",
     "output_type": "stream",
     "text": [
      "🔑 Auth error detected, attempting to refresh token...\n",
      "🔄 Refreshing authentication token...\n",
      "\n",
      "Processing chunk 89/1491 (10 tracks)\n"
     ]
    },
    {
     "name": "stderr",
     "output_type": "stream",
     "text": [
      "HTTP Error for GET to https://api.spotify.com/v1/audio-features/?ids=4k05TOLz8fLknRnEXeAwAC,7HloAcybLs5sdwUl4sQf1G,3Oqm0PeLQc3QR1ahRvdI2k,7AEfSFZ0eyK7FwytDG5pbf,4RFpLjzCi9LZUIZypSEjX6,7JZeNVsH4se3CCfmwcxhFY,6RrxpL1QOgTCtQZ5XvfVEa,1yvMUkIOTeUNtNWlWRgANS,6Vh03bkEfXqekWp7Y1UBRb,1VfgWgELCIpe9pB3cLuDnJ with Params: {} returned 403 due to None\n"
     ]
    },
    {
     "name": "stdout",
     "output_type": "stream",
     "text": [
      "🔑 Auth error detected, attempting to refresh token...\n",
      "🔄 Refreshing authentication token...\n",
      "\n",
      "Processing chunk 89/1491 (10 tracks)\n"
     ]
    },
    {
     "name": "stderr",
     "output_type": "stream",
     "text": [
      "HTTP Error for GET to https://api.spotify.com/v1/audio-features/?ids=4k05TOLz8fLknRnEXeAwAC,7HloAcybLs5sdwUl4sQf1G,3Oqm0PeLQc3QR1ahRvdI2k,7AEfSFZ0eyK7FwytDG5pbf,4RFpLjzCi9LZUIZypSEjX6,7JZeNVsH4se3CCfmwcxhFY,6RrxpL1QOgTCtQZ5XvfVEa,1yvMUkIOTeUNtNWlWRgANS,6Vh03bkEfXqekWp7Y1UBRb,1VfgWgELCIpe9pB3cLuDnJ with Params: {} returned 403 due to None\n"
     ]
    },
    {
     "name": "stdout",
     "output_type": "stream",
     "text": [
      "🔑 Auth error detected, attempting to refresh token...\n",
      "🔄 Refreshing authentication token...\n",
      "\n",
      "Processing chunk 90/1491 (10 tracks)\n"
     ]
    },
    {
     "name": "stderr",
     "output_type": "stream",
     "text": [
      "HTTP Error for GET to https://api.spotify.com/v1/audio-features/?ids=7GRNN2EnF3gNRwUQc7SCbe,15WhzjeOMu6K2mQW1Z5meR,4gwltSjdrzKtKz9dlk2Wja,6WajdruShehXtcPIhlT5jP,3dQWpxHpCpvdq6yBKmPhd8,41m4p37Zi7C2boLAIn5unw,0C04ICYx1BXtWqFEWyl2ge,6hZed6rxrTlH2Lh07RLn6k,4taHS4QhZj5gAvPrZKBgRG,3nnvMbieuZH3L3caIRdpjk with Params: {} returned 403 due to None\n"
     ]
    },
    {
     "name": "stdout",
     "output_type": "stream",
     "text": [
      "🔑 Auth error detected, attempting to refresh token...\n",
      "🔄 Refreshing authentication token...\n",
      "\n",
      "Processing chunk 90/1491 (10 tracks)\n"
     ]
    },
    {
     "name": "stderr",
     "output_type": "stream",
     "text": [
      "HTTP Error for GET to https://api.spotify.com/v1/audio-features/?ids=7GRNN2EnF3gNRwUQc7SCbe,15WhzjeOMu6K2mQW1Z5meR,4gwltSjdrzKtKz9dlk2Wja,6WajdruShehXtcPIhlT5jP,3dQWpxHpCpvdq6yBKmPhd8,41m4p37Zi7C2boLAIn5unw,0C04ICYx1BXtWqFEWyl2ge,6hZed6rxrTlH2Lh07RLn6k,4taHS4QhZj5gAvPrZKBgRG,3nnvMbieuZH3L3caIRdpjk with Params: {} returned 403 due to None\n"
     ]
    },
    {
     "name": "stdout",
     "output_type": "stream",
     "text": [
      "🔑 Auth error detected, attempting to refresh token...\n",
      "🔄 Refreshing authentication token...\n",
      "\n",
      "Processing chunk 90/1491 (10 tracks)\n"
     ]
    },
    {
     "name": "stderr",
     "output_type": "stream",
     "text": [
      "HTTP Error for GET to https://api.spotify.com/v1/audio-features/?ids=7GRNN2EnF3gNRwUQc7SCbe,15WhzjeOMu6K2mQW1Z5meR,4gwltSjdrzKtKz9dlk2Wja,6WajdruShehXtcPIhlT5jP,3dQWpxHpCpvdq6yBKmPhd8,41m4p37Zi7C2boLAIn5unw,0C04ICYx1BXtWqFEWyl2ge,6hZed6rxrTlH2Lh07RLn6k,4taHS4QhZj5gAvPrZKBgRG,3nnvMbieuZH3L3caIRdpjk with Params: {} returned 403 due to None\n"
     ]
    },
    {
     "name": "stdout",
     "output_type": "stream",
     "text": [
      "🔑 Auth error detected, attempting to refresh token...\n",
      "🔄 Refreshing authentication token...\n",
      "\n",
      "Processing chunk 91/1491 (10 tracks)\n"
     ]
    },
    {
     "name": "stderr",
     "output_type": "stream",
     "text": [
      "HTTP Error for GET to https://api.spotify.com/v1/audio-features/?ids=0E6uyODpOAlw4cagbeCFbx,62yx36wa760scTjaap524X,3TY2ImuWNDL7RgoebePIqp,3fonAuTvuI5KMcmnueLAPq,5KkBnDzPTs9D2sw4kHDwnO,5LHxWrzOL9fDhRk0kn0ZXX,1ATITvtoGL6XIc6FNSbYiD,6AAVbgXgE8lHZ89ObmwXZc,1IcaQnsDtI6j8IzUsO8M6p,4fmKPdLwdQZLsEnRGAJ2n6 with Params: {} returned 403 due to None\n"
     ]
    },
    {
     "name": "stdout",
     "output_type": "stream",
     "text": [
      "🔑 Auth error detected, attempting to refresh token...\n",
      "🔄 Refreshing authentication token...\n",
      "\n",
      "Processing chunk 91/1491 (10 tracks)\n"
     ]
    },
    {
     "name": "stderr",
     "output_type": "stream",
     "text": [
      "HTTP Error for GET to https://api.spotify.com/v1/audio-features/?ids=0E6uyODpOAlw4cagbeCFbx,62yx36wa760scTjaap524X,3TY2ImuWNDL7RgoebePIqp,3fonAuTvuI5KMcmnueLAPq,5KkBnDzPTs9D2sw4kHDwnO,5LHxWrzOL9fDhRk0kn0ZXX,1ATITvtoGL6XIc6FNSbYiD,6AAVbgXgE8lHZ89ObmwXZc,1IcaQnsDtI6j8IzUsO8M6p,4fmKPdLwdQZLsEnRGAJ2n6 with Params: {} returned 403 due to None\n"
     ]
    },
    {
     "name": "stdout",
     "output_type": "stream",
     "text": [
      "🔑 Auth error detected, attempting to refresh token...\n",
      "🔄 Refreshing authentication token...\n",
      "\n",
      "Processing chunk 91/1491 (10 tracks)\n"
     ]
    },
    {
     "name": "stderr",
     "output_type": "stream",
     "text": [
      "HTTP Error for GET to https://api.spotify.com/v1/audio-features/?ids=0E6uyODpOAlw4cagbeCFbx,62yx36wa760scTjaap524X,3TY2ImuWNDL7RgoebePIqp,3fonAuTvuI5KMcmnueLAPq,5KkBnDzPTs9D2sw4kHDwnO,5LHxWrzOL9fDhRk0kn0ZXX,1ATITvtoGL6XIc6FNSbYiD,6AAVbgXgE8lHZ89ObmwXZc,1IcaQnsDtI6j8IzUsO8M6p,4fmKPdLwdQZLsEnRGAJ2n6 with Params: {} returned 403 due to None\n"
     ]
    },
    {
     "name": "stdout",
     "output_type": "stream",
     "text": [
      "🔑 Auth error detected, attempting to refresh token...\n",
      "🔄 Refreshing authentication token...\n",
      "\n",
      "Processing chunk 92/1491 (10 tracks)\n"
     ]
    },
    {
     "name": "stderr",
     "output_type": "stream",
     "text": [
      "HTTP Error for GET to https://api.spotify.com/v1/audio-features/?ids=75FLvcJzmHOwDUV9C8d7bp,55fvJBCgu37c6HxuEc5pbi,2vfCSwToh0Am0O4zgHXfn7,2xYGC05S9q0TpIUMGmge86,4aeNplk17LOYkpcWLplHbz,1xKUoIR6vVW1E2ycxk41kS,3Vr3zh0r7ALn8VLqCiRR10,2TeEhtmhMQmUyQJhnJNvAs,0Zzr3li70oEAAjAMHVQcrn,0OJSpc2sAMum8ar38fD0d6 with Params: {} returned 403 due to None\n"
     ]
    },
    {
     "name": "stdout",
     "output_type": "stream",
     "text": [
      "🔑 Auth error detected, attempting to refresh token...\n",
      "🔄 Refreshing authentication token...\n",
      "\n",
      "Processing chunk 92/1491 (10 tracks)\n"
     ]
    },
    {
     "name": "stderr",
     "output_type": "stream",
     "text": [
      "HTTP Error for GET to https://api.spotify.com/v1/audio-features/?ids=75FLvcJzmHOwDUV9C8d7bp,55fvJBCgu37c6HxuEc5pbi,2vfCSwToh0Am0O4zgHXfn7,2xYGC05S9q0TpIUMGmge86,4aeNplk17LOYkpcWLplHbz,1xKUoIR6vVW1E2ycxk41kS,3Vr3zh0r7ALn8VLqCiRR10,2TeEhtmhMQmUyQJhnJNvAs,0Zzr3li70oEAAjAMHVQcrn,0OJSpc2sAMum8ar38fD0d6 with Params: {} returned 403 due to None\n"
     ]
    },
    {
     "name": "stdout",
     "output_type": "stream",
     "text": [
      "🔑 Auth error detected, attempting to refresh token...\n",
      "🔄 Refreshing authentication token...\n",
      "\n",
      "Processing chunk 92/1491 (10 tracks)\n"
     ]
    },
    {
     "name": "stderr",
     "output_type": "stream",
     "text": [
      "HTTP Error for GET to https://api.spotify.com/v1/audio-features/?ids=75FLvcJzmHOwDUV9C8d7bp,55fvJBCgu37c6HxuEc5pbi,2vfCSwToh0Am0O4zgHXfn7,2xYGC05S9q0TpIUMGmge86,4aeNplk17LOYkpcWLplHbz,1xKUoIR6vVW1E2ycxk41kS,3Vr3zh0r7ALn8VLqCiRR10,2TeEhtmhMQmUyQJhnJNvAs,0Zzr3li70oEAAjAMHVQcrn,0OJSpc2sAMum8ar38fD0d6 with Params: {} returned 403 due to None\n"
     ]
    },
    {
     "name": "stdout",
     "output_type": "stream",
     "text": [
      "🔑 Auth error detected, attempting to refresh token...\n",
      "🔄 Refreshing authentication token...\n",
      "\n",
      "Processing chunk 93/1491 (10 tracks)\n"
     ]
    },
    {
     "name": "stderr",
     "output_type": "stream",
     "text": [
      "HTTP Error for GET to https://api.spotify.com/v1/audio-features/?ids=3VuwZNTCD0ZNIl3GSnreLC,6xn48TLeeMQSAVkFzgkS9N,2Pdo1VvYDB9FqeuNx8D1FW,3E3pS2WNqkcfFGAl0ejTwo,0Dl3Hwnp08QTYX3KznxK3o,3G6hD9B2ZHOsgf4WfNu7X1,0duALa6UlxVWqEqpmhv73p,30eS1OMhxljhaN4mScDrla,0zYb5DGTMZdLiYRnpF7I0y,4bN1Wo5cRheM2YWWdG1ax0 with Params: {} returned 403 due to None\n"
     ]
    },
    {
     "name": "stdout",
     "output_type": "stream",
     "text": [
      "🔑 Auth error detected, attempting to refresh token...\n",
      "🔄 Refreshing authentication token...\n",
      "\n",
      "Processing chunk 93/1491 (10 tracks)\n"
     ]
    },
    {
     "name": "stderr",
     "output_type": "stream",
     "text": [
      "HTTP Error for GET to https://api.spotify.com/v1/audio-features/?ids=3VuwZNTCD0ZNIl3GSnreLC,6xn48TLeeMQSAVkFzgkS9N,2Pdo1VvYDB9FqeuNx8D1FW,3E3pS2WNqkcfFGAl0ejTwo,0Dl3Hwnp08QTYX3KznxK3o,3G6hD9B2ZHOsgf4WfNu7X1,0duALa6UlxVWqEqpmhv73p,30eS1OMhxljhaN4mScDrla,0zYb5DGTMZdLiYRnpF7I0y,4bN1Wo5cRheM2YWWdG1ax0 with Params: {} returned 403 due to None\n"
     ]
    },
    {
     "name": "stdout",
     "output_type": "stream",
     "text": [
      "🔑 Auth error detected, attempting to refresh token...\n",
      "🔄 Refreshing authentication token...\n",
      "\n",
      "Processing chunk 93/1491 (10 tracks)\n"
     ]
    },
    {
     "name": "stderr",
     "output_type": "stream",
     "text": [
      "HTTP Error for GET to https://api.spotify.com/v1/audio-features/?ids=3VuwZNTCD0ZNIl3GSnreLC,6xn48TLeeMQSAVkFzgkS9N,2Pdo1VvYDB9FqeuNx8D1FW,3E3pS2WNqkcfFGAl0ejTwo,0Dl3Hwnp08QTYX3KznxK3o,3G6hD9B2ZHOsgf4WfNu7X1,0duALa6UlxVWqEqpmhv73p,30eS1OMhxljhaN4mScDrla,0zYb5DGTMZdLiYRnpF7I0y,4bN1Wo5cRheM2YWWdG1ax0 with Params: {} returned 403 due to None\n"
     ]
    },
    {
     "name": "stdout",
     "output_type": "stream",
     "text": [
      "🔑 Auth error detected, attempting to refresh token...\n",
      "🔄 Refreshing authentication token...\n",
      "\n",
      "Processing chunk 94/1491 (10 tracks)\n"
     ]
    },
    {
     "name": "stderr",
     "output_type": "stream",
     "text": [
      "HTTP Error for GET to https://api.spotify.com/v1/audio-features/?ids=78oBdUBhJ0eCv8B1ONWw7c,65T1aY3I9qfNUDVAnaM9bq,2fpM6NQsIAyayu25P0puTd,0z25tUQgEI4cIyNZ1TgWig,4DX23lHNI67qfdRSB4gy4h,4JiVMOtpj9HTQtXVr8L1gH,6mib3N4E8PZHAGQ3xy7bho,4MYOUp8dV0frG0rgxs7HMi,24zGCRo8XIpi5Qdi987i2K,6fOQUcP0WQE9jj8Y59ASMi with Params: {} returned 403 due to None\n"
     ]
    },
    {
     "name": "stdout",
     "output_type": "stream",
     "text": [
      "🔑 Auth error detected, attempting to refresh token...\n",
      "🔄 Refreshing authentication token...\n",
      "\n",
      "Processing chunk 94/1491 (10 tracks)\n",
      "❌ Error processing chunk: HTTPSConnectionPool(host='api.spotify.com', port=443): Max retries exceeded with url: /v1/audio-features/?ids=78oBdUBhJ0eCv8B1ONWw7c,65T1aY3I9qfNUDVAnaM9bq,2fpM6NQsIAyayu25P0puTd,0z25tUQgEI4cIyNZ1TgWig,4DX23lHNI67qfdRSB4gy4h,4JiVMOtpj9HTQtXVr8L1gH,6mib3N4E8PZHAGQ3xy7bho,4MYOUp8dV0frG0rgxs7HMi,24zGCRo8XIpi5Qdi987i2K,6fOQUcP0WQE9jj8Y59ASMi (Caused by NameResolutionError(\"<urllib3.connection.HTTPSConnection object at 0x0000017A2D41AA40>: Failed to resolve 'api.spotify.com' ([Errno 11001] getaddrinfo failed)\"))\n",
      "Retrying in 5 seconds... (Attempt 3/3)\n",
      "\n",
      "Processing chunk 94/1491 (10 tracks)\n",
      "🔑 Auth error detected, attempting to refresh token...\n",
      "🔄 Refreshing authentication token...\n",
      "\n",
      "Processing chunk 95/1491 (10 tracks)\n",
      "🔑 Auth error detected, attempting to refresh token...\n",
      "🔄 Refreshing authentication token...\n",
      "\n",
      "Processing chunk 95/1491 (10 tracks)\n",
      "🔑 Auth error detected, attempting to refresh token...\n",
      "🔄 Refreshing authentication token...\n",
      "\n",
      "Processing chunk 95/1491 (10 tracks)\n",
      "🔑 Auth error detected, attempting to refresh token...\n",
      "🔄 Refreshing authentication token...\n",
      "\n",
      "Processing chunk 96/1491 (10 tracks)\n",
      "🔑 Auth error detected, attempting to refresh token...\n",
      "🔄 Refreshing authentication token...\n",
      "\n",
      "Processing chunk 96/1491 (10 tracks)\n",
      "🔑 Auth error detected, attempting to refresh token...\n",
      "🔄 Refreshing authentication token...\n",
      "\n",
      "Processing chunk 96/1491 (10 tracks)\n",
      "🔑 Auth error detected, attempting to refresh token...\n",
      "🔄 Refreshing authentication token...\n",
      "\n",
      "Processing chunk 97/1491 (10 tracks)\n",
      "🔑 Auth error detected, attempting to refresh token...\n",
      "🔄 Refreshing authentication token...\n",
      "\n",
      "Processing chunk 97/1491 (10 tracks)\n",
      "🔑 Auth error detected, attempting to refresh token...\n",
      "🔄 Refreshing authentication token...\n",
      "\n",
      "Processing chunk 97/1491 (10 tracks)\n"
     ]
    },
    {
     "name": "stderr",
     "output_type": "stream",
     "text": [
      "HTTP Error for GET to https://api.spotify.com/v1/audio-features/?ids=6GG73Jik4jUlQCkKg9JuGO,2VHrLkH8cCmdGqZKF4mei5,5r8SYg3CHqMHlCNSgnCvBo,0gFwtv0v0im3LEiX6k1SyA,4joDFrA2AHeaPVNSMJioU8,4oNuqC18CxyqM4JbPo8Av1,5P5HJWMaiXG2kyfz35i1Hf,3t4IkHfT4eXZggkupi4SUe,0Z3xhSOhrawLV81YdiDiiJ,27SF86WulfWaNIJmhsRE8f with Params: {} returned 403 due to None\n"
     ]
    },
    {
     "name": "stdout",
     "output_type": "stream",
     "text": [
      "🔑 Auth error detected, attempting to refresh token...\n",
      "🔄 Refreshing authentication token...\n",
      "\n",
      "Processing chunk 98/1491 (10 tracks)\n"
     ]
    },
    {
     "name": "stderr",
     "output_type": "stream",
     "text": [
      "HTTP Error for GET to https://api.spotify.com/v1/audio-features/?ids=2M8IvrzqvNMAJsAx7UYwXK,7GuoIxCccDF44lzRdhsycf,65l3mI7YNuatZ9dYbJi89H,4jacsL77ZYnpInmTtUBaJW,067ogyD1BIeZDh4UD0yV3Y,5m1YsTxa9oSdmNVmgX1J7Y,6kls8cSlUyHW2BUOkDJIZE,0OLNfqtgqTDv4KeCzVrSH5,3glxhrtQiAeNtla0vtxEo2,0OQZiRDO3ymmhUpzrFY0dr with Params: {} returned 403 due to None\n"
     ]
    },
    {
     "name": "stdout",
     "output_type": "stream",
     "text": [
      "🔑 Auth error detected, attempting to refresh token...\n",
      "🔄 Refreshing authentication token...\n",
      "\n",
      "Processing chunk 98/1491 (10 tracks)\n"
     ]
    },
    {
     "name": "stderr",
     "output_type": "stream",
     "text": [
      "HTTP Error for GET to https://api.spotify.com/v1/audio-features/?ids=2M8IvrzqvNMAJsAx7UYwXK,7GuoIxCccDF44lzRdhsycf,65l3mI7YNuatZ9dYbJi89H,4jacsL77ZYnpInmTtUBaJW,067ogyD1BIeZDh4UD0yV3Y,5m1YsTxa9oSdmNVmgX1J7Y,6kls8cSlUyHW2BUOkDJIZE,0OLNfqtgqTDv4KeCzVrSH5,3glxhrtQiAeNtla0vtxEo2,0OQZiRDO3ymmhUpzrFY0dr with Params: {} returned 403 due to None\n"
     ]
    },
    {
     "name": "stdout",
     "output_type": "stream",
     "text": [
      "🔑 Auth error detected, attempting to refresh token...\n",
      "🔄 Refreshing authentication token...\n",
      "\n",
      "Processing chunk 98/1491 (10 tracks)\n"
     ]
    },
    {
     "name": "stderr",
     "output_type": "stream",
     "text": [
      "HTTP Error for GET to https://api.spotify.com/v1/audio-features/?ids=2M8IvrzqvNMAJsAx7UYwXK,7GuoIxCccDF44lzRdhsycf,65l3mI7YNuatZ9dYbJi89H,4jacsL77ZYnpInmTtUBaJW,067ogyD1BIeZDh4UD0yV3Y,5m1YsTxa9oSdmNVmgX1J7Y,6kls8cSlUyHW2BUOkDJIZE,0OLNfqtgqTDv4KeCzVrSH5,3glxhrtQiAeNtla0vtxEo2,0OQZiRDO3ymmhUpzrFY0dr with Params: {} returned 403 due to None\n"
     ]
    },
    {
     "name": "stdout",
     "output_type": "stream",
     "text": [
      "🔑 Auth error detected, attempting to refresh token...\n",
      "🔄 Refreshing authentication token...\n",
      "\n",
      "Processing chunk 99/1491 (10 tracks)\n"
     ]
    }
   ],
   "source": [
    "# Get audio features for unique tracks\n",
    "if track_ids:\n",
    "    print(f\"\\n=== Starting Audio Features Collection ===\")\n",
    "    print(f\"Total unique tracks to process: {len(track_ids)}\")\n",
    "    audio_features = get_audio_features(list(track_ids))\n",
    "\n",
    "    # Convert to DataFrame with error handling\n",
    "    if audio_features:\n",
    "        audio_features_df = pd.DataFrame(audio_features)\n",
    "        success_rate = (len(audio_features_df) / len(track_ids)) * 100\n",
    "        print(f\"\\n✅ Successfully collected audio features for {len(audio_features_df)}/{len(track_ids)} tracks ({success_rate:.1f}%)\")\n",
    "    else:\n",
    "        print(\"\\n❌ No audio features collected\")\n",
    "        audio_features_df = pd.DataFrame()\n",
    "else:\n",
    "    print(\"\\nℹ️ No track IDs to process\")\n",
    "    audio_features_df = pd.DataFrame()"
   ]
  },
  {
   "cell_type": "markdown",
   "id": "1f2b05bc",
   "metadata": {},
   "source": [
    "## Save Raw Data\n",
    "\n",
    "Save the collected data to files in the raw data directory."
   ]
  },
  {
   "cell_type": "code",
   "execution_count": null,
   "id": "9f65af51",
   "metadata": {},
   "outputs": [],
   "source": [
    "# Create data directory if it doesn't exist\n",
    "data_dir = os.path.join('..', 'data', 'raw')\n",
    "os.makedirs(data_dir, exist_ok=True)\n",
    "\n",
    "# Create timestamp for file names\n",
    "timestamp = datetime.now().strftime('%Y%m%d_%H%M%S')\n",
    "\n",
    "try:\n",
    "    # Save playlists data\n",
    "    if not playlists_df.empty:\n",
    "        playlists_file = os.path.join(data_dir, f'playlists_{timestamp}.csv')\n",
    "        playlists_df.to_csv(playlists_file, index=False)\n",
    "        print(f\"✅ Saved {len(playlists_df)} playlists to {playlists_file}\")\n",
    "\n",
    "    # Save tracks data\n",
    "    if not tracks_df.empty:\n",
    "        tracks_file = os.path.join(data_dir, f'tracks_{timestamp}.csv')\n",
    "        tracks_df.to_csv(tracks_file, index=False)\n",
    "        print(f\"✅ Saved {len(tracks_df)} tracks to {tracks_file}\")\n",
    "\n",
    "    # Save audio features data\n",
    "    if not audio_features_df.empty:\n",
    "        features_file = os.path.join(data_dir, f'audio_features_{timestamp}.csv')\n",
    "        audio_features_df.to_csv(features_file, index=False)\n",
    "        print(f\"✅ Saved {len(audio_features_df)} audio features to {features_file}\")\n",
    "    \n",
    "    print(f\"\\nData collection completed successfully at {timestamp}\")\n",
    "except Exception as e:\n",
    "    print(f\"❌ Error saving data: {str(e)}\")"
   ]
  }
 ],
 "metadata": {
  "kernelspec": {
   "display_name": "Python 3",
   "language": "python",
   "name": "python3"
  },
  "language_info": {
   "codemirror_mode": {
    "name": "ipython",
    "version": 3
   },
   "file_extension": ".py",
   "mimetype": "text/x-python",
   "name": "python",
   "nbconvert_exporter": "python",
   "pygments_lexer": "ipython3",
   "version": "3.10.0"
  }
 },
 "nbformat": 4,
 "nbformat_minor": 5
}
